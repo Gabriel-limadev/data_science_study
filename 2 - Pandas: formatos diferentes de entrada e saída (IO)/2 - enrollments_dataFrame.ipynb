{
 "cells": [
  {
   "cell_type": "markdown",
   "id": "dfe74ecc",
   "metadata": {},
   "source": [
    "## installing depedencies"
   ]
  },
  {
   "cell_type": "code",
   "execution_count": 1,
   "id": "8f85f5d9",
   "metadata": {},
   "outputs": [
    {
     "name": "stdout",
     "output_type": "stream",
     "text": [
      "Requirement already satisfied: seaborn in /home/gabriel-liamdev/anaconda3/lib/python3.9/site-packages (0.11.2)\n",
      "Requirement already satisfied: scipy>=1.0 in /home/gabriel-liamdev/anaconda3/lib/python3.9/site-packages (from seaborn) (1.7.3)\n",
      "Requirement already satisfied: numpy>=1.15 in /home/gabriel-liamdev/anaconda3/lib/python3.9/site-packages (from seaborn) (1.21.5)\n",
      "Requirement already satisfied: pandas>=0.23 in /home/gabriel-liamdev/anaconda3/lib/python3.9/site-packages (from seaborn) (1.4.2)\n",
      "Requirement already satisfied: matplotlib>=2.2 in /home/gabriel-liamdev/anaconda3/lib/python3.9/site-packages (from seaborn) (3.5.1)\n",
      "Requirement already satisfied: cycler>=0.10 in /home/gabriel-liamdev/anaconda3/lib/python3.9/site-packages (from matplotlib>=2.2->seaborn) (0.11.0)\n",
      "Requirement already satisfied: fonttools>=4.22.0 in /home/gabriel-liamdev/anaconda3/lib/python3.9/site-packages (from matplotlib>=2.2->seaborn) (4.25.0)\n",
      "Requirement already satisfied: pyparsing>=2.2.1 in /home/gabriel-liamdev/anaconda3/lib/python3.9/site-packages (from matplotlib>=2.2->seaborn) (3.0.4)\n",
      "Requirement already satisfied: kiwisolver>=1.0.1 in /home/gabriel-liamdev/anaconda3/lib/python3.9/site-packages (from matplotlib>=2.2->seaborn) (1.3.2)\n",
      "Requirement already satisfied: pillow>=6.2.0 in /home/gabriel-liamdev/anaconda3/lib/python3.9/site-packages (from matplotlib>=2.2->seaborn) (9.0.1)\n",
      "Requirement already satisfied: python-dateutil>=2.7 in /home/gabriel-liamdev/anaconda3/lib/python3.9/site-packages (from matplotlib>=2.2->seaborn) (2.8.2)\n",
      "Requirement already satisfied: packaging>=20.0 in /home/gabriel-liamdev/anaconda3/lib/python3.9/site-packages (from matplotlib>=2.2->seaborn) (21.3)\n",
      "Requirement already satisfied: pytz>=2020.1 in /home/gabriel-liamdev/anaconda3/lib/python3.9/site-packages (from pandas>=0.23->seaborn) (2021.3)\n",
      "Requirement already satisfied: six>=1.5 in /home/gabriel-liamdev/anaconda3/lib/python3.9/site-packages (from python-dateutil>=2.7->matplotlib>=2.2->seaborn) (1.16.0)\n"
     ]
    }
   ],
   "source": [
    "!pip3 install seaborn"
   ]
  },
  {
   "cell_type": "code",
   "execution_count": 2,
   "id": "f76cbfd0",
   "metadata": {},
   "outputs": [],
   "source": [
    "import pandas as pd\n",
    "\n",
    "students = pd.read_json('data/students.json')\n",
    "courses  = pd.read_json('data/courses.json')"
   ]
  },
  {
   "cell_type": "markdown",
   "id": "4e57b9ec",
   "metadata": {},
   "source": [
    "## registring the students in the course"
   ]
  },
  {
   "cell_type": "code",
   "execution_count": 3,
   "id": "cc6c419e",
   "metadata": {},
   "outputs": [
    {
     "data": {
      "text/plain": [
       "count    40.000000\n",
       "mean      2.225000\n",
       "std       1.510434\n",
       "min       1.000000\n",
       "25%       1.000000\n",
       "50%       2.000000\n",
       "75%       3.000000\n",
       "max       7.000000\n",
       "Name: enrollment, dtype: float64"
      ]
     },
     "execution_count": 3,
     "metadata": {},
     "output_type": "execute_result"
    }
   ],
   "source": [
    "import numpy as np\n",
    "\n",
    "# Creating \"enrollment variable\" -> this is the courses amount for each student \n",
    "students['enrollment'] = np.ceil(np.random.exponential(size = len(students)) * 1.5).astype(int)\n",
    "students['enrollment'].describe()"
   ]
  },
  {
   "cell_type": "code",
   "execution_count": 4,
   "id": "b7b66c8f",
   "metadata": {},
   "outputs": [
    {
     "data": {
      "text/html": [
       "<div>\n",
       "<style scoped>\n",
       "    .dataframe tbody tr th:only-of-type {\n",
       "        vertical-align: middle;\n",
       "    }\n",
       "\n",
       "    .dataframe tbody tr th {\n",
       "        vertical-align: top;\n",
       "    }\n",
       "\n",
       "    .dataframe thead th {\n",
       "        text-align: right;\n",
       "    }\n",
       "</style>\n",
       "<table border=\"1\" class=\"dataframe\">\n",
       "  <thead>\n",
       "    <tr style=\"text-align: right;\">\n",
       "      <th></th>\n",
       "      <th>nome</th>\n",
       "      <th>studentsID</th>\n",
       "      <th>domain</th>\n",
       "      <th>email</th>\n",
       "      <th>enrollment</th>\n",
       "    </tr>\n",
       "  </thead>\n",
       "  <tbody>\n",
       "    <tr>\n",
       "      <th>0</th>\n",
       "      <td>MARIA</td>\n",
       "      <td>30</td>\n",
       "      <td>@serviceemail.com</td>\n",
       "      <td>maria@serviceemail.com</td>\n",
       "      <td>2</td>\n",
       "    </tr>\n",
       "    <tr>\n",
       "      <th>1</th>\n",
       "      <td>ANA</td>\n",
       "      <td>33</td>\n",
       "      <td>@serviceemail.com</td>\n",
       "      <td>ana@serviceemail.com</td>\n",
       "      <td>3</td>\n",
       "    </tr>\n",
       "    <tr>\n",
       "      <th>2</th>\n",
       "      <td>FRANCISCA</td>\n",
       "      <td>23</td>\n",
       "      <td>@domainemail.com.br</td>\n",
       "      <td>francisca@domainemail.com.br</td>\n",
       "      <td>3</td>\n",
       "    </tr>\n",
       "    <tr>\n",
       "      <th>3</th>\n",
       "      <td>ANTONIA</td>\n",
       "      <td>27</td>\n",
       "      <td>@serviceemail.com</td>\n",
       "      <td>antonia@serviceemail.com</td>\n",
       "      <td>4</td>\n",
       "    </tr>\n",
       "    <tr>\n",
       "      <th>4</th>\n",
       "      <td>ADRIANA</td>\n",
       "      <td>20</td>\n",
       "      <td>@serviceemail.com</td>\n",
       "      <td>adriana@serviceemail.com</td>\n",
       "      <td>1</td>\n",
       "    </tr>\n",
       "  </tbody>\n",
       "</table>\n",
       "</div>"
      ],
      "text/plain": [
       "        nome  studentsID               domain                         email  \\\n",
       "0      MARIA          30    @serviceemail.com        maria@serviceemail.com   \n",
       "1        ANA          33    @serviceemail.com          ana@serviceemail.com   \n",
       "2  FRANCISCA          23  @domainemail.com.br  francisca@domainemail.com.br   \n",
       "3    ANTONIA          27    @serviceemail.com      antonia@serviceemail.com   \n",
       "4    ADRIANA          20    @serviceemail.com      adriana@serviceemail.com   \n",
       "\n",
       "   enrollment  \n",
       "0           2  \n",
       "1           3  \n",
       "2           3  \n",
       "3           4  \n",
       "4           1  "
      ]
     },
     "execution_count": 4,
     "metadata": {},
     "output_type": "execute_result"
    }
   ],
   "source": [
    "students.head()"
   ]
  },
  {
   "cell_type": "markdown",
   "id": "5e80eddb",
   "metadata": {},
   "source": [
    "## Using seaborn"
   ]
  },
  {
   "cell_type": "code",
   "execution_count": 5,
   "id": "ebc8781f",
   "metadata": {},
   "outputs": [
    {
     "data": {
      "text/plain": [
       "<seaborn.axisgrid.FacetGrid at 0x7f01d9f03160>"
      ]
     },
     "execution_count": 5,
     "metadata": {},
     "output_type": "execute_result"
    },
    {
     "data": {
      "image/png": "[encoded data removed]",
      "text/plain": [
       "<Figure size 360x360 with 1 Axes>"
      ]
     },
     "metadata": {
      "needs_background": "light"
     },
     "output_type": "display_data"
    }
   ],
   "source": [
    "import seaborn as sns\n",
    "\n",
    "sns.displot(students['enrollment'])"
   ]
  },
  {
   "cell_type": "code",
   "execution_count": 6,
   "id": "933ecc51",
   "metadata": {},
   "outputs": [
    {
     "data": {
      "text/plain": [
       "1    16\n",
       "2    12\n",
       "3     6\n",
       "4     3\n",
       "6     2\n",
       "7     1\n",
       "Name: enrollment, dtype: int64"
      ]
     },
     "execution_count": 6,
     "metadata": {},
     "output_type": "execute_result"
    }
   ],
   "source": [
    "students['enrollment'].value_counts()"
   ]
  },
  {
   "cell_type": "markdown",
   "id": "d5e4732d",
   "metadata": {},
   "source": [
    "## Selecting courses"
   ]
  },
  {
   "cell_type": "code",
   "execution_count": 7,
   "id": "0cba2c00",
   "metadata": {},
   "outputs": [
    {
     "data": {
      "text/html": [
       "<div>\n",
       "<style scoped>\n",
       "    .dataframe tbody tr th:only-of-type {\n",
       "        vertical-align: middle;\n",
       "    }\n",
       "\n",
       "    .dataframe tbody tr th {\n",
       "        vertical-align: top;\n",
       "    }\n",
       "\n",
       "    .dataframe thead th {\n",
       "        text-align: right;\n",
       "    }\n",
       "</style>\n",
       "<table border=\"1\" class=\"dataframe\">\n",
       "  <thead>\n",
       "    <tr style=\"text-align: right;\">\n",
       "      <th></th>\n",
       "      <th>nome</th>\n",
       "      <th>studentsID</th>\n",
       "      <th>domain</th>\n",
       "      <th>email</th>\n",
       "      <th>enrollment</th>\n",
       "    </tr>\n",
       "  </thead>\n",
       "  <tbody>\n",
       "    <tr>\n",
       "      <th>20</th>\n",
       "      <td>JOSE</td>\n",
       "      <td>2</td>\n",
       "      <td>@serviceemail.com</td>\n",
       "      <td>jose@serviceemail.com</td>\n",
       "      <td>1</td>\n",
       "    </tr>\n",
       "    <tr>\n",
       "      <th>18</th>\n",
       "      <td>VANESSA</td>\n",
       "      <td>11</td>\n",
       "      <td>@serviceemail.com</td>\n",
       "      <td>vanessa@serviceemail.com</td>\n",
       "      <td>1</td>\n",
       "    </tr>\n",
       "    <tr>\n",
       "      <th>33</th>\n",
       "      <td>DANIEL</td>\n",
       "      <td>16</td>\n",
       "      <td>@domainemail.com.br</td>\n",
       "      <td>daniel@domainemail.com.br</td>\n",
       "      <td>4</td>\n",
       "    </tr>\n",
       "    <tr>\n",
       "      <th>21</th>\n",
       "      <td>JOAO</td>\n",
       "      <td>8</td>\n",
       "      <td>@serviceemail.com</td>\n",
       "      <td>joao@serviceemail.com</td>\n",
       "      <td>2</td>\n",
       "    </tr>\n",
       "    <tr>\n",
       "      <th>15</th>\n",
       "      <td>LETICIA</td>\n",
       "      <td>4</td>\n",
       "      <td>@serviceemail.com</td>\n",
       "      <td>leticia@serviceemail.com</td>\n",
       "      <td>2</td>\n",
       "    </tr>\n",
       "  </tbody>\n",
       "</table>\n",
       "</div>"
      ],
      "text/plain": [
       "       nome  studentsID               domain                      email  \\\n",
       "20     JOSE           2    @serviceemail.com      jose@serviceemail.com   \n",
       "18  VANESSA          11    @serviceemail.com   vanessa@serviceemail.com   \n",
       "33   DANIEL          16  @domainemail.com.br  daniel@domainemail.com.br   \n",
       "21     JOAO           8    @serviceemail.com      joao@serviceemail.com   \n",
       "15  LETICIA           4    @serviceemail.com   leticia@serviceemail.com   \n",
       "\n",
       "    enrollment  \n",
       "20           1  \n",
       "18           1  \n",
       "33           4  \n",
       "21           2  \n",
       "15           2  "
      ]
     },
     "execution_count": 7,
     "metadata": {},
     "output_type": "execute_result"
    }
   ],
   "source": [
    "students.sample(5)"
   ]
  },
  {
   "cell_type": "code",
   "execution_count": 8,
   "id": "13c00025",
   "metadata": {},
   "outputs": [],
   "source": [
    "all_enrollments = [] # variable for all courses\n",
    "x = np.random.rand(20) # array with 20 numbers randons\n",
    "prob = x / sum(x) # variable with the probability"
   ]
  },
  {
   "cell_type": "code",
   "execution_count": 9,
   "id": "68a9ae5a",
   "metadata": {},
   "outputs": [],
   "source": [
    "\"\"\"\n",
    "    This \"for\" works for fill the \"all_enrollments\" variable with the relation between students and yours courses  \n",
    "    - iterrows() -> Mode for iterate in each row\n",
    "\"\"\" \n",
    "\n",
    "\n",
    "for index, row in students.iterrows():\n",
    "    id = row.studentsID\n",
    "    enrollments = row.enrollment\n",
    "    for i in range(enrollments):\n",
    "        enrollment = [id, np.random.choice(courses.index, p = prob)]\n",
    "        all_enrollments.append(enrollment)\n",
    "        \n",
    "# creating dataframe with \"all_enrollments\" variable filled\n",
    "enrollments = pd.DataFrame(all_enrollments, columns = ['studentsID', 'coursesID'])"
   ]
  },
  {
   "cell_type": "code",
   "execution_count": 10,
   "id": "f74b1177",
   "metadata": {},
   "outputs": [
    {
     "data": {
      "text/html": [
       "<div>\n",
       "<style scoped>\n",
       "    .dataframe tbody tr th:only-of-type {\n",
       "        vertical-align: middle;\n",
       "    }\n",
       "\n",
       "    .dataframe tbody tr th {\n",
       "        vertical-align: top;\n",
       "    }\n",
       "\n",
       "    .dataframe thead th {\n",
       "        text-align: right;\n",
       "    }\n",
       "</style>\n",
       "<table border=\"1\" class=\"dataframe\">\n",
       "  <thead>\n",
       "    <tr style=\"text-align: right;\">\n",
       "      <th></th>\n",
       "      <th>studentsID</th>\n",
       "      <th>coursesID</th>\n",
       "    </tr>\n",
       "  </thead>\n",
       "  <tbody>\n",
       "    <tr>\n",
       "      <th>0</th>\n",
       "      <td>30</td>\n",
       "      <td>3</td>\n",
       "    </tr>\n",
       "    <tr>\n",
       "      <th>1</th>\n",
       "      <td>30</td>\n",
       "      <td>15</td>\n",
       "    </tr>\n",
       "    <tr>\n",
       "      <th>2</th>\n",
       "      <td>33</td>\n",
       "      <td>7</td>\n",
       "    </tr>\n",
       "    <tr>\n",
       "      <th>3</th>\n",
       "      <td>33</td>\n",
       "      <td>7</td>\n",
       "    </tr>\n",
       "    <tr>\n",
       "      <th>4</th>\n",
       "      <td>33</td>\n",
       "      <td>14</td>\n",
       "    </tr>\n",
       "  </tbody>\n",
       "</table>\n",
       "</div>"
      ],
      "text/plain": [
       "   studentsID  coursesID\n",
       "0          30          3\n",
       "1          30         15\n",
       "2          33          7\n",
       "3          33          7\n",
       "4          33         14"
      ]
     },
     "execution_count": 10,
     "metadata": {},
     "output_type": "execute_result"
    }
   ],
   "source": [
    "enrollments.head()"
   ]
  },
  {
   "cell_type": "code",
   "execution_count": 11,
   "id": "8a05e285",
   "metadata": {},
   "outputs": [
    {
     "data": {
      "text/html": [
       "<div>\n",
       "<style scoped>\n",
       "    .dataframe tbody tr th:only-of-type {\n",
       "        vertical-align: middle;\n",
       "    }\n",
       "\n",
       "    .dataframe tbody tr th {\n",
       "        vertical-align: top;\n",
       "    }\n",
       "\n",
       "    .dataframe thead th {\n",
       "        text-align: right;\n",
       "    }\n",
       "</style>\n",
       "<table border=\"1\" class=\"dataframe\">\n",
       "  <thead>\n",
       "    <tr style=\"text-align: right;\">\n",
       "      <th></th>\n",
       "      <th>number of students</th>\n",
       "      <th>courses_name</th>\n",
       "    </tr>\n",
       "    <tr>\n",
       "      <th>coursesID</th>\n",
       "      <th></th>\n",
       "      <th></th>\n",
       "    </tr>\n",
       "  </thead>\n",
       "  <tbody>\n",
       "    <tr>\n",
       "      <th>1</th>\n",
       "      <td>3</td>\n",
       "      <td>Lógica de programação</td>\n",
       "    </tr>\n",
       "    <tr>\n",
       "      <th>2</th>\n",
       "      <td>3</td>\n",
       "      <td>Java para Web</td>\n",
       "    </tr>\n",
       "    <tr>\n",
       "      <th>3</th>\n",
       "      <td>9</td>\n",
       "      <td>C# para Web</td>\n",
       "    </tr>\n",
       "    <tr>\n",
       "      <th>4</th>\n",
       "      <td>1</td>\n",
       "      <td>Ruby on Rails</td>\n",
       "    </tr>\n",
       "    <tr>\n",
       "      <th>5</th>\n",
       "      <td>6</td>\n",
       "      <td>Cursos de Python</td>\n",
       "    </tr>\n",
       "  </tbody>\n",
       "</table>\n",
       "</div>"
      ],
      "text/plain": [
       "           number of students           courses_name\n",
       "coursesID                                           \n",
       "1                           3  Lógica de programação\n",
       "2                           3          Java para Web\n",
       "3                           9            C# para Web\n",
       "4                           1          Ruby on Rails\n",
       "5                           6       Cursos de Python"
      ]
     },
     "execution_count": 11,
     "metadata": {},
     "output_type": "execute_result"
    }
   ],
   "source": [
    "# Creating a new DataFrame with the students mount for each course\n",
    "# Here was used .groupby and .count for realize the operation\n",
    "# and was used .join for create a variable with course description\n",
    "\n",
    "enrollments_per_course = enrollments.groupby('coursesID').count().join(courses['courses_name']).rename(\n",
    "    columns={\n",
    "        'studentsID': 'number of students'\n",
    "    }\n",
    ")\n",
    "\n",
    "enrollments_per_course.head()"
   ]
  },
  {
   "cell_type": "markdown",
   "id": "afc4aace",
   "metadata": {},
   "source": [
    "## Exporting "
   ]
  },
  {
   "cell_type": "code",
   "execution_count": 12,
   "id": "37cd1b61",
   "metadata": {},
   "outputs": [],
   "source": [
    "enrollments.to_json('data/enrollments.json')\n",
    "enrollments_per_course.to_json('data/enrollments_per_course.json')"
   ]
  }
 ],
 "metadata": {
  "kernelspec": {
   "display_name": "Python 3 (ipykernel)",
   "language": "python",
   "name": "python3"
  },
  "language_info": {
   "codemirror_mode": {
    "name": "ipython",
    "version": 3
   },
   "file_extension": ".py",
   "mimetype": "text/x-python",
   "name": "python",
   "nbconvert_exporter": "python",
   "pygments_lexer": "ipython3",
   "version": "3.10.4"
  }
 },
 "nbformat": 4,
 "nbformat_minor": 5
}
