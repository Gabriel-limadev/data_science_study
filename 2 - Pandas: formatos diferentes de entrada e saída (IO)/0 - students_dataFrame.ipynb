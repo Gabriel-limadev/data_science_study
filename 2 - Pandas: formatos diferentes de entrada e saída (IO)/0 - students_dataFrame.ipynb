{
 "cells": [
  {
   "cell_type": "code",
   "execution_count": null,
   "id": "ecbf8c15",
   "metadata": {},
   "outputs": [],
   "source": [
    "# Manipulation of students data"
   ]
  },
  {
   "cell_type": "code",
   "execution_count": 2,
   "id": "a0af4230",
   "metadata": {},
   "outputs": [],
   "source": [
    "import pandas as pd\n",
    "\n",
    "female_names = pd.read_json(\"https://servicodados.ibge.gov.br/api/v1/censos/nomes/ranking?qtd=20&sexo=f\")\n",
    "male_names   = pd.read_json(\"https://servicodados.ibge.gov.br/api/v1/censos/nomes/ranking?qtd=20&sexo=m\")"
   ]
  },
  {
   "cell_type": "markdown",
   "id": "0684dffd",
   "metadata": {},
   "source": [
    "## .sample"
   ]
  },
  {
   "cell_type": "code",
   "execution_count": 3,
   "id": "dfbca8d6",
   "metadata": {},
   "outputs": [
    {
     "data": {
      "text/html": [
       "<div>\n",
       "<style scoped>\n",
       "    .dataframe tbody tr th:only-of-type {\n",
       "        vertical-align: middle;\n",
       "    }\n",
       "\n",
       "    .dataframe tbody tr th {\n",
       "        vertical-align: top;\n",
       "    }\n",
       "\n",
       "    .dataframe thead th {\n",
       "        text-align: right;\n",
       "    }\n",
       "</style>\n",
       "<table border=\"1\" class=\"dataframe\">\n",
       "  <thead>\n",
       "    <tr style=\"text-align: right;\">\n",
       "      <th></th>\n",
       "      <th>nome</th>\n",
       "      <th>regiao</th>\n",
       "      <th>freq</th>\n",
       "      <th>rank</th>\n",
       "      <th>sexo</th>\n",
       "    </tr>\n",
       "  </thead>\n",
       "  <tbody>\n",
       "    <tr>\n",
       "      <th>13</th>\n",
       "      <td>BRUNA</td>\n",
       "      <td>0</td>\n",
       "      <td>460770</td>\n",
       "      <td>14</td>\n",
       "      <td>F</td>\n",
       "    </tr>\n",
       "    <tr>\n",
       "      <th>19</th>\n",
       "      <td>MARIANA</td>\n",
       "      <td>0</td>\n",
       "      <td>381778</td>\n",
       "      <td>20</td>\n",
       "      <td>F</td>\n",
       "    </tr>\n",
       "    <tr>\n",
       "      <th>17</th>\n",
       "      <td>LUCIANA</td>\n",
       "      <td>0</td>\n",
       "      <td>429769</td>\n",
       "      <td>18</td>\n",
       "      <td>F</td>\n",
       "    </tr>\n",
       "    <tr>\n",
       "      <th>4</th>\n",
       "      <td>ADRIANA</td>\n",
       "      <td>0</td>\n",
       "      <td>565621</td>\n",
       "      <td>5</td>\n",
       "      <td>F</td>\n",
       "    </tr>\n",
       "    <tr>\n",
       "      <th>3</th>\n",
       "      <td>ANTONIA</td>\n",
       "      <td>0</td>\n",
       "      <td>588783</td>\n",
       "      <td>4</td>\n",
       "      <td>F</td>\n",
       "    </tr>\n",
       "  </tbody>\n",
       "</table>\n",
       "</div>"
      ],
      "text/plain": [
       "       nome  regiao    freq  rank sexo\n",
       "13    BRUNA       0  460770    14    F\n",
       "19  MARIANA       0  381778    20    F\n",
       "17  LUCIANA       0  429769    18    F\n",
       "4   ADRIANA       0  565621     5    F\n",
       "3   ANTONIA       0  588783     4    F"
      ]
     },
     "execution_count": 3,
     "metadata": {},
     "output_type": "execute_result"
    }
   ],
   "source": [
    "female_names.sample(5)"
   ]
  },
  {
   "cell_type": "code",
   "execution_count": 4,
   "id": "8de6e49e",
   "metadata": {},
   "outputs": [
    {
     "name": "stdout",
     "output_type": "stream",
     "text": [
      "Number of names: 40\n"
     ]
    }
   ],
   "source": [
    "print(f'Number of names: {len(female_names) + len(male_names)}')"
   ]
  },
  {
   "cell_type": "markdown",
   "id": "671e460e",
   "metadata": {},
   "source": [
    "## .concat"
   ]
  },
  {
   "cell_type": "code",
   "execution_count": 17,
   "id": "36844869",
   "metadata": {},
   "outputs": [],
   "source": [
    "frames = [female_names, male_names]\n",
    "\n",
    "names = pd.concat(frames)['nome'].to_frame()"
   ]
  },
  {
   "cell_type": "markdown",
   "id": "97b0bf70",
   "metadata": {},
   "source": [
    "## Including studentsID and changing index "
   ]
  },
  {
   "cell_type": "code",
   "execution_count": 18,
   "id": "6ffb0361",
   "metadata": {},
   "outputs": [],
   "source": [
    "import numpy as np"
   ]
  },
  {
   "cell_type": "code",
   "execution_count": 20,
   "id": "4ed7ac3f",
   "metadata": {},
   "outputs": [
    {
     "data": {
      "text/html": [
       "<div>\n",
       "<style scoped>\n",
       "    .dataframe tbody tr th:only-of-type {\n",
       "        vertical-align: middle;\n",
       "    }\n",
       "\n",
       "    .dataframe tbody tr th {\n",
       "        vertical-align: top;\n",
       "    }\n",
       "\n",
       "    .dataframe thead th {\n",
       "        text-align: right;\n",
       "    }\n",
       "</style>\n",
       "<table border=\"1\" class=\"dataframe\">\n",
       "  <thead>\n",
       "    <tr style=\"text-align: right;\">\n",
       "      <th></th>\n",
       "      <th>nome</th>\n",
       "      <th>studentsID</th>\n",
       "    </tr>\n",
       "  </thead>\n",
       "  <tbody>\n",
       "    <tr>\n",
       "      <th>0</th>\n",
       "      <td>MARIA</td>\n",
       "      <td>9</td>\n",
       "    </tr>\n",
       "    <tr>\n",
       "      <th>1</th>\n",
       "      <td>ANA</td>\n",
       "      <td>36</td>\n",
       "    </tr>\n",
       "    <tr>\n",
       "      <th>2</th>\n",
       "      <td>FRANCISCA</td>\n",
       "      <td>21</td>\n",
       "    </tr>\n",
       "    <tr>\n",
       "      <th>3</th>\n",
       "      <td>ANTONIA</td>\n",
       "      <td>32</td>\n",
       "    </tr>\n",
       "    <tr>\n",
       "      <th>4</th>\n",
       "      <td>ADRIANA</td>\n",
       "      <td>29</td>\n",
       "    </tr>\n",
       "  </tbody>\n",
       "</table>\n",
       "</div>"
      ],
      "text/plain": [
       "        nome  studentsID\n",
       "0      MARIA           9\n",
       "1        ANA          36\n",
       "2  FRANCISCA          21\n",
       "3    ANTONIA          32\n",
       "4    ADRIANA          29"
      ]
     },
     "execution_count": 20,
     "metadata": {},
     "output_type": "execute_result"
    }
   ],
   "source": [
    "# organizing index\n",
    "names.index = range(names.shape[0])\n",
    "\n",
    "# Creating studentsID variable\n",
    "# np.random.permutation -> Create a random numbers in differents positions\n",
    "names['studentsID'] = np.random.permutation(len(names)) + 1\n",
    "names.head(5)"
   ]
  },
  {
   "cell_type": "markdown",
   "id": "4448e7da",
   "metadata": {},
   "source": [
    "## Creating domain variable "
   ]
  },
  {
   "cell_type": "code",
   "execution_count": 26,
   "id": "22545e2e",
   "metadata": {},
   "outputs": [
    {
     "data": {
      "text/html": [
       "<div>\n",
       "<style scoped>\n",
       "    .dataframe tbody tr th:only-of-type {\n",
       "        vertical-align: middle;\n",
       "    }\n",
       "\n",
       "    .dataframe tbody tr th {\n",
       "        vertical-align: top;\n",
       "    }\n",
       "\n",
       "    .dataframe thead th {\n",
       "        text-align: right;\n",
       "    }\n",
       "</style>\n",
       "<table border=\"1\" class=\"dataframe\">\n",
       "  <thead>\n",
       "    <tr style=\"text-align: right;\">\n",
       "      <th></th>\n",
       "      <th>nome</th>\n",
       "      <th>studentsID</th>\n",
       "      <th>domain</th>\n",
       "      <th>email</th>\n",
       "    </tr>\n",
       "  </thead>\n",
       "  <tbody>\n",
       "    <tr>\n",
       "      <th>26</th>\n",
       "      <td>PEDRO</td>\n",
       "      <td>23</td>\n",
       "      <td>@serviceemail.com</td>\n",
       "      <td>pedro@damailemail.com.br</td>\n",
       "    </tr>\n",
       "    <tr>\n",
       "      <th>19</th>\n",
       "      <td>MARIANA</td>\n",
       "      <td>7</td>\n",
       "      <td>@serviceemail.com</td>\n",
       "      <td>mariana@serviceemail.com</td>\n",
       "    </tr>\n",
       "    <tr>\n",
       "      <th>18</th>\n",
       "      <td>VANESSA</td>\n",
       "      <td>26</td>\n",
       "      <td>@domainemail.com.br</td>\n",
       "      <td>vanessa@serviceemail.com</td>\n",
       "    </tr>\n",
       "    <tr>\n",
       "      <th>14</th>\n",
       "      <td>JESSICA</td>\n",
       "      <td>24</td>\n",
       "      <td>@domainemail.com.br</td>\n",
       "      <td>jessica@serviceemail.com</td>\n",
       "    </tr>\n",
       "    <tr>\n",
       "      <th>31</th>\n",
       "      <td>GABRIEL</td>\n",
       "      <td>1</td>\n",
       "      <td>@serviceemail.com</td>\n",
       "      <td>gabriel@serviceemail.com</td>\n",
       "    </tr>\n",
       "  </tbody>\n",
       "</table>\n",
       "</div>"
      ],
      "text/plain": [
       "       nome  studentsID               domain                     email\n",
       "26    PEDRO          23    @serviceemail.com  pedro@damailemail.com.br\n",
       "19  MARIANA           7    @serviceemail.com  mariana@serviceemail.com\n",
       "18  VANESSA          26  @domainemail.com.br  vanessa@serviceemail.com\n",
       "14  JESSICA          24  @domainemail.com.br  jessica@serviceemail.com\n",
       "31  GABRIEL           1    @serviceemail.com  gabriel@serviceemail.com"
      ]
     },
     "execution_count": 26,
     "metadata": {},
     "output_type": "execute_result"
    }
   ],
   "source": [
    "domain = ['@domainemail.com.br', '@serviceemail.com']\n",
    "\n",
    "# np.random.choice -> create data with a choice value\n",
    "names['domain'] = np.random.choice(domain, len(names))\n",
    "names.sample(5)"
   ]
  },
  {
   "cell_type": "markdown",
   "id": "40ed040d",
   "metadata": {},
   "source": [
    "## Creating email variable"
   ]
  },
  {
   "cell_type": "code",
   "execution_count": 30,
   "id": "60c67e89",
   "metadata": {},
   "outputs": [
    {
     "data": {
      "text/html": [
       "<div>\n",
       "<style scoped>\n",
       "    .dataframe tbody tr th:only-of-type {\n",
       "        vertical-align: middle;\n",
       "    }\n",
       "\n",
       "    .dataframe tbody tr th {\n",
       "        vertical-align: top;\n",
       "    }\n",
       "\n",
       "    .dataframe thead th {\n",
       "        text-align: right;\n",
       "    }\n",
       "</style>\n",
       "<table border=\"1\" class=\"dataframe\">\n",
       "  <thead>\n",
       "    <tr style=\"text-align: right;\">\n",
       "      <th></th>\n",
       "      <th>nome</th>\n",
       "      <th>studentsID</th>\n",
       "      <th>domain</th>\n",
       "      <th>email</th>\n",
       "    </tr>\n",
       "  </thead>\n",
       "  <tbody>\n",
       "    <tr>\n",
       "      <th>0</th>\n",
       "      <td>MARIA</td>\n",
       "      <td>9</td>\n",
       "      <td>@domainemail.com.br</td>\n",
       "      <td>maria@domainemail.com.br</td>\n",
       "    </tr>\n",
       "    <tr>\n",
       "      <th>1</th>\n",
       "      <td>ANA</td>\n",
       "      <td>36</td>\n",
       "      <td>@serviceemail.com</td>\n",
       "      <td>ana@serviceemail.com</td>\n",
       "    </tr>\n",
       "    <tr>\n",
       "      <th>2</th>\n",
       "      <td>FRANCISCA</td>\n",
       "      <td>21</td>\n",
       "      <td>@serviceemail.com</td>\n",
       "      <td>francisca@serviceemail.com</td>\n",
       "    </tr>\n",
       "    <tr>\n",
       "      <th>3</th>\n",
       "      <td>ANTONIA</td>\n",
       "      <td>32</td>\n",
       "      <td>@serviceemail.com</td>\n",
       "      <td>antonia@serviceemail.com</td>\n",
       "    </tr>\n",
       "    <tr>\n",
       "      <th>4</th>\n",
       "      <td>ADRIANA</td>\n",
       "      <td>29</td>\n",
       "      <td>@domainemail.com.br</td>\n",
       "      <td>adriana@domainemail.com.br</td>\n",
       "    </tr>\n",
       "  </tbody>\n",
       "</table>\n",
       "</div>"
      ],
      "text/plain": [
       "        nome  studentsID               domain                       email\n",
       "0      MARIA           9  @domainemail.com.br    maria@domainemail.com.br\n",
       "1        ANA          36    @serviceemail.com        ana@serviceemail.com\n",
       "2  FRANCISCA          21    @serviceemail.com  francisca@serviceemail.com\n",
       "3    ANTONIA          32    @serviceemail.com    antonia@serviceemail.com\n",
       "4    ADRIANA          29  @domainemail.com.br  adriana@domainemail.com.br"
      ]
     },
     "execution_count": 30,
     "metadata": {},
     "output_type": "execute_result"
    }
   ],
   "source": [
    "# .cat -> join two variables info\n",
    "# .str -> it's necessary to transform the content into str\n",
    "\n",
    "names['email'] = names['nome'].str.cat(names['domain']).str.lower()\n",
    "names.head(5)"
   ]
  },
  {
   "cell_type": "markdown",
   "id": "69d7c948",
   "metadata": {},
   "source": [
    "## Exporting"
   ]
  },
  {
   "cell_type": "code",
   "execution_count": 32,
   "id": "a9636a4e",
   "metadata": {},
   "outputs": [],
   "source": [
    "names.to_json('data/students.json')"
   ]
  }
 ],
 "metadata": {
  "kernelspec": {
   "display_name": "Python 3 (ipykernel)",
   "language": "python",
   "name": "python3"
  },
  "language_info": {
   "codemirror_mode": {
    "name": "ipython",
    "version": 3
   },
   "file_extension": ".py",
   "mimetype": "text/x-python",
   "name": "python",
   "nbconvert_exporter": "python",
   "pygments_lexer": "ipython3",
   "version": "3.10.4"
  }
 },
 "nbformat": 4,
 "nbformat_minor": 5
}
