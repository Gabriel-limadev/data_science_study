{
 "cells": [
  {
   "cell_type": "markdown",
   "id": "76b3f5fa",
   "metadata": {},
   "source": [
    "## Creating sqlite database "
   ]
  },
  {
   "cell_type": "code",
   "execution_count": 38,
   "id": "dd10857c",
   "metadata": {},
   "outputs": [
    {
     "name": "stdout",
     "output_type": "stream",
     "text": [
      "Requirement already satisfied: sqlalchemy in /home/gabriel-liamdev/anaconda3/lib/python3.9/site-packages (1.4.32)\n",
      "Requirement already satisfied: greenlet!=0.4.17 in /home/gabriel-liamdev/anaconda3/lib/python3.9/site-packages (from sqlalchemy) (1.1.1)\n"
     ]
    }
   ],
   "source": [
    "!pip install sqlalchemy"
   ]
  },
  {
   "cell_type": "code",
   "execution_count": 39,
   "id": "64b2ade9",
   "metadata": {},
   "outputs": [
    {
     "data": {
      "text/plain": [
       "Engine(sqlite:///:memory:)"
      ]
     },
     "execution_count": 39,
     "metadata": {},
     "output_type": "execute_result"
    }
   ],
   "source": [
    "import pandas as pd\n",
    "enrollments_per_course = pd.read_json('data/enrollments_per_course.json')\n",
    "\n",
    "from sqlalchemy import create_engine, MetaData, Table, inspect # adicionando o método inspect\n",
    "\n",
    "engine = create_engine('sqlite:///:memory:')\n",
    "engine"
   ]
  },
  {
   "cell_type": "code",
   "execution_count": 40,
   "id": "58b1752e",
   "metadata": {},
   "outputs": [
    {
     "data": {
      "text/plain": [
       "sqlalchemy.engine.base.Engine"
      ]
     },
     "execution_count": 40,
     "metadata": {},
     "output_type": "execute_result"
    }
   ],
   "source": [
    "type(engine)"
   ]
  },
  {
   "cell_type": "code",
   "execution_count": 41,
   "id": "deffe004",
   "metadata": {},
   "outputs": [
    {
     "data": {
      "text/plain": [
       "18"
      ]
     },
     "execution_count": 41,
     "metadata": {},
     "output_type": "execute_result"
    }
   ],
   "source": [
    "enrollments_per_course.to_sql('enrollments', engine)"
   ]
  },
  {
   "cell_type": "code",
   "execution_count": 42,
   "id": "ce23aecb",
   "metadata": {},
   "outputs": [
    {
     "name": "stdout",
     "output_type": "stream",
     "text": [
      "['enrollments']\n"
     ]
    }
   ],
   "source": [
    "inspector = inspect(engine) # is an Inspector object\n",
    "print(inspector.get_table_names()) # Displaying the tables with the inspector"
   ]
  },
  {
   "cell_type": "markdown",
   "id": "83b5dae9",
   "metadata": {},
   "source": [
    "## Creating querys"
   ]
  },
  {
   "cell_type": "code",
   "execution_count": 43,
   "id": "bf6b16e5",
   "metadata": {},
   "outputs": [],
   "source": [
    "query = 'select * from enrollments where \"number of students\" < 5'"
   ]
  },
  {
   "cell_type": "code",
   "execution_count": 44,
   "id": "870f7b35",
   "metadata": {},
   "outputs": [
    {
     "data": {
      "text/html": [
       "<div>\n",
       "<style scoped>\n",
       "    .dataframe tbody tr th:only-of-type {\n",
       "        vertical-align: middle;\n",
       "    }\n",
       "\n",
       "    .dataframe tbody tr th {\n",
       "        vertical-align: top;\n",
       "    }\n",
       "\n",
       "    .dataframe thead th {\n",
       "        text-align: right;\n",
       "    }\n",
       "</style>\n",
       "<table border=\"1\" class=\"dataframe\">\n",
       "  <thead>\n",
       "    <tr style=\"text-align: right;\">\n",
       "      <th></th>\n",
       "      <th>index</th>\n",
       "      <th>number of students</th>\n",
       "      <th>courses_name</th>\n",
       "    </tr>\n",
       "  </thead>\n",
       "  <tbody>\n",
       "    <tr>\n",
       "      <th>0</th>\n",
       "      <td>2</td>\n",
       "      <td>4</td>\n",
       "      <td>Java para Web</td>\n",
       "    </tr>\n",
       "    <tr>\n",
       "      <th>1</th>\n",
       "      <td>6</td>\n",
       "      <td>3</td>\n",
       "      <td>PHP com MySql</td>\n",
       "    </tr>\n",
       "    <tr>\n",
       "      <th>2</th>\n",
       "      <td>7</td>\n",
       "      <td>2</td>\n",
       "      <td>.NET para web</td>\n",
       "    </tr>\n",
       "    <tr>\n",
       "      <th>3</th>\n",
       "      <td>9</td>\n",
       "      <td>3</td>\n",
       "      <td>TDD com Java</td>\n",
       "    </tr>\n",
       "    <tr>\n",
       "      <th>4</th>\n",
       "      <td>11</td>\n",
       "      <td>1</td>\n",
       "      <td>Preparatório para certificação Java</td>\n",
       "    </tr>\n",
       "    <tr>\n",
       "      <th>5</th>\n",
       "      <td>14</td>\n",
       "      <td>1</td>\n",
       "      <td>Desenvolvendo jogos</td>\n",
       "    </tr>\n",
       "    <tr>\n",
       "      <th>6</th>\n",
       "      <td>16</td>\n",
       "      <td>1</td>\n",
       "      <td>Estatística básica</td>\n",
       "    </tr>\n",
       "    <tr>\n",
       "      <th>7</th>\n",
       "      <td>18</td>\n",
       "      <td>2</td>\n",
       "      <td>Programação funcional</td>\n",
       "    </tr>\n",
       "    <tr>\n",
       "      <th>8</th>\n",
       "      <td>20</td>\n",
       "      <td>3</td>\n",
       "      <td>Orientação objetos com Java</td>\n",
       "    </tr>\n",
       "  </tbody>\n",
       "</table>\n",
       "</div>"
      ],
      "text/plain": [
       "   index  number of students                         courses_name\n",
       "0      2                   4                        Java para Web\n",
       "1      6                   3                        PHP com MySql\n",
       "2      7                   2                        .NET para web\n",
       "3      9                   3                         TDD com Java\n",
       "4     11                   1  Preparatório para certificação Java\n",
       "5     14                   1                  Desenvolvendo jogos\n",
       "6     16                   1                   Estatística básica\n",
       "7     18                   2                Programação funcional\n",
       "8     20                   3          Orientação objetos com Java"
      ]
     },
     "execution_count": 44,
     "metadata": {},
     "output_type": "execute_result"
    }
   ],
   "source": [
    "pd.read_sql(query, engine)"
   ]
  },
  {
   "cell_type": "code",
   "execution_count": 45,
   "id": "ada1853d",
   "metadata": {},
   "outputs": [],
   "source": [
    "enrollments_sql = pd.read_sql_table(\"enrollments\", engine, columns = ['courses_name', 'number of students'])"
   ]
  },
  {
   "cell_type": "code",
   "execution_count": 46,
   "id": "dd1b228b",
   "metadata": {},
   "outputs": [],
   "source": [
    "enrollments_with_more_then_5_students = enrollments_sql.query('`number of students` > 5')"
   ]
  },
  {
   "cell_type": "code",
   "execution_count": 47,
   "id": "55bc7df0",
   "metadata": {},
   "outputs": [
    {
     "data": {
      "text/plain": [
       "3"
      ]
     },
     "execution_count": 47,
     "metadata": {},
     "output_type": "execute_result"
    }
   ],
   "source": [
    "enrollments_with_more_then_5_students.to_sql('courses_with_more_then_5_students', con=engine)"
   ]
  },
  {
   "cell_type": "code",
   "execution_count": 49,
   "id": "770e4702",
   "metadata": {},
   "outputs": [
    {
     "name": "stdout",
     "output_type": "stream",
     "text": [
      "['courses_with_more_then_5_students', 'enrollments']\n"
     ]
    }
   ],
   "source": [
    "inspector = inspect(engine) # is an Inspector object\n",
    "print(inspector.get_table_names()) # Displaying the tables with the inspector"
   ]
  }
 ],
 "metadata": {
  "kernelspec": {
   "display_name": "Python 3 (ipykernel)",
   "language": "python",
   "name": "python3"
  },
  "language_info": {
   "codemirror_mode": {
    "name": "ipython",
    "version": 3
   },
   "file_extension": ".py",
   "mimetype": "text/x-python",
   "name": "python",
   "nbconvert_exporter": "python",
   "pygments_lexer": "ipython3",
   "version": "3.10.4"
  }
 },
 "nbformat": 4,
 "nbformat_minor": 5
}
