{
 "cells": [
  {
   "cell_type": "code",
   "execution_count": 13,
   "id": "c09f7aa4",
   "metadata": {},
   "outputs": [
    {
     "name": "stdout",
     "output_type": "stream",
     "text": [
      "38742.53 liters\n"
     ]
    },
    {
     "name": "stderr",
     "output_type": "stream",
     "text": [
      "/home/gabriel-liamdev/anaconda3/envs/learn_pandas/lib/python3.10/site-packages/sklearn/base.py:450: UserWarning: X does not have valid feature names, but LinearRegression was fitted with feature names\n",
      "  warnings.warn(\n"
     ]
    }
   ],
   "source": [
    "import pickle\n",
    "\n",
    "with open('beer_consumption_model','rb') as model:\n",
    "    lm_new = pickle.load(model)\n",
    "\n",
    "maximum_temp = 40\n",
    "rain = 0\n",
    "weekend = 1\n",
    "entry = [[maximum_temp, rain, weekend]]\n",
    "\n",
    "print(f'{lm_new.predict(entry)[0]:.2f} liters')"
   ]
  }
 ],
 "metadata": {
  "kernelspec": {
   "display_name": "Python 3 (ipykernel)",
   "language": "python",
   "name": "python3"
  },
  "language_info": {
   "codemirror_mode": {
    "name": "ipython",
    "version": 3
   },
   "file_extension": ".py",
   "mimetype": "text/x-python",
   "name": "python",
   "nbconvert_exporter": "python",
   "pygments_lexer": "ipython3",
   "version": "3.10.4"
  }
 },
 "nbformat": 4,
 "nbformat_minor": 5
}
