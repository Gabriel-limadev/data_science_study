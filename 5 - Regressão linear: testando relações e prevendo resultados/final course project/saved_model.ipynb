{
 "cells": [
  {
   "cell_type": "code",
   "execution_count": 3,
   "id": "e115eea0",
   "metadata": {},
   "outputs": [
    {
     "name": "stdout",
     "output_type": "stream",
     "text": [
      "$ 46144.17 dolars\n"
     ]
    },
    {
     "name": "stderr",
     "output_type": "stream",
     "text": [
      "/home/gabriel-liamdev/anaconda3/envs/learn_pandas/lib/python3.10/site-packages/sklearn/base.py:450: UserWarning: X does not have valid feature names, but LinearRegression was fitted with feature names\n",
      "  warnings.warn(\n"
     ]
    }
   ],
   "source": [
    "import pickle\n",
    "\n",
    "with open('price_model','rb') as model:\n",
    "    lm_new = pickle.load(model)\n",
    "\n",
    "\n",
    "area = 28\n",
    "garage = 2\n",
    "bathrooms = 4\n",
    "fireplace = 4\n",
    "marble = 0\n",
    "floors = 1\n",
    "entry = [[area, garage, bathrooms, fireplace, marble, floors]]\n",
    "\n",
    "print(f'$ {lm_new.predict(entry)[0]:.2f} dolars')"
   ]
  },
  {
   "cell_type": "code",
   "execution_count": null,
   "id": "91691eef",
   "metadata": {},
   "outputs": [],
   "source": []
  }
 ],
 "metadata": {
  "kernelspec": {
   "display_name": "Python 3 (ipykernel)",
   "language": "python",
   "name": "python3"
  },
  "language_info": {
   "codemirror_mode": {
    "name": "ipython",
    "version": 3
   },
   "file_extension": ".py",
   "mimetype": "text/x-python",
   "name": "python",
   "nbconvert_exporter": "python",
   "pygments_lexer": "ipython3",
   "version": "3.10.4"
  }
 },
 "nbformat": 4,
 "nbformat_minor": 5
}
