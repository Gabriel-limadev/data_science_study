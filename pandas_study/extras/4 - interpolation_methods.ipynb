{
 "cells": [
  {
   "cell_type": "code",
   "execution_count": 3,
   "id": "2540a61f",
   "metadata": {},
   "outputs": [
    {
     "data": {
      "text/plain": [
       "0    0.00\n",
       "1    5.00\n",
       "2     NaN\n",
       "3     NaN\n",
       "4    0.52\n",
       "5    0.89\n",
       "6    0.70\n",
       "7     NaN\n",
       "8    0.80\n",
       "dtype: float64"
      ]
     },
     "execution_count": 3,
     "metadata": {},
     "output_type": "execute_result"
    }
   ],
   "source": [
    "import pandas as pd\n",
    "\n",
    "data = [0, 5, None, None, 0.52, 0.89, 0.7, None, 0.8]\n",
    "\n",
    "s = pd.Series(data)\n",
    "s"
   ]
  },
  {
   "cell_type": "code",
   "execution_count": 4,
   "id": "171b3a0e",
   "metadata": {
    "collapsed": true
   },
   "outputs": [
    {
     "data": {
      "text/plain": [
       "0    0.00\n",
       "1    5.00\n",
       "2    0.00\n",
       "3    0.00\n",
       "4    0.52\n",
       "5    0.89\n",
       "6    0.70\n",
       "7    0.00\n",
       "8    0.80\n",
       "dtype: float64"
      ]
     },
     "execution_count": 4,
     "metadata": {},
     "output_type": "execute_result"
    }
   ],
   "source": [
    "s.fillna(0)"
   ]
  },
  {
   "cell_type": "code",
   "execution_count": 5,
   "id": "bf7933ea",
   "metadata": {},
   "outputs": [
    {
     "data": {
      "text/plain": [
       "0    0.00\n",
       "1    5.00\n",
       "2     NaN\n",
       "3     NaN\n",
       "4    0.52\n",
       "5    0.89\n",
       "6    0.70\n",
       "7     NaN\n",
       "8    0.80\n",
       "dtype: float64"
      ]
     },
     "execution_count": 5,
     "metadata": {},
     "output_type": "execute_result"
    }
   ],
   "source": [
    "s"
   ]
  },
  {
   "cell_type": "code",
   "execution_count": 6,
   "id": "ae93cbb3",
   "metadata": {
    "scrolled": true
   },
   "outputs": [
    {
     "data": {
      "text/plain": [
       "0    0.00\n",
       "1    5.00\n",
       "2    5.00\n",
       "3    5.00\n",
       "4    0.52\n",
       "5    0.89\n",
       "6    0.70\n",
       "7    0.70\n",
       "8    0.80\n",
       "dtype: float64"
      ]
     },
     "execution_count": 6,
     "metadata": {},
     "output_type": "execute_result"
    }
   ],
   "source": [
    "## Filling null values with value above\n",
    "\n",
    "s.fillna(method = 'ffill')"
   ]
  },
  {
   "cell_type": "code",
   "execution_count": 7,
   "id": "1420ea06",
   "metadata": {},
   "outputs": [
    {
     "data": {
      "text/plain": [
       "0    0.00\n",
       "1    5.00\n",
       "2    0.52\n",
       "3    0.52\n",
       "4    0.52\n",
       "5    0.89\n",
       "6    0.70\n",
       "7    0.80\n",
       "8    0.80\n",
       "dtype: float64"
      ]
     },
     "execution_count": 7,
     "metadata": {},
     "output_type": "execute_result"
    }
   ],
   "source": [
    "## Filling null values with value above below\n",
    "\n",
    "s.fillna(method = 'bfill')"
   ]
  },
  {
   "cell_type": "code",
   "execution_count": 8,
   "id": "0e22fcc9",
   "metadata": {},
   "outputs": [
    {
     "data": {
      "text/plain": [
       "0    0.000000\n",
       "1    5.000000\n",
       "2    1.318333\n",
       "3    1.318333\n",
       "4    0.520000\n",
       "5    0.890000\n",
       "6    0.700000\n",
       "7    1.318333\n",
       "8    0.800000\n",
       "dtype: float64"
      ]
     },
     "execution_count": 8,
     "metadata": {},
     "output_type": "execute_result"
    }
   ],
   "source": [
    "## Filling null values with the media  \n",
    "\n",
    "s.fillna(s.mean())"
   ]
  },
  {
   "cell_type": "code",
   "execution_count": 16,
   "id": "4938eef3",
   "metadata": {},
   "outputs": [
    {
     "data": {
      "text/plain": [
       "0    0.00\n",
       "1    5.00\n",
       "2    5.00\n",
       "3     NaN\n",
       "4    0.52\n",
       "5    0.89\n",
       "6    0.70\n",
       "7    0.70\n",
       "8    0.80\n",
       "dtype: float64"
      ]
     },
     "execution_count": 16,
     "metadata": {},
     "output_type": "execute_result"
    }
   ],
   "source": [
    "# Limit -> limit how mutch values will be fill\n",
    "s1 = s.fillna(method = 'ffill', limit = 1)\n",
    "s1"
   ]
  },
  {
   "cell_type": "code",
   "execution_count": 15,
   "id": "2ce4b338",
   "metadata": {},
   "outputs": [
    {
     "data": {
      "text/plain": [
       "0    0.00\n",
       "1    5.00\n",
       "2    5.00\n",
       "3    0.52\n",
       "4    0.52\n",
       "5    0.89\n",
       "6    0.70\n",
       "7    0.70\n",
       "8    0.80\n",
       "dtype: float64"
      ]
     },
     "execution_count": 15,
     "metadata": {},
     "output_type": "execute_result"
    }
   ],
   "source": [
    "## Here I change two place null with two values differents\n",
    "\n",
    "s1 = s1.fillna(method = 'bfill', limit = 1)\n",
    "s1"
   ]
  },
  {
   "cell_type": "code",
   "execution_count": null,
   "id": "a69c3d11",
   "metadata": {},
   "outputs": [],
   "source": []
  }
 ],
 "metadata": {
  "kernelspec": {
   "display_name": "Python 3 (ipykernel)",
   "language": "python",
   "name": "python3"
  },
  "language_info": {
   "codemirror_mode": {
    "name": "ipython",
    "version": 3
   },
   "file_extension": ".py",
   "mimetype": "text/x-python",
   "name": "python",
   "nbconvert_exporter": "python",
   "pygments_lexer": "ipython3",
   "version": "3.10.4"
  }
 },
 "nbformat": 4,
 "nbformat_minor": 5
}
