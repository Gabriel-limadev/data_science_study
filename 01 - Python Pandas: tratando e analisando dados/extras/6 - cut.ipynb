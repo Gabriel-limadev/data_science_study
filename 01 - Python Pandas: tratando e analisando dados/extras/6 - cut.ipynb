{
 "cells": [
  {
   "cell_type": "code",
   "execution_count": 3,
   "id": "e689aacc",
   "metadata": {},
   "outputs": [
    {
     "data": {
      "text/html": [
       "<div>\n",
       "<style scoped>\n",
       "    .dataframe tbody tr th:only-of-type {\n",
       "        vertical-align: middle;\n",
       "    }\n",
       "\n",
       "    .dataframe tbody tr th {\n",
       "        vertical-align: top;\n",
       "    }\n",
       "\n",
       "    .dataframe thead th {\n",
       "        text-align: right;\n",
       "    }\n",
       "</style>\n",
       "<table border=\"1\" class=\"dataframe\">\n",
       "  <thead>\n",
       "    <tr style=\"text-align: right;\">\n",
       "      <th></th>\n",
       "      <th>Tipo</th>\n",
       "      <th>Bairro</th>\n",
       "      <th>Quartos</th>\n",
       "      <th>Vagas</th>\n",
       "      <th>Suites</th>\n",
       "      <th>Area</th>\n",
       "      <th>Valor</th>\n",
       "      <th>Condominio</th>\n",
       "      <th>IPTU</th>\n",
       "      <th>Valor m2</th>\n",
       "      <th>Tipo Agregado</th>\n",
       "    </tr>\n",
       "  </thead>\n",
       "  <tbody>\n",
       "    <tr>\n",
       "      <th>0</th>\n",
       "      <td>Apartamento</td>\n",
       "      <td>Centro</td>\n",
       "      <td>1</td>\n",
       "      <td>0</td>\n",
       "      <td>0</td>\n",
       "      <td>15</td>\n",
       "      <td>800.0</td>\n",
       "      <td>390.0</td>\n",
       "      <td>20.0</td>\n",
       "      <td>53.33</td>\n",
       "      <td>Apartamento</td>\n",
       "    </tr>\n",
       "    <tr>\n",
       "      <th>1</th>\n",
       "      <td>Apartamento</td>\n",
       "      <td>Higienópolis</td>\n",
       "      <td>1</td>\n",
       "      <td>0</td>\n",
       "      <td>0</td>\n",
       "      <td>48</td>\n",
       "      <td>800.0</td>\n",
       "      <td>230.0</td>\n",
       "      <td>0.0</td>\n",
       "      <td>16.67</td>\n",
       "      <td>Apartamento</td>\n",
       "    </tr>\n",
       "    <tr>\n",
       "      <th>2</th>\n",
       "      <td>Apartamento</td>\n",
       "      <td>Cachambi</td>\n",
       "      <td>2</td>\n",
       "      <td>0</td>\n",
       "      <td>0</td>\n",
       "      <td>50</td>\n",
       "      <td>1300.0</td>\n",
       "      <td>301.0</td>\n",
       "      <td>17.0</td>\n",
       "      <td>26.00</td>\n",
       "      <td>Apartamento</td>\n",
       "    </tr>\n",
       "    <tr>\n",
       "      <th>3</th>\n",
       "      <td>Apartamento</td>\n",
       "      <td>Grajaú</td>\n",
       "      <td>2</td>\n",
       "      <td>1</td>\n",
       "      <td>0</td>\n",
       "      <td>70</td>\n",
       "      <td>1500.0</td>\n",
       "      <td>642.0</td>\n",
       "      <td>74.0</td>\n",
       "      <td>21.43</td>\n",
       "      <td>Apartamento</td>\n",
       "    </tr>\n",
       "    <tr>\n",
       "      <th>4</th>\n",
       "      <td>Apartamento</td>\n",
       "      <td>Lins de Vasconcelos</td>\n",
       "      <td>3</td>\n",
       "      <td>1</td>\n",
       "      <td>1</td>\n",
       "      <td>90</td>\n",
       "      <td>1500.0</td>\n",
       "      <td>455.0</td>\n",
       "      <td>14.0</td>\n",
       "      <td>16.67</td>\n",
       "      <td>Apartamento</td>\n",
       "    </tr>\n",
       "  </tbody>\n",
       "</table>\n",
       "</div>"
      ],
      "text/plain": [
       "          Tipo               Bairro  Quartos  Vagas  Suites  Area   Valor  \\\n",
       "0  Apartamento               Centro        1      0       0    15   800.0   \n",
       "1  Apartamento         Higienópolis        1      0       0    48   800.0   \n",
       "2  Apartamento             Cachambi        2      0       0    50  1300.0   \n",
       "3  Apartamento               Grajaú        2      1       0    70  1500.0   \n",
       "4  Apartamento  Lins de Vasconcelos        3      1       1    90  1500.0   \n",
       "\n",
       "   Condominio  IPTU  Valor m2 Tipo Agregado  \n",
       "0       390.0  20.0     53.33   Apartamento  \n",
       "1       230.0   0.0     16.67   Apartamento  \n",
       "2       301.0  17.0     26.00   Apartamento  \n",
       "3       642.0  74.0     21.43   Apartamento  \n",
       "4       455.0  14.0     16.67   Apartamento  "
      ]
     },
     "execution_count": 3,
     "metadata": {},
     "output_type": "execute_result"
    }
   ],
   "source": [
    "import pandas as pd\n",
    "\n",
    "data = pd.read_csv('data/aluguel.csv', sep = ';')\n",
    "data.head()"
   ]
  },
  {
   "cell_type": "code",
   "execution_count": 4,
   "id": "85836916",
   "metadata": {},
   "outputs": [],
   "source": [
    "# Count how mutch propertys there are:\n",
    "\n",
    "# 1 and 2\n",
    "# 3 and 4\n",
    "# 5 and 6\n",
    "# 7 or more\n",
    "\n",
    "classes = [0, 2, 4, 6, 100]"
   ]
  },
  {
   "cell_type": "code",
   "execution_count": 16,
   "id": "72b54cf5",
   "metadata": {},
   "outputs": [
    {
     "data": {
      "text/plain": [
       "0        (0.0, 2.0]\n",
       "1        (0.0, 2.0]\n",
       "2        (0.0, 2.0]\n",
       "3        (0.0, 2.0]\n",
       "4               NaN\n",
       "            ...    \n",
       "19826    (0.0, 2.0]\n",
       "19827    (0.0, 2.0]\n",
       "19828    (0.0, 2.0]\n",
       "19829    (0.0, 2.0]\n",
       "19830           NaN\n",
       "Name: Quartos, Length: 19831, dtype: category\n",
       "Categories (1, interval[int64, right]): [(0, 2]]"
      ]
     },
     "execution_count": 16,
     "metadata": {},
     "output_type": "execute_result"
    }
   ],
   "source": [
    "rooms = pd.cut(data['Quartos'], classes)\n",
    "rooms"
   ]
  },
  {
   "cell_type": "code",
   "execution_count": 7,
   "id": "c2ff02a1",
   "metadata": {},
   "outputs": [
    {
     "data": {
      "text/plain": [
       "(0, 2]      11074\n",
       "(2, 4]       8094\n",
       "(4, 6]        470\n",
       "(6, 100]       36\n",
       "Name: Quartos, dtype: int64"
      ]
     },
     "execution_count": 7,
     "metadata": {},
     "output_type": "execute_result"
    }
   ],
   "source": [
    "pd.value_counts(rooms)"
   ]
  },
  {
   "cell_type": "code",
   "execution_count": 11,
   "id": "a763481d",
   "metadata": {},
   "outputs": [
    {
     "data": {
      "text/plain": [
       "1 and 2 rooms      11074\n",
       "3 and 4 rooms       8094\n",
       "5 and 6 rooms        470\n",
       "7 or more rooms       36\n",
       "Name: Quartos, dtype: int64"
      ]
     },
     "execution_count": 11,
     "metadata": {},
     "output_type": "execute_result"
    }
   ],
   "source": [
    "labels = ['1 and 2 rooms', '3 and 4 rooms', '5 and 6 rooms', '7 or more rooms']\n",
    "rooms = pd.cut(data['Quartos'], classes, labels = labels)\n",
    "pd.value_counts(rooms)"
   ]
  },
  {
   "cell_type": "code",
   "execution_count": 13,
   "id": "bcb635ce",
   "metadata": {},
   "outputs": [
    {
     "data": {
      "text/plain": [
       "0 and 2 rooms      11231\n",
       "3 and 4 rooms       8094\n",
       "5 and 6 rooms        470\n",
       "7 or more rooms       36\n",
       "Name: Quartos, dtype: int64"
      ]
     },
     "execution_count": 13,
     "metadata": {},
     "output_type": "execute_result"
    }
   ],
   "source": [
    "labels = ['0 and 2 rooms', '3 and 4 rooms', '5 and 6 rooms', '7 or more rooms']\n",
    "rooms = pd.cut(data['Quartos'], classes, labels = labels, include_lowest = True)\n",
    "pd.value_counts(rooms)"
   ]
  }
 ],
 "metadata": {
  "kernelspec": {
   "display_name": "Python 3 (ipykernel)",
   "language": "python",
   "name": "python3"
  },
  "language_info": {
   "codemirror_mode": {
    "name": "ipython",
    "version": 3
   },
   "file_extension": ".py",
   "mimetype": "text/x-python",
   "name": "python",
   "nbconvert_exporter": "python",
   "pygments_lexer": "ipython3",
   "version": "3.10.4"
  }
 },
 "nbformat": 4,
 "nbformat_minor": 5
}
