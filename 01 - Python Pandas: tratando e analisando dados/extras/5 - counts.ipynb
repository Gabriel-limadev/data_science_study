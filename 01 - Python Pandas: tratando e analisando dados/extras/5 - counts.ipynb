{
 "cells": [
  {
   "cell_type": "code",
   "execution_count": 2,
   "id": "1b70bcf9",
   "metadata": {},
   "outputs": [
    {
     "data": {
      "text/plain": [
       "0     a\n",
       "1     r\n",
       "2     i\n",
       "3     u\n",
       "4     s\n",
       "5     k\n",
       "6     a\n",
       "7     k\n",
       "8     d\n",
       "9     k\n",
       "10    s\n",
       "11    d\n",
       "12    h\n",
       "13    k\n",
       "dtype: object"
      ]
     },
     "execution_count": 2,
     "metadata": {},
     "output_type": "execute_result"
    }
   ],
   "source": [
    "import pandas as pd\n",
    "\n",
    "s = pd.Series(list('ariuskakdksdhk'))\n",
    "s"
   ]
  },
  {
   "cell_type": "code",
   "execution_count": 3,
   "id": "97fcb024",
   "metadata": {},
   "outputs": [
    {
     "data": {
      "text/plain": [
       "array(['a', 'r', 'i', 'u', 's', 'k', 'd', 'h'], dtype=object)"
      ]
     },
     "execution_count": 3,
     "metadata": {},
     "output_type": "execute_result"
    }
   ],
   "source": [
    "s.unique()"
   ]
  },
  {
   "cell_type": "code",
   "execution_count": 4,
   "id": "2e0e8596",
   "metadata": {},
   "outputs": [
    {
     "data": {
      "text/plain": [
       "k    4\n",
       "a    2\n",
       "s    2\n",
       "d    2\n",
       "r    1\n",
       "i    1\n",
       "u    1\n",
       "h    1\n",
       "dtype: int64"
      ]
     },
     "execution_count": 4,
     "metadata": {},
     "output_type": "execute_result"
    }
   ],
   "source": [
    "s.value_counts()"
   ]
  },
  {
   "cell_type": "code",
   "execution_count": 6,
   "id": "5783f124",
   "metadata": {},
   "outputs": [
    {
     "data": {
      "text/plain": [
       "array(['Apartamento', 'Casa', 'Casa de Condomínio', 'Casa de Vila',\n",
       "       'Quitinete'], dtype=object)"
      ]
     },
     "execution_count": 6,
     "metadata": {},
     "output_type": "execute_result"
    }
   ],
   "source": [
    "data = pd.read_csv('data/aluguel.csv', sep = ';')\n",
    "data.Tipo.unique()"
   ]
  },
  {
   "cell_type": "code",
   "execution_count": 7,
   "id": "c7e0cfdd",
   "metadata": {},
   "outputs": [
    {
     "data": {
      "text/plain": [
       "Apartamento           16923\n",
       "Casa de Condomínio      964\n",
       "Casa                    898\n",
       "Quitinete               813\n",
       "Casa de Vila            233\n",
       "Name: Tipo, dtype: int64"
      ]
     },
     "execution_count": 7,
     "metadata": {},
     "output_type": "execute_result"
    }
   ],
   "source": [
    "data['Tipo'].value_counts()"
   ]
  },
  {
   "cell_type": "markdown",
   "id": "6f153329",
   "metadata": {},
   "source": [
    "## exercicie"
   ]
  },
  {
   "cell_type": "code",
   "execution_count": 8,
   "id": "6b3504fe",
   "metadata": {},
   "outputs": [],
   "source": [
    "m1 = 'CCcCCccCCCccCcCccCcCcCCCcCCcccCCcCcCcCcccCCcCcccCc'\n",
    "m2 = 'CCCCCccCccCcCCCCccCccccCccCccCCcCccCcCcCCcCccCccCc'\n",
    "m3 = 'CccCCccCcCCCCCCCCCCcccCccCCCCCCccCCCcccCCCcCCcccCC'\n",
    "m4 = 'cCCccCCccCCccCCccccCcCcCcCcCcCcCCCCccccCCCcCCcCCCC'\n",
    "m5 = 'CCCcCcCcCcCCCcCCcCcCCccCcCCcccCccCCcCcCcCcCcccccCc'"
   ]
  },
  {
   "cell_type": "code",
   "execution_count": 23,
   "id": "6185c7a4",
   "metadata": {},
   "outputs": [
    {
     "data": {
      "text/html": [
       "<div>\n",
       "<style scoped>\n",
       "    .dataframe tbody tr th:only-of-type {\n",
       "        vertical-align: middle;\n",
       "    }\n",
       "\n",
       "    .dataframe tbody tr th {\n",
       "        vertical-align: top;\n",
       "    }\n",
       "\n",
       "    .dataframe thead th {\n",
       "        text-align: right;\n",
       "    }\n",
       "</style>\n",
       "<table border=\"1\" class=\"dataframe\">\n",
       "  <thead>\n",
       "    <tr style=\"text-align: right;\">\n",
       "      <th></th>\n",
       "      <th>Faces</th>\n",
       "      <th>m1</th>\n",
       "      <th>m2</th>\n",
       "      <th>m3</th>\n",
       "      <th>m4</th>\n",
       "      <th>m5</th>\n",
       "    </tr>\n",
       "  </thead>\n",
       "  <tbody>\n",
       "    <tr>\n",
       "      <th>c</th>\n",
       "      <td>Cara</td>\n",
       "      <td>25</td>\n",
       "      <td>26</td>\n",
       "      <td>19</td>\n",
       "      <td>23</td>\n",
       "      <td>25</td>\n",
       "    </tr>\n",
       "    <tr>\n",
       "      <th>C</th>\n",
       "      <td>Coroa</td>\n",
       "      <td>25</td>\n",
       "      <td>24</td>\n",
       "      <td>31</td>\n",
       "      <td>27</td>\n",
       "      <td>25</td>\n",
       "    </tr>\n",
       "  </tbody>\n",
       "</table>\n",
       "</div>"
      ],
      "text/plain": [
       "   Faces  m1  m2  m3  m4  m5\n",
       "c   Cara  25  26  19  23  25\n",
       "C  Coroa  25  24  31  27  25"
      ]
     },
     "execution_count": 23,
     "metadata": {},
     "output_type": "execute_result"
    }
   ],
   "source": [
    "eventos = {\n",
    "    'm1': list(m1), \n",
    "    'm2': list(m2),\n",
    "    'm3': list(m3),\n",
    "    'm4': list(m4),\n",
    "    'm5': list(m5),    \n",
    "}\n",
    "\n",
    "moedas = pd.DataFrame(eventos)\n",
    "\n",
    "df = pd.DataFrame(data = ['Cara', 'Coroa'], \n",
    "                    index = ['c', 'C'], \n",
    "                    columns = ['Faces'])\n",
    "for item in moedas:\n",
    "    df = pd.concat([df, moedas[item].value_counts()], \n",
    "                    axis = 1)\n",
    "df"
   ]
  }
 ],
 "metadata": {
  "kernelspec": {
   "display_name": "Python 3 (ipykernel)",
   "language": "python",
   "name": "python3"
  },
  "language_info": {
   "codemirror_mode": {
    "name": "ipython",
    "version": 3
   },
   "file_extension": ".py",
   "mimetype": "text/x-python",
   "name": "python",
   "nbconvert_exporter": "python",
   "pygments_lexer": "ipython3",
   "version": "3.10.4"
  }
 },
 "nbformat": 4,
 "nbformat_minor": 5
}
