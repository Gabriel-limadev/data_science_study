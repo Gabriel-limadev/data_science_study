{
 "cells": [
  {
   "cell_type": "markdown",
   "id": "a052f12f",
   "metadata": {},
   "source": [
    "<h1 style='color: green; font-size: 36px; font-weight: bold;'>Sample tests</h1>\n",
    "\n",
    "## <font color='red' style='font-size: 30px;'>1.2 Effect of a sample size</font>\n",
    "<hr style='border: 2px solid red;'>"
   ]
  },
  {
   "cell_type": "code",
   "execution_count": 36,
   "id": "687ef0d2",
   "metadata": {},
   "outputs": [],
   "source": [
    "import pandas as pd\n",
    "import numpy as np\n",
    "import matplotlib.pyplot as plt\n",
    "import seaborn as sns"
   ]
  },
  {
   "cell_type": "code",
   "execution_count": 37,
   "id": "3db301cd",
   "metadata": {},
   "outputs": [
    {
     "data": {
      "text/html": [
       "<div>\n",
       "<style scoped>\n",
       "    .dataframe tbody tr th:only-of-type {\n",
       "        vertical-align: middle;\n",
       "    }\n",
       "\n",
       "    .dataframe tbody tr th {\n",
       "        vertical-align: top;\n",
       "    }\n",
       "\n",
       "    .dataframe thead th {\n",
       "        text-align: right;\n",
       "    }\n",
       "</style>\n",
       "<table border=\"1\" class=\"dataframe\">\n",
       "  <thead>\n",
       "    <tr style=\"text-align: right;\">\n",
       "      <th></th>\n",
       "      <th>userId</th>\n",
       "      <th>movieId</th>\n",
       "      <th>rating</th>\n",
       "      <th>timestamp</th>\n",
       "    </tr>\n",
       "  </thead>\n",
       "  <tbody>\n",
       "    <tr>\n",
       "      <th>0</th>\n",
       "      <td>1</td>\n",
       "      <td>1</td>\n",
       "      <td>4.0</td>\n",
       "      <td>964982703</td>\n",
       "    </tr>\n",
       "    <tr>\n",
       "      <th>1</th>\n",
       "      <td>1</td>\n",
       "      <td>3</td>\n",
       "      <td>4.0</td>\n",
       "      <td>964981247</td>\n",
       "    </tr>\n",
       "    <tr>\n",
       "      <th>2</th>\n",
       "      <td>1</td>\n",
       "      <td>6</td>\n",
       "      <td>4.0</td>\n",
       "      <td>964982224</td>\n",
       "    </tr>\n",
       "    <tr>\n",
       "      <th>3</th>\n",
       "      <td>1</td>\n",
       "      <td>47</td>\n",
       "      <td>5.0</td>\n",
       "      <td>964983815</td>\n",
       "    </tr>\n",
       "    <tr>\n",
       "      <th>4</th>\n",
       "      <td>1</td>\n",
       "      <td>50</td>\n",
       "      <td>5.0</td>\n",
       "      <td>964982931</td>\n",
       "    </tr>\n",
       "    <tr>\n",
       "      <th>...</th>\n",
       "      <td>...</td>\n",
       "      <td>...</td>\n",
       "      <td>...</td>\n",
       "      <td>...</td>\n",
       "    </tr>\n",
       "    <tr>\n",
       "      <th>100831</th>\n",
       "      <td>610</td>\n",
       "      <td>166534</td>\n",
       "      <td>4.0</td>\n",
       "      <td>1493848402</td>\n",
       "    </tr>\n",
       "    <tr>\n",
       "      <th>100832</th>\n",
       "      <td>610</td>\n",
       "      <td>168248</td>\n",
       "      <td>5.0</td>\n",
       "      <td>1493850091</td>\n",
       "    </tr>\n",
       "    <tr>\n",
       "      <th>100833</th>\n",
       "      <td>610</td>\n",
       "      <td>168250</td>\n",
       "      <td>5.0</td>\n",
       "      <td>1494273047</td>\n",
       "    </tr>\n",
       "    <tr>\n",
       "      <th>100834</th>\n",
       "      <td>610</td>\n",
       "      <td>168252</td>\n",
       "      <td>5.0</td>\n",
       "      <td>1493846352</td>\n",
       "    </tr>\n",
       "    <tr>\n",
       "      <th>100835</th>\n",
       "      <td>610</td>\n",
       "      <td>170875</td>\n",
       "      <td>3.0</td>\n",
       "      <td>1493846415</td>\n",
       "    </tr>\n",
       "  </tbody>\n",
       "</table>\n",
       "<p>100836 rows × 4 columns</p>\n",
       "</div>"
      ],
      "text/plain": [
       "        userId  movieId  rating   timestamp\n",
       "0            1        1     4.0   964982703\n",
       "1            1        3     4.0   964981247\n",
       "2            1        6     4.0   964982224\n",
       "3            1       47     5.0   964983815\n",
       "4            1       50     5.0   964982931\n",
       "...        ...      ...     ...         ...\n",
       "100831     610   166534     4.0  1493848402\n",
       "100832     610   168248     5.0  1493850091\n",
       "100833     610   168250     5.0  1494273047\n",
       "100834     610   168252     5.0  1493846352\n",
       "100835     610   170875     3.0  1493846415\n",
       "\n",
       "[100836 rows x 4 columns]"
      ]
     },
     "execution_count": 37,
     "metadata": {},
     "output_type": "execute_result"
    }
   ],
   "source": [
    "ratings = pd.read_csv('../data/ratings.csv')\n",
    "ratings"
   ]
  },
  {
   "cell_type": "code",
   "execution_count": 38,
   "id": "702bd0bf",
   "metadata": {},
   "outputs": [
    {
     "data": {
      "text/plain": [
       "movieId\n",
       "1    3.920930\n",
       "2    3.431818\n",
       "3    3.259615\n",
       "4    2.357143\n",
       "5    3.071429\n",
       "Name: rating, dtype: float64"
      ]
     },
     "execution_count": 38,
     "metadata": {},
     "output_type": "execute_result"
    }
   ],
   "source": [
    "note_average_per_movie = ratings.groupby('movieId').mean()['rating']\n",
    "note_average_per_movie.head()"
   ]
  },
  {
   "cell_type": "code",
   "execution_count": 39,
   "id": "43fe6d3f",
   "metadata": {},
   "outputs": [
    {
     "data": {
      "text/html": [
       "<div>\n",
       "<style scoped>\n",
       "    .dataframe tbody tr th:only-of-type {\n",
       "        vertical-align: middle;\n",
       "    }\n",
       "\n",
       "    .dataframe tbody tr th {\n",
       "        vertical-align: top;\n",
       "    }\n",
       "\n",
       "    .dataframe thead th {\n",
       "        text-align: right;\n",
       "    }\n",
       "</style>\n",
       "<table border=\"1\" class=\"dataframe\">\n",
       "  <thead>\n",
       "    <tr style=\"text-align: right;\">\n",
       "      <th></th>\n",
       "      <th>userId</th>\n",
       "      <th>rating</th>\n",
       "      <th>timestamp</th>\n",
       "    </tr>\n",
       "    <tr>\n",
       "      <th>movieId</th>\n",
       "      <th></th>\n",
       "      <th></th>\n",
       "      <th></th>\n",
       "    </tr>\n",
       "  </thead>\n",
       "  <tbody>\n",
       "    <tr>\n",
       "      <th>1</th>\n",
       "      <td>215</td>\n",
       "      <td>215</td>\n",
       "      <td>215</td>\n",
       "    </tr>\n",
       "    <tr>\n",
       "      <th>2</th>\n",
       "      <td>110</td>\n",
       "      <td>110</td>\n",
       "      <td>110</td>\n",
       "    </tr>\n",
       "    <tr>\n",
       "      <th>3</th>\n",
       "      <td>52</td>\n",
       "      <td>52</td>\n",
       "      <td>52</td>\n",
       "    </tr>\n",
       "    <tr>\n",
       "      <th>4</th>\n",
       "      <td>7</td>\n",
       "      <td>7</td>\n",
       "      <td>7</td>\n",
       "    </tr>\n",
       "    <tr>\n",
       "      <th>5</th>\n",
       "      <td>49</td>\n",
       "      <td>49</td>\n",
       "      <td>49</td>\n",
       "    </tr>\n",
       "  </tbody>\n",
       "</table>\n",
       "</div>"
      ],
      "text/plain": [
       "         userId  rating  timestamp\n",
       "movieId                           \n",
       "1           215     215        215\n",
       "2           110     110        110\n",
       "3            52      52         52\n",
       "4             7       7          7\n",
       "5            49      49         49"
      ]
     },
     "execution_count": 39,
     "metadata": {},
     "output_type": "execute_result"
    }
   ],
   "source": [
    "number_votes_per_movie = ratings.groupby('movieId').count()\n",
    "number_votes_per_movie.head()"
   ]
  },
  {
   "cell_type": "code",
   "execution_count": 40,
   "id": "7d80810f",
   "metadata": {},
   "outputs": [
    {
     "data": {
      "text/plain": [
       "array([     1,      2,      3, ..., 177765, 179819, 187593])"
      ]
     },
     "execution_count": 40,
     "metadata": {},
     "output_type": "execute_result"
    }
   ],
   "source": [
    "movies_with_more_than_9_votes = number_votes_per_movie.query('rating >= 10').index\n",
    "movies_with_more_than_9_votes.values"
   ]
  },
  {
   "cell_type": "markdown",
   "id": "ede76897",
   "metadata": {},
   "source": [
    "## MovieLens -  Average of each movie with at least 10 votes"
   ]
  },
  {
   "cell_type": "code",
   "execution_count": 41,
   "id": "080349ef",
   "metadata": {},
   "outputs": [
    {
     "data": {
      "text/plain": [
       "movieId\n",
       "1         3.920930\n",
       "2         3.431818\n",
       "3         3.259615\n",
       "5         3.071429\n",
       "6         3.946078\n",
       "            ...   \n",
       "174055    3.423077\n",
       "176371    3.805556\n",
       "177765    3.538462\n",
       "179819    3.125000\n",
       "187593    3.875000\n",
       "Name: rating, Length: 2269, dtype: float64"
      ]
     },
     "execution_count": 41,
     "metadata": {},
     "output_type": "execute_result"
    }
   ],
   "source": [
    "note_average_movies_with_more_than_9_votes = note_average_per_movie.loc[movies_with_more_than_9_votes.values]\n",
    "note_average_movies_with_more_than_9_votes"
   ]
  },
  {
   "cell_type": "markdown",
   "id": "96d19643",
   "metadata": {},
   "source": [
    "## Movies average with at least 10 votes"
   ]
  },
  {
   "cell_type": "code",
   "execution_count": 42,
   "id": "570cf6fe",
   "metadata": {},
   "outputs": [
    {
     "data": {
      "text/plain": [
       "3.4320503405352603"
      ]
     },
     "execution_count": 42,
     "metadata": {},
     "output_type": "execute_result"
    }
   ],
   "source": [
    "note_average_movies_with_more_than_9_votes.mean()"
   ]
  },
  {
   "cell_type": "markdown",
   "id": "a7877ec7",
   "metadata": {},
   "source": [
    "### <font color='blue' style='font-size: 30px;'>Visualizing the change of average over time</font>"
   ]
  },
  {
   "cell_type": "code",
   "execution_count": 43,
   "id": "27f8174e",
   "metadata": {},
   "outputs": [
    {
     "data": {
      "text/plain": [
       "[<matplotlib.lines.Line2D at 0x7fcd8b9de140>]"
      ]
     },
     "execution_count": 43,
     "metadata": {},
     "output_type": "execute_result"
    },
    {
     "data": {
      "image/png": "[encoded data removed]",
      "text/plain": [
       "<Figure size 432x288 with 1 Axes>"
      ]
     },
     "metadata": {
      "needs_background": "light"
     },
     "output_type": "display_data"
    }
   ],
   "source": [
    "size = len(note_average_movies_with_more_than_9_votes)\n",
    "medias = [note_average_movies_with_more_than_9_votes[0: i].mean() for i in range(1, size)]\n",
    "\n",
    "plt.plot(medias)"
   ]
  },
  {
   "cell_type": "markdown",
   "id": "434fbc20",
   "metadata": {},
   "source": [
    "### With a sample"
   ]
  },
  {
   "cell_type": "code",
   "execution_count": 44,
   "id": "31f3a907",
   "metadata": {},
   "outputs": [
    {
     "data": {
      "text/plain": [
       "[<matplotlib.lines.Line2D at 0x7fcd8b762830>]"
      ]
     },
     "execution_count": 44,
     "metadata": {},
     "output_type": "execute_result"
    },
    {
     "data": {
      "image/png": "[encoded data removed]",
      "text/plain": [
       "<Figure size 432x288 with 1 Axes>"
      ]
     },
     "metadata": {
      "needs_background": "light"
     },
     "output_type": "display_data"
    }
   ],
   "source": [
    "temp = note_average_movies_with_more_than_9_votes.sample(frac = 1, random_state = 75243)\n",
    "\n",
    "medias = [temp[0: i].mean() for i in range(1, len(temp))]\n",
    "    \n",
    "plt.plot(medias)"
   ]
  },
  {
   "cell_type": "markdown",
   "id": "acc0fbff",
   "metadata": {},
   "source": [
    ">As the sample grows, the media are stabilized."
   ]
  },
  {
   "cell_type": "markdown",
   "id": "41d2dc90",
   "metadata": {},
   "source": [
    "## <font color='red' style='font-size: 30px;'>1.3 Confidence interval</font>\n",
    "<hr style='border: 2px solid red;'>"
   ]
  },
  {
   "cell_type": "markdown",
   "id": "5ffcdeef",
   "metadata": {},
   "source": [
    "## Difference between Z-test and T-test"
   ]
  },
  {
   "cell_type": "markdown",
   "id": "fea09bb5",
   "metadata": {},
   "source": [
    "[Here is the difference](https://www.analyticsvidhya.com/blog/2020/06/statistics-analytics-hypothesis-testing-z-test-t-test/)"
   ]
  },
  {
   "cell_type": "markdown",
   "id": "c94c0a72",
   "metadata": {},
   "source": [
    "> <b>Z-test</b> is used in sample with more than 30 and when the population sample is known."
   ]
  },
  {
   "cell_type": "markdown",
   "id": "cce5dba7",
   "metadata": {},
   "source": [
    "> <b>T-test</b> is used in sample with less than 30 and when the population sample is not known."
   ]
  },
  {
   "cell_type": "markdown",
   "id": "c2422578",
   "metadata": {},
   "source": [
    "<p>Howeven the two tests for sample more than 30 are appeared</p>"
   ]
  },
  {
   "cell_type": "markdown",
   "id": "1eda8481",
   "metadata": {},
   "source": [
    "### <font color='blue' style='font-size: 30px;'>Z-test</font>"
   ]
  },
  {
   "cell_type": "markdown",
   "id": "196ff2c8",
   "metadata": {},
   "source": [
    "O **erro inferencial** é definido pelo **desvio padrão das médias amostrais** $\\sigma_\\bar{x}$ e pelo **nível de confiança** determinado para o processo.\n",
    "# $$e = z \\frac{\\sigma}{\\sqrt{n}}$$"
   ]
  },
  {
   "cell_type": "markdown",
   "id": "a4bb9786",
   "metadata": {},
   "source": [
    "### Intervalo de confiança para a média da população"
   ]
  },
  {
   "cell_type": "markdown",
   "id": "046c6269",
   "metadata": {},
   "source": [
    "#### Com desvio padrão populacional conhecido\n",
    "\n",
    "## $$\\mu = \\bar{x} \\pm z\\frac{\\sigma}{\\sqrt{n}}$$\n",
    "\n",
    "#### Com desvio padrão populacional desconhecido\n",
    "\n",
    "## $$\\mu = \\bar{x} \\pm z\\frac{s}{\\sqrt{n}}$$"
   ]
  },
  {
   "cell_type": "code",
   "execution_count": 45,
   "id": "17bb87b4",
   "metadata": {},
   "outputs": [],
   "source": [
    "# media = sample_media +- z * e"
   ]
  },
  {
   "cell_type": "markdown",
   "id": "9d6f9ce7",
   "metadata": {},
   "source": [
    "## Using Scipy"
   ]
  },
  {
   "cell_type": "markdown",
   "id": "194c3310",
   "metadata": {},
   "source": [
    "[method norm](https://docs.scipy.org/doc/scipy/reference/generated/scipy.stats.norm.html)"
   ]
  },
  {
   "cell_type": "code",
   "execution_count": 46,
   "id": "43a27eac",
   "metadata": {},
   "outputs": [
    {
     "data": {
      "text/plain": [
       "0.020804392788303542"
      ]
     },
     "execution_count": 46,
     "metadata": {},
     "output_type": "execute_result"
    }
   ],
   "source": [
    "from scipy.stats import norm\n",
    "\n",
    "z = norm.ppf(0.975)\n",
    "n = note_average_movies_with_more_than_9_votes.shape[0]\n",
    "sigma = note_average_movies_with_more_than_9_votes.std() / np.math.sqrt(n)\n",
    "\n",
    "e = z * sigma\n",
    "e"
   ]
  },
  {
   "cell_type": "code",
   "execution_count": 47,
   "id": "9ce5f566",
   "metadata": {},
   "outputs": [
    {
     "data": {
      "text/plain": [
       "(3.4112459477469566, 3.452854733323564)"
      ]
     },
     "execution_count": 47,
     "metadata": {},
     "output_type": "execute_result"
    }
   ],
   "source": [
    "mean = note_average_movies_with_more_than_9_votes.mean()\n",
    "interval = (mean - e, mean + e)\n",
    "interval"
   ]
  },
  {
   "cell_type": "markdown",
   "id": "1b3f9f06",
   "metadata": {},
   "source": [
    "## Using Statsmodel"
   ]
  },
  {
   "cell_type": "markdown",
   "id": "8d81e899",
   "metadata": {},
   "source": [
    "[method zconfint](https://www.statsmodels.org/dev/generated/statsmodels.stats.weightstats.zconfint.html)"
   ]
  },
  {
   "cell_type": "code",
   "execution_count": 48,
   "id": "75618a0d",
   "metadata": {},
   "outputs": [
    {
     "data": {
      "text/plain": [
       "(3.4112459477469557, 3.452854733323563)"
      ]
     },
     "execution_count": 48,
     "metadata": {},
     "output_type": "execute_result"
    }
   ],
   "source": [
    "from statsmodels.stats.weightstats import zconfint\n",
    "\n",
    "zconfint(note_average_movies_with_more_than_9_votes)"
   ]
  },
  {
   "cell_type": "markdown",
   "id": "9918b053",
   "metadata": {},
   "source": [
    "### <font color='blue' style='font-size: 30px;'>T-test</font>"
   ]
  },
  {
   "cell_type": "markdown",
   "id": "7eced234",
   "metadata": {},
   "source": [
    "[method DescrStatsW](https://www.statsmodels.org/dev/generated/statsmodels.stats.weightstats.DescrStatsW.html)"
   ]
  },
  {
   "cell_type": "code",
   "execution_count": 49,
   "id": "67eec5eb",
   "metadata": {},
   "outputs": [
    {
     "data": {
      "text/plain": [
       "(3.411234839229379, 3.4528658418411378)"
      ]
     },
     "execution_count": 49,
     "metadata": {},
     "output_type": "execute_result"
    }
   ],
   "source": [
    "from statsmodels.stats.weightstats import DescrStatsW\n",
    "\n",
    "d1 = DescrStatsW(note_average_movies_with_more_than_9_votes)\n",
    "d1.tconfint_mean()"
   ]
  },
  {
   "cell_type": "markdown",
   "id": "663230ea",
   "metadata": {},
   "source": [
    "## <font color='red' style='font-size: 30px;'>1.4 Others Tests</font>\n",
    "<hr style='border: 2px solid red;'>"
   ]
  },
  {
   "cell_type": "markdown",
   "id": "ba7c69f5",
   "metadata": {},
   "source": [
    "### <font color='blue' style='font-size: 30px;'>Comparing the average Toy Story with average general</font>"
   ]
  },
  {
   "cell_type": "code",
   "execution_count": 50,
   "id": "2f9b769e",
   "metadata": {},
   "outputs": [
    {
     "data": {
      "text/html": [
       "<div>\n",
       "<style scoped>\n",
       "    .dataframe tbody tr th:only-of-type {\n",
       "        vertical-align: middle;\n",
       "    }\n",
       "\n",
       "    .dataframe tbody tr th {\n",
       "        vertical-align: top;\n",
       "    }\n",
       "\n",
       "    .dataframe thead th {\n",
       "        text-align: right;\n",
       "    }\n",
       "</style>\n",
       "<table border=\"1\" class=\"dataframe\">\n",
       "  <thead>\n",
       "    <tr style=\"text-align: right;\">\n",
       "      <th></th>\n",
       "      <th>movieId</th>\n",
       "      <th>title</th>\n",
       "      <th>genres</th>\n",
       "    </tr>\n",
       "  </thead>\n",
       "  <tbody>\n",
       "    <tr>\n",
       "      <th>0</th>\n",
       "      <td>1</td>\n",
       "      <td>Toy Story (1995)</td>\n",
       "      <td>Adventure|Animation|Children|Comedy|Fantasy</td>\n",
       "    </tr>\n",
       "  </tbody>\n",
       "</table>\n",
       "</div>"
      ],
      "text/plain": [
       "   movieId             title                                       genres\n",
       "0        1  Toy Story (1995)  Adventure|Animation|Children|Comedy|Fantasy"
      ]
     },
     "execution_count": 50,
     "metadata": {},
     "output_type": "execute_result"
    }
   ],
   "source": [
    "movies = pd.read_csv('../data/movies.csv')\n",
    "movies.query('movieId == 1')"
   ]
  },
  {
   "cell_type": "code",
   "execution_count": 51,
   "id": "d31c2700",
   "metadata": {},
   "outputs": [
    {
     "data": {
      "text/html": [
       "<div>\n",
       "<style scoped>\n",
       "    .dataframe tbody tr th:only-of-type {\n",
       "        vertical-align: middle;\n",
       "    }\n",
       "\n",
       "    .dataframe tbody tr th {\n",
       "        vertical-align: top;\n",
       "    }\n",
       "\n",
       "    .dataframe thead th {\n",
       "        text-align: right;\n",
       "    }\n",
       "</style>\n",
       "<table border=\"1\" class=\"dataframe\">\n",
       "  <thead>\n",
       "    <tr style=\"text-align: right;\">\n",
       "      <th></th>\n",
       "      <th>userId</th>\n",
       "      <th>movieId</th>\n",
       "      <th>rating</th>\n",
       "      <th>timestamp</th>\n",
       "    </tr>\n",
       "  </thead>\n",
       "  <tbody>\n",
       "    <tr>\n",
       "      <th>0</th>\n",
       "      <td>1</td>\n",
       "      <td>1</td>\n",
       "      <td>4.0</td>\n",
       "      <td>964982703</td>\n",
       "    </tr>\n",
       "    <tr>\n",
       "      <th>516</th>\n",
       "      <td>5</td>\n",
       "      <td>1</td>\n",
       "      <td>4.0</td>\n",
       "      <td>847434962</td>\n",
       "    </tr>\n",
       "    <tr>\n",
       "      <th>874</th>\n",
       "      <td>7</td>\n",
       "      <td>1</td>\n",
       "      <td>4.5</td>\n",
       "      <td>1106635946</td>\n",
       "    </tr>\n",
       "    <tr>\n",
       "      <th>1434</th>\n",
       "      <td>15</td>\n",
       "      <td>1</td>\n",
       "      <td>2.5</td>\n",
       "      <td>1510577970</td>\n",
       "    </tr>\n",
       "    <tr>\n",
       "      <th>1667</th>\n",
       "      <td>17</td>\n",
       "      <td>1</td>\n",
       "      <td>4.5</td>\n",
       "      <td>1305696483</td>\n",
       "    </tr>\n",
       "    <tr>\n",
       "      <th>...</th>\n",
       "      <td>...</td>\n",
       "      <td>...</td>\n",
       "      <td>...</td>\n",
       "      <td>...</td>\n",
       "    </tr>\n",
       "    <tr>\n",
       "      <th>97364</th>\n",
       "      <td>606</td>\n",
       "      <td>1</td>\n",
       "      <td>2.5</td>\n",
       "      <td>1349082950</td>\n",
       "    </tr>\n",
       "    <tr>\n",
       "      <th>98479</th>\n",
       "      <td>607</td>\n",
       "      <td>1</td>\n",
       "      <td>4.0</td>\n",
       "      <td>964744033</td>\n",
       "    </tr>\n",
       "    <tr>\n",
       "      <th>98666</th>\n",
       "      <td>608</td>\n",
       "      <td>1</td>\n",
       "      <td>2.5</td>\n",
       "      <td>1117408267</td>\n",
       "    </tr>\n",
       "    <tr>\n",
       "      <th>99497</th>\n",
       "      <td>609</td>\n",
       "      <td>1</td>\n",
       "      <td>3.0</td>\n",
       "      <td>847221025</td>\n",
       "    </tr>\n",
       "    <tr>\n",
       "      <th>99534</th>\n",
       "      <td>610</td>\n",
       "      <td>1</td>\n",
       "      <td>5.0</td>\n",
       "      <td>1479542900</td>\n",
       "    </tr>\n",
       "  </tbody>\n",
       "</table>\n",
       "<p>215 rows × 4 columns</p>\n",
       "</div>"
      ],
      "text/plain": [
       "       userId  movieId  rating   timestamp\n",
       "0           1        1     4.0   964982703\n",
       "516         5        1     4.0   847434962\n",
       "874         7        1     4.5  1106635946\n",
       "1434       15        1     2.5  1510577970\n",
       "1667       17        1     4.5  1305696483\n",
       "...       ...      ...     ...         ...\n",
       "97364     606        1     2.5  1349082950\n",
       "98479     607        1     4.0   964744033\n",
       "98666     608        1     2.5  1117408267\n",
       "99497     609        1     3.0   847221025\n",
       "99534     610        1     5.0  1479542900\n",
       "\n",
       "[215 rows x 4 columns]"
      ]
     },
     "execution_count": 51,
     "metadata": {},
     "output_type": "execute_result"
    }
   ],
   "source": [
    "rating1 = ratings.query('movieId == 1')\n",
    "rating1"
   ]
  },
  {
   "cell_type": "markdown",
   "id": "7af2bf6e",
   "metadata": {},
   "source": [
    "### Distribution - Toy Story Ratings"
   ]
  },
  {
   "cell_type": "code",
   "execution_count": 52,
   "id": "ab0fe849",
   "metadata": {},
   "outputs": [
    {
     "data": {
      "image/png": "[encoded data removed]",
      "text/plain": [
       "<Figure size 1152x576 with 1 Axes>"
      ]
     },
     "metadata": {
      "needs_background": "light"
     },
     "output_type": "display_data"
    }
   ],
   "source": [
    "ax = sns.histplot(data = rating1, x = 'rating', kde = True)\n",
    "ax.figure.set_size_inches(16, 8)\n",
    "ax.set_title('Distribution - Toy Story Notes', fontsize = 20, y = 1.05)\n",
    "ax.set_xlabel('Ratings', fontsize = 16)\n",
    "ax.set_ylabel('Number of Notes', fontsize = 16)\n",
    "ax.tick_params(labelsize = 14)\n",
    "ax.grid(True)"
   ]
  },
  {
   "cell_type": "markdown",
   "id": "21a21dfb",
   "metadata": {},
   "source": [
    "### Boxplot - Toy Story Ratings"
   ]
  },
  {
   "cell_type": "code",
   "execution_count": 53,
   "id": "8df9a1a6",
   "metadata": {},
   "outputs": [
    {
     "data": {
      "image/png": "[encoded data removed]",
      "text/plain": [
       "<Figure size 1152x576 with 1 Axes>"
      ]
     },
     "metadata": {
      "needs_background": "light"
     },
     "output_type": "display_data"
    }
   ],
   "source": [
    "ax = sns.boxplot(data = rating1['rating'], orient = 'h', width = 0.3)\n",
    "ax.figure.set_size_inches(16, 8)\n",
    "ax.set_title('BoxPlot - Toy Story Notes', fontsize = 20, y = 1.05)\n",
    "ax.set_xlabel('Ratings', fontsize = 16)\n",
    "ax.tick_params(labelsize = 14)"
   ]
  },
  {
   "cell_type": "code",
   "execution_count": 54,
   "id": "ce0693a6",
   "metadata": {},
   "outputs": [
    {
     "data": {
      "text/plain": [
       "3.9209302325581397"
      ]
     },
     "execution_count": 54,
     "metadata": {},
     "output_type": "execute_result"
    }
   ],
   "source": [
    "rating1['rating'].mean()"
   ]
  },
  {
   "cell_type": "code",
   "execution_count": 55,
   "id": "9dd2e997",
   "metadata": {},
   "outputs": [
    {
     "data": {
      "text/plain": [
       "4.0"
      ]
     },
     "execution_count": 55,
     "metadata": {},
     "output_type": "execute_result"
    }
   ],
   "source": [
    "rating1['rating'].median()"
   ]
  },
  {
   "cell_type": "code",
   "execution_count": 56,
   "id": "ad032ac6",
   "metadata": {},
   "outputs": [
    {
     "data": {
      "text/plain": [
       "215"
      ]
     },
     "execution_count": 56,
     "metadata": {},
     "output_type": "execute_result"
    }
   ],
   "source": [
    "rating1['rating'].count()"
   ]
  },
  {
   "cell_type": "code",
   "execution_count": 57,
   "id": "0f485e8a",
   "metadata": {},
   "outputs": [
    {
     "data": {
      "text/plain": [
       "(3.8093359183563402, 4.032524546759939)"
      ]
     },
     "execution_count": 57,
     "metadata": {},
     "output_type": "execute_result"
    }
   ],
   "source": [
    "zconfint(rating1['rating'])"
   ]
  },
  {
   "cell_type": "markdown",
   "id": "359a36a4",
   "metadata": {},
   "source": [
    "### Affirmative Test"
   ]
  },
  {
   "cell_type": "markdown",
   "id": "89f88863",
   "metadata": {},
   "source": [
    "> The number below i taked of average calculed some fields above- Where gived this result"
   ]
  },
  {
   "cell_type": "code",
   "execution_count": 58,
   "id": "067814e2",
   "metadata": {},
   "outputs": [],
   "source": [
    "general_media_movies = 3.4320503405352603"
   ]
  },
  {
   "cell_type": "code",
   "execution_count": 59,
   "id": "28226836",
   "metadata": {},
   "outputs": [
    {
     "data": {
      "text/plain": [
       "(8.586342305916716, 8.978190401886942e-18)"
      ]
     },
     "execution_count": 59,
     "metadata": {},
     "output_type": "execute_result"
    }
   ],
   "source": [
    "from statsmodels.stats.weightstats import ztest\n",
    "\n",
    "ztest(rating1['rating'], value = general_media_movies)"
   ]
  },
  {
   "cell_type": "markdown",
   "id": "33e3e8d0",
   "metadata": {},
   "source": [
    ">The second ztest value is p_value!"
   ]
  },
  {
   "cell_type": "markdown",
   "id": "bb548948",
   "metadata": {},
   "source": [
    "> IF the <b>p_value is <= 0.05 </b>, So this value is not egual to general_media"
   ]
  },
  {
   "cell_type": "markdown",
   "id": "cdba65f5",
   "metadata": {},
   "source": [
    "### <font color='blue'>Conclusion</font>"
   ]
  },
  {
   "cell_type": "markdown",
   "id": "5601ed7d",
   "metadata": {},
   "source": [
    "> ### About Toy Story\n",
    "> ***  \n",
    "The Toy Story movie has a different average than the average of all the movies"
   ]
  },
  {
   "cell_type": "markdown",
   "id": "c4cbdc1e",
   "metadata": {},
   "source": [
    "### <font color='blue' style='font-size: 30px;'>Toy Story - Visualizing the change of average over time</font>"
   ]
  },
  {
   "cell_type": "code",
   "execution_count": 60,
   "id": "9c019977",
   "metadata": {},
   "outputs": [
    {
     "data": {
      "text/plain": [
       "[<matplotlib.lines.Line2D at 0x7fcd8b1fdfc0>]"
      ]
     },
     "execution_count": 60,
     "metadata": {},
     "output_type": "execute_result"
    },
    {
     "data": {
      "image/png": "[encoded data removed]",
      "text/plain": [
       "<Figure size 432x288 with 1 Axes>"
      ]
     },
     "metadata": {
      "needs_background": "light"
     },
     "output_type": "display_data"
    }
   ],
   "source": [
    "temp = rating1.sample(frac = 1, random_state = 75241)['rating']\n",
    "\n",
    "medias = [temp[0: i].mean() for i in range(1, len(temp))]\n",
    "    \n",
    "plt.plot(medias)"
   ]
  },
  {
   "cell_type": "code",
   "execution_count": 61,
   "id": "d234ed53",
   "metadata": {},
   "outputs": [
    {
     "data": {
      "text/plain": [
       "array([[2.00000000e+00, 4.50000000e+00, 3.26876211e-02],\n",
       "       [3.00000000e+00, 4.00000000e+00, 3.25254351e-01],\n",
       "       [4.00000000e+00, 3.87500000e+00, 2.99521970e-01],\n",
       "       [5.00000000e+00, 3.90000000e+00, 1.58267818e-01],\n",
       "       [6.00000000e+00, 3.91666667e+00, 7.40693646e-02],\n",
       "       [7.00000000e+00, 3.92857143e+00, 3.05837219e-02],\n",
       "       [8.00000000e+00, 4.06250000e+00, 8.54684682e-03],\n",
       "       [9.00000000e+00, 3.94444444e+00, 3.43513698e-02],\n",
       "       [1.00000000e+01, 3.60000000e+00, 6.79775744e-01],\n",
       "       [1.10000000e+01, 3.59090909e+00, 6.66104056e-01],\n",
       "       [1.20000000e+01, 3.50000000e+00, 8.45259443e-01],\n",
       "       [1.30000000e+01, 3.50000000e+00, 8.31972270e-01],\n",
       "       [1.40000000e+01, 3.53571429e+00, 7.28503654e-01],\n",
       "       [1.50000000e+01, 3.60000000e+00, 5.56156495e-01],\n",
       "       [1.60000000e+01, 3.56250000e+00, 6.28416636e-01],\n",
       "       [1.70000000e+01, 3.64705882e+00, 4.20561961e-01],\n",
       "       [1.80000000e+01, 3.72222222e+00, 2.69271809e-01],\n",
       "       [1.90000000e+01, 3.68421053e+00, 3.15739563e-01],\n",
       "       [2.00000000e+01, 3.65000000e+00, 3.65581172e-01],\n",
       "       [2.10000000e+01, 3.57142857e+00, 5.65017036e-01],\n",
       "       [2.20000000e+01, 3.59090909e+00, 4.93088509e-01],\n",
       "       [2.30000000e+01, 3.60869565e+00, 4.26582466e-01],\n",
       "       [2.40000000e+01, 3.62500000e+00, 3.65783375e-01],\n",
       "       [2.50000000e+01, 3.64000000e+00, 3.10828735e-01],\n",
       "       [2.60000000e+01, 3.65384615e+00, 2.61717590e-01],\n",
       "       [2.70000000e+01, 3.64814815e+00, 2.55999905e-01],\n",
       "       [2.80000000e+01, 3.69642857e+00, 1.63141374e-01],\n",
       "       [2.90000000e+01, 3.74137931e+00, 1.00549868e-01],\n",
       "       [3.00000000e+01, 3.73333333e+00, 9.81271883e-02],\n",
       "       [3.10000000e+01, 3.74193548e+00, 7.89487789e-02],\n",
       "       [3.20000000e+01, 3.67187500e+00, 1.93890494e-01],\n",
       "       [3.30000000e+01, 3.66666667e+00, 1.89944353e-01],\n",
       "       [3.40000000e+01, 3.70588235e+00, 1.24004788e-01],\n",
       "       [3.50000000e+01, 3.74285714e+00, 7.87082134e-02],\n",
       "       [3.60000000e+01, 3.72222222e+00, 9.35357606e-02],\n",
       "       [3.70000000e+01, 3.70270270e+00, 1.10135903e-01],\n",
       "       [3.80000000e+01, 3.73684211e+00, 7.02939802e-02],\n",
       "       [3.90000000e+01, 3.74358974e+00, 5.77196007e-02],\n",
       "       [4.00000000e+01, 3.72500000e+00, 6.89566996e-02],\n",
       "       [4.10000000e+01, 3.75609756e+00, 4.30276969e-02],\n",
       "       [4.20000000e+01, 3.78571429e+00, 2.61926823e-02],\n",
       "       [4.30000000e+01, 3.81395349e+00, 1.55599321e-02],\n",
       "       [4.40000000e+01, 3.81818182e+00, 1.23327254e-02],\n",
       "       [4.50000000e+01, 3.82222222e+00, 9.71325070e-03],\n",
       "       [4.60000000e+01, 3.80434783e+00, 1.22604041e-02],\n",
       "       [4.70000000e+01, 3.78723404e+00, 1.52990593e-02],\n",
       "       [4.80000000e+01, 3.81250000e+00, 8.96618888e-03],\n",
       "       [4.90000000e+01, 3.80612245e+00, 8.76688400e-03],\n",
       "       [5.00000000e+01, 3.81000000e+00, 6.89753729e-03],\n",
       "       [5.10000000e+01, 3.81372549e+00, 5.39451616e-03],\n",
       "       [5.20000000e+01, 3.81730769e+00, 4.19384423e-03],\n",
       "       [5.30000000e+01, 3.80188679e+00, 5.38521229e-03],\n",
       "       [5.40000000e+01, 3.80555556e+00, 4.19576337e-03],\n",
       "       [5.50000000e+01, 3.79090909e+00, 5.36835295e-03],\n",
       "       [5.60000000e+01, 3.77678571e+00, 6.79420566e-03],\n",
       "       [5.70000000e+01, 3.76315789e+00, 8.51222020e-03],\n",
       "       [5.80000000e+01, 3.78448276e+00, 4.97555857e-03],\n",
       "       [5.90000000e+01, 3.78813559e+00, 3.90405043e-03],\n",
       "       [6.00000000e+01, 3.80833333e+00, 2.21691552e-03],\n",
       "       [6.10000000e+01, 3.81147541e+00, 1.71348566e-03],\n",
       "       [6.20000000e+01, 3.79838710e+00, 2.21854683e-03],\n",
       "       [6.30000000e+01, 3.79365079e+00, 2.16670911e-03],\n",
       "       [6.40000000e+01, 3.78906250e+00, 2.11557430e-03],\n",
       "       [6.50000000e+01, 3.79230769e+00, 1.63816969e-03],\n",
       "       [6.60000000e+01, 3.78030303e+00, 2.11290472e-03],\n",
       "       [6.70000000e+01, 3.78358209e+00, 1.63917965e-03],\n",
       "       [6.80000000e+01, 3.77205882e+00, 2.10787701e-03],\n",
       "       [6.90000000e+01, 3.77536232e+00, 1.63820801e-03],\n",
       "       [7.00000000e+01, 3.77857143e+00, 1.26670468e-03],\n",
       "       [7.10000000e+01, 3.76056338e+00, 2.24260477e-03],\n",
       "       [7.20000000e+01, 3.76388889e+00, 1.75250848e-03],\n",
       "       [7.30000000e+01, 3.77397260e+00, 1.13652508e-03],\n",
       "       [7.40000000e+01, 3.79054054e+00, 6.36108591e-04],\n",
       "       [7.50000000e+01, 3.80666667e+00, 3.50424452e-04],\n",
       "       [7.60000000e+01, 3.81578947e+00, 2.18415198e-04],\n",
       "       [7.70000000e+01, 3.81168831e+00, 2.13338973e-04],\n",
       "       [7.80000000e+01, 3.81410256e+00, 1.60742377e-04],\n",
       "       [7.90000000e+01, 3.81645570e+00, 1.20536162e-04],\n",
       "       [8.00000000e+01, 3.83125000e+00, 6.35513542e-05],\n",
       "       [8.10000000e+01, 3.84567901e+00, 3.30072293e-05],\n",
       "       [8.20000000e+01, 3.84146341e+00, 3.23040037e-05],\n",
       "       [8.30000000e+01, 3.84337349e+00, 2.37455688e-05],\n",
       "       [8.40000000e+01, 3.85714286e+00, 1.20770733e-05],\n",
       "       [8.50000000e+01, 3.84705882e+00, 1.70886732e-05],\n",
       "       [8.60000000e+01, 3.83139535e+00, 3.60818562e-05],\n",
       "       [8.70000000e+01, 3.83333333e+00, 2.68125761e-05],\n",
       "       [8.80000000e+01, 3.82386364e+00, 3.68156251e-05],\n",
       "       [8.90000000e+01, 3.80898876e+00, 7.31387061e-05],\n",
       "       [9.00000000e+01, 3.81111111e+00, 5.52560685e-05],\n",
       "       [9.10000000e+01, 3.81318681e+00, 4.15721710e-05],\n",
       "       [9.20000000e+01, 3.82065217e+00, 2.54050853e-05],\n",
       "       [9.30000000e+01, 3.82258065e+00, 1.89116132e-05],\n",
       "       [9.40000000e+01, 3.82446809e+00, 1.40192848e-05],\n",
       "       [9.50000000e+01, 3.81578947e+00, 1.93002452e-05],\n",
       "       [9.60000000e+01, 3.81770833e+00, 1.43371543e-05],\n",
       "       [9.70000000e+01, 3.82989691e+00, 7.47044036e-06],\n",
       "       [9.80000000e+01, 3.84183673e+00, 3.84367982e-06],\n",
       "       [9.90000000e+01, 3.82323232e+00, 1.31018810e-05],\n",
       "       [1.00000000e+02, 3.81500000e+00, 1.77381032e-05],\n",
       "       [1.01000000e+02, 3.79702970e+00, 5.15631924e-05],\n",
       "       [1.02000000e+02, 3.79901961e+00, 3.95691655e-05],\n",
       "       [1.03000000e+02, 3.78155340e+00, 1.05324901e-04],\n",
       "       [1.04000000e+02, 3.78365385e+00, 8.20734096e-05],\n",
       "       [1.05000000e+02, 3.78571429e+00, 6.37366680e-05],\n",
       "       [1.06000000e+02, 3.78773585e+00, 4.93276207e-05],\n",
       "       [1.07000000e+02, 3.79439252e+00, 3.15851049e-05],\n",
       "       [1.08000000e+02, 3.78240741e+00, 5.74119565e-05],\n",
       "       [1.09000000e+02, 3.78440367e+00, 4.45206381e-05],\n",
       "       [1.10000000e+02, 3.79545455e+00, 2.50349980e-05],\n",
       "       [1.11000000e+02, 3.80180180e+00, 1.59338365e-05],\n",
       "       [1.12000000e+02, 3.80357143e+00, 1.21816761e-05],\n",
       "       [1.13000000e+02, 3.80530973e+00, 9.28238515e-06],\n",
       "       [1.14000000e+02, 3.80701754e+00, 7.04980010e-06],\n",
       "       [1.15000000e+02, 3.80869565e+00, 5.33651295e-06],\n",
       "       [1.16000000e+02, 3.80172414e+00, 7.13242034e-06],\n",
       "       [1.17000000e+02, 3.81196581e+00, 3.87772396e-06],\n",
       "       [1.18000000e+02, 3.80932203e+00, 3.78902454e-06],\n",
       "       [1.19000000e+02, 3.80672269e+00, 3.70165239e-06],\n",
       "       [1.20000000e+02, 3.80416667e+00, 3.61562445e-06],\n",
       "       [1.21000000e+02, 3.80991736e+00, 2.23440902e-06],\n",
       "       [1.22000000e+02, 3.81967213e+00, 1.19359214e-06],\n",
       "       [1.23000000e+02, 3.82113821e+00, 8.90777191e-07],\n",
       "       [1.24000000e+02, 3.81451613e+00, 1.21655280e-06],\n",
       "       [1.25000000e+02, 3.80800000e+00, 1.64920292e-06],\n",
       "       [1.26000000e+02, 3.80952381e+00, 1.23839020e-06],\n",
       "       [1.27000000e+02, 3.79921260e+00, 2.44470905e-06],\n",
       "       [1.28000000e+02, 3.80859375e+00, 1.32596263e-06],\n",
       "       [1.29000000e+02, 3.80232558e+00, 1.77997168e-06],\n",
       "       [1.30000000e+02, 3.78846154e+00, 5.10674028e-06],\n",
       "       [1.31000000e+02, 3.78625954e+00, 4.98691373e-06],\n",
       "       [1.32000000e+02, 3.79545455e+00, 2.77994027e-06],\n",
       "       [1.33000000e+02, 3.79323308e+00, 2.71524721e-06],\n",
       "       [1.34000000e+02, 3.79477612e+00, 2.07587279e-06],\n",
       "       [1.35000000e+02, 3.78518519e+00, 3.86981827e-06],\n",
       "       [1.36000000e+02, 3.78676471e+00, 2.97715011e-06],\n",
       "       [1.37000000e+02, 3.78467153e+00, 2.90685530e-06],\n",
       "       [1.38000000e+02, 3.78623188e+00, 2.22997826e-06],\n",
       "       [1.39000000e+02, 3.78057554e+00, 2.92302054e-06],\n",
       "       [1.40000000e+02, 3.78571429e+00, 1.86173699e-06],\n",
       "       [1.41000000e+02, 3.78014184e+00, 2.44185078e-06],\n",
       "       [1.42000000e+02, 3.78169014e+00, 1.87434966e-06],\n",
       "       [1.43000000e+02, 3.78321678e+00, 1.43481293e-06],\n",
       "       [1.44000000e+02, 3.78472222e+00, 1.09534891e-06],\n",
       "       [1.45000000e+02, 3.78620690e+00, 8.33914593e-07],\n",
       "       [1.46000000e+02, 3.79452055e+00, 4.56541001e-07],\n",
       "       [1.47000000e+02, 3.80272109e+00, 2.47810681e-07],\n",
       "       [1.48000000e+02, 3.80405405e+00, 1.86476315e-07],\n",
       "       [1.49000000e+02, 3.80536913e+00, 1.39944973e-07],\n",
       "       [1.50000000e+02, 3.80666667e+00, 1.04741879e-07],\n",
       "       [1.51000000e+02, 3.81456954e+00, 5.56387382e-08],\n",
       "       [1.52000000e+02, 3.82236842e+00, 2.93105574e-08],\n",
       "       [1.53000000e+02, 3.82352941e+00, 2.16910698e-08],\n",
       "       [1.54000000e+02, 3.82792208e+00, 1.29653324e-08],\n",
       "       [1.55000000e+02, 3.83548387e+00, 6.69721359e-09],\n",
       "       [1.56000000e+02, 3.83653846e+00, 4.90242790e-09],\n",
       "       [1.57000000e+02, 3.83757962e+00, 3.57919867e-09],\n",
       "       [1.58000000e+02, 3.83227848e+00, 5.06503828e-09],\n",
       "       [1.59000000e+02, 3.83962264e+00, 2.59312266e-09],\n",
       "       [1.60000000e+02, 3.84062500e+00, 1.88825401e-09],\n",
       "       [1.61000000e+02, 3.82919255e+00, 6.89862648e-09],\n",
       "       [1.62000000e+02, 3.83024691e+00, 5.08865419e-09],\n",
       "       [1.63000000e+02, 3.83128834e+00, 3.74416511e-09],\n",
       "       [1.64000000e+02, 3.82621951e+00, 5.23409617e-09],\n",
       "       [1.65000000e+02, 3.83333333e+00, 2.71504538e-09],\n",
       "       [1.66000000e+02, 3.83433735e+00, 1.99248563e-09],\n",
       "       [1.67000000e+02, 3.84131737e+00, 1.02165825e-09],\n",
       "       [1.68000000e+02, 3.84523810e+00, 5.98601443e-10],\n",
       "       [1.69000000e+02, 3.85207101e+00, 3.02604651e-10],\n",
       "       [1.70000000e+02, 3.85000000e+00, 2.96678912e-10],\n",
       "       [1.71000000e+02, 3.85087719e+00, 2.14734248e-10],\n",
       "       [1.72000000e+02, 3.84593023e+00, 3.08741192e-10],\n",
       "       [1.73000000e+02, 3.84971098e+00, 1.79178935e-10],\n",
       "       [1.74000000e+02, 3.85057471e+00, 1.29397029e-10],\n",
       "       [1.75000000e+02, 3.85428571e+00, 7.43737530e-11],\n",
       "       [1.76000000e+02, 3.86079545e+00, 3.68536490e-11],\n",
       "       [1.77000000e+02, 3.86723164e+00, 1.81289945e-11],\n",
       "       [1.78000000e+02, 3.87078652e+00, 1.02268841e-11],\n",
       "       [1.79000000e+02, 3.86312849e+00, 2.47640721e-11],\n",
       "       [1.80000000e+02, 3.86388889e+00, 1.77385695e-11],\n",
       "       [1.81000000e+02, 3.87016575e+00, 8.70923302e-12],\n",
       "       [1.82000000e+02, 3.87087912e+00, 6.20188662e-12],\n",
       "       [1.83000000e+02, 3.86612022e+00, 9.18602982e-12],\n",
       "       [1.84000000e+02, 3.86684783e+00, 6.55136516e-12],\n",
       "       [1.85000000e+02, 3.87027027e+00, 3.68848231e-12],\n",
       "       [1.86000000e+02, 3.87634409e+00, 1.78725791e-12],\n",
       "       [1.87000000e+02, 3.88235294e+00, 8.60003783e-13],\n",
       "       [1.88000000e+02, 3.88297872e+00, 6.05615022e-13],\n",
       "       [1.89000000e+02, 3.88359788e+00, 4.25512921e-13],\n",
       "       [1.90000000e+02, 3.88684211e+00, 2.33704240e-13],\n",
       "       [1.91000000e+02, 3.88743455e+00, 1.63269853e-13],\n",
       "       [1.92000000e+02, 3.88802083e+00, 1.13806300e-13],\n",
       "       [1.93000000e+02, 3.88860104e+00, 7.91493424e-14],\n",
       "       [1.94000000e+02, 3.89175258e+00, 4.27825844e-14],\n",
       "       [1.95000000e+02, 3.89230769e+00, 2.95855547e-14],\n",
       "       [1.96000000e+02, 3.88775510e+00, 4.62347615e-14],\n",
       "       [1.97000000e+02, 3.89086294e+00, 2.49328007e-14],\n",
       "       [1.98000000e+02, 3.89393939e+00, 1.33706840e-14],\n",
       "       [1.99000000e+02, 3.89949749e+00, 6.16061375e-15],\n",
       "       [2.00000000e+02, 3.89500000e+00, 9.74907416e-15],\n",
       "       [2.01000000e+02, 3.89552239e+00, 6.71276811e-15],\n",
       "       [2.02000000e+02, 3.89603960e+00, 4.61195201e-15],\n",
       "       [2.03000000e+02, 3.89655172e+00, 3.16164147e-15],\n",
       "       [2.04000000e+02, 3.90196078e+00, 1.44384900e-15],\n",
       "       [2.05000000e+02, 3.89756098e+00, 2.30984574e-15],\n",
       "       [2.06000000e+02, 3.90291262e+00, 1.05559988e-15],\n",
       "       [2.07000000e+02, 3.90821256e+00, 4.79308868e-16],\n",
       "       [2.08000000e+02, 3.90865385e+00, 3.26099104e-16],\n",
       "       [2.09000000e+02, 3.91387560e+00, 1.46669403e-16],\n",
       "       [2.10000000e+02, 3.91428571e+00, 9.92703009e-17],\n",
       "       [2.11000000e+02, 3.91469194e+00, 6.70462575e-17],\n",
       "       [2.12000000e+02, 3.91509434e+00, 4.51861152e-17],\n",
       "       [2.13000000e+02, 3.91549296e+00, 3.03885940e-17],\n",
       "       [2.14000000e+02, 3.92056075e+00, 1.34183252e-17]])"
      ]
     },
     "execution_count": 61,
     "metadata": {},
     "output_type": "execute_result"
    }
   ],
   "source": [
    "temp = rating1.sample(frac = 1, random_state = 75241)['rating']\n",
    "\n",
    "def calcule_test(i):\n",
    "    media = temp[0: i].mean()\n",
    "    stat, p = ztest(temp[0: i], value = general_media_movies)\n",
    "    return (i, media, p)\n",
    "\n",
    "values = np.array([calcule_test(i) for i in range(2, len(temp))])\n",
    "    \n",
    "values"
   ]
  },
  {
   "cell_type": "markdown",
   "id": "b295823a",
   "metadata": {},
   "source": [
    "## ploting averages"
   ]
  },
  {
   "cell_type": "code",
   "execution_count": 62,
   "id": "aedb3683",
   "metadata": {},
   "outputs": [
    {
     "data": {
      "text/plain": [
       "Text(130, 0.5, '0.05')"
      ]
     },
     "execution_count": 62,
     "metadata": {},
     "output_type": "execute_result"
    },
    {
     "data": {
      "image/png": "[encoded data removed]",
      "text/plain": [
       "<Figure size 1152x576 with 1 Axes>"
      ]
     },
     "metadata": {
      "needs_background": "light"
     },
     "output_type": "display_data"
    }
   ],
   "source": [
    "fig, ax = plt.subplots(nrows = 1, ncols = 1, figsize = (16, 8))\n",
    "\n",
    "ax.plot(values[:, 0], values[:, 1])\n",
    "ax.plot(values[:, 0], values[:, 2])\n",
    "\n",
    "ax.set_title('Average and P_values over time', fontsize = 20, y = 1.05)\n",
    "ax.set_xlabel('Number of Notes', fontsize = 16)\n",
    "ax.set_ylabel('Notes', fontsize = 16)\n",
    "ax.tick_params(labelsize = 14)\n",
    "ax.grid(True)\n",
    "\n",
    "ax.hlines(y = 0.05, xmin = 2, xmax = len(values), colors = 'red')\n",
    "ax.hlines(y = temp.mean(), xmin = 2, xmax = len(values), colors = 'k')\n",
    "\n",
    "ax.annotate(\n",
    "    'Average general', \n",
    "    xy = (150, temp.mean()),\n",
    "    fontsize = 14,\n",
    "    xytext = (130, 4.4),\n",
    "    arrowprops = dict(facecolor='k')\n",
    ")\n",
    "\n",
    "ax.annotate(\n",
    "    '0.05', \n",
    "    xy = (150, 0.05),\n",
    "    fontsize = 14,\n",
    "    color = 'red',\n",
    "    xytext = (130, 0.5),\n",
    "    arrowprops = dict(facecolor='k')\n",
    ")"
   ]
  },
  {
   "cell_type": "markdown",
   "id": "0573768b",
   "metadata": {},
   "source": [
    "<h1 style='color: green; font-size: 36px; font-weight: bold;'>Two sample tests</h1>"
   ]
  },
  {
   "cell_type": "markdown",
   "id": "fbba5a79",
   "metadata": {},
   "source": [
    "## Comparing two sample average "
   ]
  },
  {
   "cell_type": "markdown",
   "id": "db9f0006",
   "metadata": {},
   "source": [
    "## z-test"
   ]
  },
  {
   "cell_type": "code",
   "execution_count": 63,
   "id": "01fbc2a7",
   "metadata": {},
   "outputs": [
    {
     "data": {
      "text/plain": [
       "(0.2799245129192442, 0.5588219849631111)"
      ]
     },
     "execution_count": 63,
     "metadata": {},
     "output_type": "execute_result"
    }
   ],
   "source": [
    "zconfint(rating1['rating'], ratings['rating'])"
   ]
  },
  {
   "cell_type": "markdown",
   "id": "ab9b3c79",
   "metadata": {},
   "source": [
    "> The <b>note1 average['rating']</b> is (0.2799245129192442, 0.5588219849631111) more taller than <b>ratings['rating']</b>"
   ]
  },
  {
   "cell_type": "code",
   "execution_count": 64,
   "id": "0fbc880f",
   "metadata": {},
   "outputs": [
    {
     "data": {
      "text/plain": [
       "(5.894327101501841, 3.762112778881965e-09)"
      ]
     },
     "execution_count": 64,
     "metadata": {},
     "output_type": "execute_result"
    }
   ],
   "source": [
    "ztest(rating1['rating'], ratings['rating']) # -> p_value is the second value"
   ]
  },
  {
   "cell_type": "markdown",
   "id": "70f785bc",
   "metadata": {},
   "source": [
    "## t-test"
   ]
  },
  {
   "cell_type": "code",
   "execution_count": 65,
   "id": "206435c4",
   "metadata": {},
   "outputs": [
    {
     "data": {
      "text/plain": [
       "Ttest_indResult(statistic=5.894327101501841, pvalue=3.774003138720876e-09)"
      ]
     },
     "execution_count": 65,
     "metadata": {},
     "output_type": "execute_result"
    }
   ],
   "source": [
    "from scipy.stats import ttest_ind\n",
    "\n",
    "ttest_ind(rating1['rating'], ratings['rating'])"
   ]
  },
  {
   "cell_type": "markdown",
   "id": "65c6a2b8",
   "metadata": {},
   "source": [
    "> With scipy we get see the p_value, however for more details and more tests is better use the statsmodel"
   ]
  },
  {
   "cell_type": "markdown",
   "id": "cfb0c3d8",
   "metadata": {},
   "source": [
    "## Statsmodel"
   ]
  },
  {
   "cell_type": "markdown",
   "id": "0a68ff49",
   "metadata": {},
   "source": [
    "[Source](https://www.statsmodels.org/dev/generated/statsmodels.stats.weightstats.DescrStatsW.get_compare.html#statsmodels.stats.weightstats.DescrStatsW.get_compare)"
   ]
  },
  {
   "cell_type": "code",
   "execution_count": 119,
   "id": "793990a4",
   "metadata": {},
   "outputs": [
    {
     "data": {
      "text/html": [
       "<table class=\"simpletable\">\n",
       "<caption>Test for equality of means</caption>\n",
       "<tr>\n",
       "      <td></td>         <th>coef</th>     <th>std err</th>      <th>t</th>      <th>P>|t|</th>  <th>[0.025</th>    <th>0.975]</th>  \n",
       "</tr>\n",
       "<tr>\n",
       "  <th>subset #1</th> <td>   -0.4194</td> <td>    0.071</td> <td>   -5.894</td> <td> 0.000</td> <td>   -0.559</td> <td>   -0.280</td>\n",
       "</tr>\n",
       "</table>"
      ],
      "text/plain": [
       "<class 'statsmodels.iolib.table.SimpleTable'>"
      ]
     },
     "execution_count": 119,
     "metadata": {},
     "output_type": "execute_result"
    }
   ],
   "source": [
    "from statsmodels.stats.weightstats import DescrStatsW\n",
    "\n",
    "description_all_ratings = DescrStatsW(ratings['rating'])\n",
    "description_toy_story = DescrStatsW(rating1['rating'])\n",
    "\n",
    "comparation = description_all_ratings.get_compare(description_toy_story)\n",
    "\n",
    "comparation.summary()"
   ]
  },
  {
   "cell_type": "markdown",
   "id": "d3e04399",
   "metadata": {},
   "source": [
    "### Using DescrStatsW.get_compare with z-test"
   ]
  },
  {
   "cell_type": "code",
   "execution_count": 94,
   "id": "2fe3abf8",
   "metadata": {},
   "outputs": [
    {
     "data": {
      "text/html": [
       "<table class=\"simpletable\">\n",
       "<caption>Test for equality of means</caption>\n",
       "<tr>\n",
       "      <td></td>         <th>coef</th>     <th>std err</th>      <th>z</th>      <th>P>|z|</th>  <th>[0.025</th>    <th>0.975]</th>  \n",
       "</tr>\n",
       "<tr>\n",
       "  <th>subset #1</th> <td>   -0.4194</td> <td>    0.071</td> <td>   -5.894</td> <td> 0.000</td> <td>   -0.559</td> <td>   -0.280</td>\n",
       "</tr>\n",
       "</table>"
      ],
      "text/plain": [
       "<class 'statsmodels.iolib.table.SimpleTable'>"
      ]
     },
     "execution_count": 94,
     "metadata": {},
     "output_type": "execute_result"
    }
   ],
   "source": [
    "comparation.summary(use_t = False) #-> Result this case is identical"
   ]
  },
  {
   "cell_type": "markdown",
   "id": "b5f91862",
   "metadata": {},
   "source": [
    "## Box plot two sample"
   ]
  },
  {
   "cell_type": "code",
   "execution_count": 116,
   "id": "e8893577",
   "metadata": {},
   "outputs": [
    {
     "data": {
      "image/png": "[encoded data removed]",
      "text/plain": [
       "<Figure size 1152x576 with 1 Axes>"
      ]
     },
     "metadata": {
      "needs_background": "light"
     },
     "output_type": "display_data"
    }
   ],
   "source": [
    "fig, ax = plt.subplots(nrows = 1, ncols = 1, figsize = (16, 8))\n",
    "\n",
    "boxes = ax.boxplot([ratings['rating'], rating1['rating']], patch_artist = True)\n",
    "ax.set_title('Comparation between Toy-Story and all notes movies', fontsize = 20, y = 1.05)\n",
    "ax.set_xticklabels(['All movies', 'Toy-Story'], fontsize = 14)\n",
    "ax.grid(True)\n",
    "\n",
    "colors = ['grey', 'skyblue']\n",
    "for box, color in zip(boxes['boxes'], colors):\n",
    "    box.set_color(color)\n",
    "\n",
    "ax;"
   ]
  },
  {
   "cell_type": "markdown",
   "id": "4e90bc3d",
   "metadata": {},
   "source": [
    "## Beware of sample size"
   ]
  },
  {
   "cell_type": "code",
   "execution_count": 118,
   "id": "e0cea620",
   "metadata": {},
   "outputs": [
    {
     "data": {
      "image/png": "[encoded data removed]",
      "text/plain": [
       "<Figure size 1152x576 with 1 Axes>"
      ]
     },
     "metadata": {
      "needs_background": "light"
     },
     "output_type": "display_data"
    }
   ],
   "source": [
    "fig, ax = plt.subplots(nrows = 1, ncols = 1, figsize = (16, 8))\n",
    "\n",
    "boxes = ax.boxplot([ratings['rating'], rating1['rating'][3:12]], patch_artist = True)\n",
    "ax.set_title('Comparation between Toy-Story and all notes movies', fontsize = 20, y = 1.05)\n",
    "ax.set_xticklabels(['All movies', 'Toy-Story (3 to 12)'], fontsize = 14)\n",
    "ax.grid(True)\n",
    "\n",
    "colors = ['grey', 'skyblue']\n",
    "for box, color in zip(boxes['boxes'], colors):\n",
    "    box.set_color(color)\n",
    "\n",
    "ax;"
   ]
  },
  {
   "cell_type": "code",
   "execution_count": 124,
   "id": "5b903f8b",
   "metadata": {},
   "outputs": [
    {
     "data": {
      "text/html": [
       "<table class=\"simpletable\">\n",
       "<caption>Test for equality of means</caption>\n",
       "<tr>\n",
       "      <td></td>         <th>coef</th>     <th>std err</th>      <th>t</th>      <th>P>|t|</th>  <th>[0.025</th>    <th>0.975]</th>  \n",
       "</tr>\n",
       "<tr>\n",
       "  <th>subset #1</th> <td>   -0.0540</td> <td>    0.348</td> <td>   -0.155</td> <td> 0.877</td> <td>   -0.735</td> <td>    0.627</td>\n",
       "</tr>\n",
       "</table>"
      ],
      "text/plain": [
       "<class 'statsmodels.iolib.table.SimpleTable'>"
      ]
     },
     "execution_count": 124,
     "metadata": {},
     "output_type": "execute_result"
    }
   ],
   "source": [
    "from statsmodels.stats.weightstats import DescrStatsW\n",
    "\n",
    "description_all_ratings = DescrStatsW(ratings['rating'])\n",
    "description_toy_story = DescrStatsW(rating1['rating'][3:12])\n",
    "\n",
    "comparation = description_all_ratings.get_compare(description_toy_story)\n",
    "\n",
    "comparation.summary()"
   ]
  },
  {
   "cell_type": "markdown",
   "id": "e863ca74",
   "metadata": {},
   "source": [
    "### <font color='blue' style='font-size: 30px;'>Comparing movies</font>"
   ]
  },
  {
   "cell_type": "code",
   "execution_count": 125,
   "id": "45a4d5c3",
   "metadata": {},
   "outputs": [
    {
     "data": {
      "text/html": [
       "<div>\n",
       "<style scoped>\n",
       "    .dataframe tbody tr th:only-of-type {\n",
       "        vertical-align: middle;\n",
       "    }\n",
       "\n",
       "    .dataframe tbody tr th {\n",
       "        vertical-align: top;\n",
       "    }\n",
       "\n",
       "    .dataframe thead th {\n",
       "        text-align: right;\n",
       "    }\n",
       "</style>\n",
       "<table border=\"1\" class=\"dataframe\">\n",
       "  <thead>\n",
       "    <tr style=\"text-align: right;\">\n",
       "      <th></th>\n",
       "      <th>movieId</th>\n",
       "      <th>title</th>\n",
       "      <th>genres</th>\n",
       "    </tr>\n",
       "  </thead>\n",
       "  <tbody>\n",
       "    <tr>\n",
       "      <th>0</th>\n",
       "      <td>1</td>\n",
       "      <td>Toy Story (1995)</td>\n",
       "      <td>Adventure|Animation|Children|Comedy|Fantasy</td>\n",
       "    </tr>\n",
       "    <tr>\n",
       "      <th>510</th>\n",
       "      <td>593</td>\n",
       "      <td>Silence of the Lambs, The (1991)</td>\n",
       "      <td>Crime|Horror|Thriller</td>\n",
       "    </tr>\n",
       "    <tr>\n",
       "      <th>7180</th>\n",
       "      <td>72226</td>\n",
       "      <td>Fantastic Mr. Fox (2009)</td>\n",
       "      <td>Adventure|Animation|Children|Comedy|Crime</td>\n",
       "    </tr>\n",
       "  </tbody>\n",
       "</table>\n",
       "</div>"
      ],
      "text/plain": [
       "      movieId                             title  \\\n",
       "0           1                  Toy Story (1995)   \n",
       "510       593  Silence of the Lambs, The (1991)   \n",
       "7180    72226          Fantastic Mr. Fox (2009)   \n",
       "\n",
       "                                           genres  \n",
       "0     Adventure|Animation|Children|Comedy|Fantasy  \n",
       "510                         Crime|Horror|Thriller  \n",
       "7180    Adventure|Animation|Children|Comedy|Crime  "
      ]
     },
     "execution_count": 125,
     "metadata": {},
     "output_type": "execute_result"
    }
   ],
   "source": [
    "movies = movies.query('movieId in [1, 593, 72226]')"
   ]
  },
  {
   "cell_type": "code",
   "execution_count": 143,
   "id": "e5b6e541",
   "metadata": {},
   "outputs": [],
   "source": [
    "rating1 = ratings.query('movieId == 1')\n",
    "rating593 = ratings.query('movieId == 593')\n",
    "rating72226 = ratings.query('movieId == 72226')"
   ]
  },
  {
   "cell_type": "code",
   "execution_count": 156,
   "id": "ca64fc9b",
   "metadata": {},
   "outputs": [
    {
     "data": {
      "image/png": "[encoded data removed]",
      "text/plain": [
       "<Figure size 1152x576 with 1 Axes>"
      ]
     },
     "metadata": {
      "needs_background": "light"
     },
     "output_type": "display_data"
    }
   ],
   "source": [
    "fig, ax = plt.subplots(nrows = 1, ncols = 1, figsize = (16, 8))\n",
    "\n",
    "boxes = ax.boxplot([rating1['rating'], rating593['rating'], rating72226['rating']])\n",
    "ax.set_title('Comparation between Three movies', fontsize = 20, y = 1.05)\n",
    "ax.set_xticklabels(\n",
    "    ['Toy Story (1995)', 'Silence of the Lambs, The (1991)', 'Fantastic Mr. Fox (2009)'], \n",
    "    fontsize = 14\n",
    ")\n",
    "ax.grid(True)\n",
    "\n",
    "ax;"
   ]
  },
  {
   "cell_type": "code",
   "execution_count": 161,
   "id": "85a5a75a",
   "metadata": {},
   "outputs": [
    {
     "data": {
      "text/plain": [
       "Text(0, 0.5, 'Rating')"
      ]
     },
     "execution_count": 161,
     "metadata": {},
     "output_type": "execute_result"
    },
    {
     "data": {
      "image/png": "[encoded data removed]",
      "text/plain": [
       "<Figure size 1152x576 with 1 Axes>"
      ]
     },
     "metadata": {
      "needs_background": "light"
     },
     "output_type": "display_data"
    }
   ],
   "source": [
    "ax = sns.boxplot(data = ratings.query('movieId in [1, 593, 72226]'), x = \"movieId\", y = 'rating', width = 0.3)\n",
    "ax.figure.set_size_inches(16, 8)\n",
    "ax.set_title('Comparation between Three movies', fontsize = 20, y = 1.05)\n",
    "ax.set_xticklabels(['Toy Story (1995)', 'Silence of the Lambs, The (1991)', 'Fantastic Mr. Fox (2009)'])\n",
    "ax.set_xlabel('Movies', fontsize = 16)\n",
    "ax.set_ylabel('Rating', fontsize = 16)"
   ]
  },
  {
   "cell_type": "markdown",
   "id": "db0db30e",
   "metadata": {},
   "source": [
    "## Number of Notes this movies"
   ]
  },
  {
   "cell_type": "code",
   "execution_count": 172,
   "id": "d8ca2073",
   "metadata": {},
   "outputs": [
    {
     "data": {
      "text/html": [
       "<div>\n",
       "<style scoped>\n",
       "    .dataframe tbody tr th:only-of-type {\n",
       "        vertical-align: middle;\n",
       "    }\n",
       "\n",
       "    .dataframe tbody tr th {\n",
       "        vertical-align: top;\n",
       "    }\n",
       "\n",
       "    .dataframe thead th {\n",
       "        text-align: right;\n",
       "    }\n",
       "</style>\n",
       "<table border=\"1\" class=\"dataframe\">\n",
       "  <thead>\n",
       "    <tr style=\"text-align: right;\">\n",
       "      <th></th>\n",
       "      <th>userId</th>\n",
       "      <th>rating</th>\n",
       "      <th>timestamp</th>\n",
       "    </tr>\n",
       "    <tr>\n",
       "      <th>movieId</th>\n",
       "      <th></th>\n",
       "      <th></th>\n",
       "      <th></th>\n",
       "    </tr>\n",
       "  </thead>\n",
       "  <tbody>\n",
       "    <tr>\n",
       "      <th>1</th>\n",
       "      <td>215</td>\n",
       "      <td>215</td>\n",
       "      <td>215</td>\n",
       "    </tr>\n",
       "    <tr>\n",
       "      <th>593</th>\n",
       "      <td>279</td>\n",
       "      <td>279</td>\n",
       "      <td>279</td>\n",
       "    </tr>\n",
       "    <tr>\n",
       "      <th>72226</th>\n",
       "      <td>18</td>\n",
       "      <td>18</td>\n",
       "      <td>18</td>\n",
       "    </tr>\n",
       "  </tbody>\n",
       "</table>\n",
       "</div>"
      ],
      "text/plain": [
       "         userId  rating  timestamp\n",
       "movieId                           \n",
       "1           215     215        215\n",
       "593         279     279        279\n",
       "72226        18      18         18"
      ]
     },
     "execution_count": 172,
     "metadata": {},
     "output_type": "execute_result"
    }
   ],
   "source": [
    "ratings.query('movieId in [1, 593, 72226]').groupby('movieId').count()"
   ]
  },
  {
   "cell_type": "markdown",
   "id": "60606359",
   "metadata": {},
   "source": [
    "## Testing this movies"
   ]
  },
  {
   "cell_type": "code",
   "execution_count": 166,
   "id": "8917ed48",
   "metadata": {},
   "outputs": [],
   "source": [
    "from statsmodels.stats.weightstats import DescrStatsW\n",
    "\n",
    "description_all_movies = DescrStatsW(ratings['rating'])\n",
    "\n",
    "description_1 = DescrStatsW(rating1['rating'])\n",
    "description_593 = DescrStatsW(rating593['rating'])\n",
    "description_72226 = DescrStatsW(rating72226['rating'])"
   ]
  },
  {
   "cell_type": "code",
   "execution_count": 168,
   "id": "544bcbca",
   "metadata": {},
   "outputs": [
    {
     "data": {
      "text/html": [
       "<table class=\"simpletable\">\n",
       "<caption>Test for equality of means</caption>\n",
       "<tr>\n",
       "      <td></td>         <th>coef</th>     <th>std err</th>      <th>z</th>      <th>P>|z|</th>  <th>[0.025</th>    <th>0.975]</th>  \n",
       "</tr>\n",
       "<tr>\n",
       "  <th>subset #1</th> <td>   -0.2404</td> <td>    0.077</td> <td>   -3.132</td> <td> 0.002</td> <td>   -0.391</td> <td>   -0.090</td>\n",
       "</tr>\n",
       "</table>"
      ],
      "text/plain": [
       "<class 'statsmodels.iolib.table.SimpleTable'>"
      ]
     },
     "execution_count": 168,
     "metadata": {},
     "output_type": "execute_result"
    }
   ],
   "source": [
    "# Comparing\n",
    "\n",
    "between_toy_story_and_silence_the_lambs = description_1.get_compare(description_593)\n",
    "between_toy_story_and_silence_the_lambs.summary(use_t = False)"
   ]
  },
  {
   "cell_type": "markdown",
   "id": "6330daf5",
   "metadata": {},
   "source": [
    "> <b>Conclusion:</b> p_value is <b>significant</b> and confidente interval shows us that the average is smaller!"
   ]
  },
  {
   "cell_type": "code",
   "execution_count": 174,
   "id": "cb18fc67",
   "metadata": {},
   "outputs": [
    {
     "data": {
      "text/html": [
       "<table class=\"simpletable\">\n",
       "<caption>Test for equality of means</caption>\n",
       "<tr>\n",
       "      <td></td>         <th>coef</th>     <th>std err</th>      <th>t</th>      <th>P>|t|</th>  <th>[0.025</th>    <th>0.975]</th>  \n",
       "</tr>\n",
       "<tr>\n",
       "  <th>subset #1</th> <td>    0.0780</td> <td>    0.208</td> <td>    0.374</td> <td> 0.708</td> <td>   -0.332</td> <td>    0.488</td>\n",
       "</tr>\n",
       "</table>"
      ],
      "text/plain": [
       "<class 'statsmodels.iolib.table.SimpleTable'>"
      ]
     },
     "execution_count": 174,
     "metadata": {},
     "output_type": "execute_result"
    }
   ],
   "source": [
    "between_silence_the_lambs_and_fantastic_mr_fox = description_593.get_compare(description_72226)\n",
    "between_silence_the_lambs_and_fantastic_mr_fox.summary(use_t = True)"
   ]
  },
  {
   "cell_type": "markdown",
   "id": "5b51dd21",
   "metadata": {},
   "source": [
    "> <b>Conclusion:</b> p_value is insignificant and confidente interval shows us that the average can be bigger or smaller"
   ]
  },
  {
   "cell_type": "code",
   "execution_count": 170,
   "id": "ebfcf84e",
   "metadata": {},
   "outputs": [
    {
     "data": {
      "text/html": [
       "<table class=\"simpletable\">\n",
       "<caption>Test for equality of means</caption>\n",
       "<tr>\n",
       "      <td></td>         <th>coef</th>     <th>std err</th>      <th>z</th>      <th>P>|z|</th>  <th>[0.025</th>    <th>0.975]</th>  \n",
       "</tr>\n",
       "<tr>\n",
       "  <th>subset #1</th> <td>   -0.1624</td> <td>    0.206</td> <td>   -0.788</td> <td> 0.430</td> <td>   -0.566</td> <td>    0.241</td>\n",
       "</tr>\n",
       "</table>"
      ],
      "text/plain": [
       "<class 'statsmodels.iolib.table.SimpleTable'>"
      ]
     },
     "execution_count": 170,
     "metadata": {},
     "output_type": "execute_result"
    }
   ],
   "source": [
    "between_toy_story_and_fantastic_mr_fox = description_1.get_compare(description_72226)\n",
    "between_toy_story_and_fantastic_mr_fox.summary(use_t = True)"
   ]
  },
  {
   "cell_type": "markdown",
   "id": "41f03a07",
   "metadata": {},
   "source": [
    "> <b>Conclusion:</b> p_value is insignificant and confidente interval shows us that the average can be bigger or smaller"
   ]
  },
  {
   "cell_type": "markdown",
   "id": "9daa388a",
   "metadata": {},
   "source": [
    "### <font color='blue' style='font-size: 30px;'>Nonparametric comparison with Wilcoxon Ranksums</font>"
   ]
  },
  {
   "cell_type": "markdown",
   "id": "3d824abc",
   "metadata": {},
   "source": [
    "## Verifing if we have a normal distribution"
   ]
  },
  {
   "cell_type": "markdown",
   "id": "9567ed0d",
   "metadata": {},
   "source": [
    "[normaltest](https://docs.scipy.org/doc/scipy/reference/generated/scipy.stats.normaltest.html)"
   ]
  },
  {
   "cell_type": "code",
   "execution_count": 181,
   "id": "3b178053",
   "metadata": {},
   "outputs": [
    {
     "data": {
      "text/plain": [
       "0.00011053430732728716"
      ]
     },
     "execution_count": 181,
     "metadata": {},
     "output_type": "execute_result"
    }
   ],
   "source": [
    "from scipy.stats import normaltest\n",
    "\n",
    "_, p_value = normaltest(rating1['rating'])\n",
    "p_value"
   ]
  },
  {
   "cell_type": "markdown",
   "id": "75b503b2",
   "metadata": {},
   "source": [
    "> ### If p_value is smaller than 0.05 so it not is a normal distribution"
   ]
  },
  {
   "cell_type": "markdown",
   "id": "4e1a1e7a",
   "metadata": {},
   "source": [
    "## using Ranksums because it work when we dont have a normal distribution"
   ]
  },
  {
   "cell_type": "markdown",
   "id": "9a13a3c9",
   "metadata": {},
   "source": [
    "[ranksums](https://docs.scipy.org/doc/scipy/reference/generated/scipy.stats.ranksums.html)"
   ]
  },
  {
   "cell_type": "code",
   "execution_count": 186,
   "id": "c8da9be8",
   "metadata": {},
   "outputs": [
    {
     "data": {
      "text/plain": [
       "0.0003267718756440693"
      ]
     },
     "execution_count": 186,
     "metadata": {},
     "output_type": "execute_result"
    }
   ],
   "source": [
    "from scipy.stats import ranksums\n",
    "\n",
    "_, p_value = ranksums(rating1['rating'], rating593['rating'])\n",
    "p_value"
   ]
  },
  {
   "cell_type": "markdown",
   "id": "87d75d0f",
   "metadata": {},
   "source": [
    "> ### Conclusão\n",
    "P_value is smaller than 0.05, so probably <b>a value is biggest than other </b> -> According to documentation"
   ]
  },
  {
   "cell_type": "code",
   "execution_count": null,
   "id": "788dc96f",
   "metadata": {},
   "outputs": [],
   "source": []
  }
 ],
 "metadata": {
  "kernelspec": {
   "display_name": "Python 3 (ipykernel)",
   "language": "python",
   "name": "python3"
  },
  "language_info": {
   "codemirror_mode": {
    "name": "ipython",
    "version": 3
   },
   "file_extension": ".py",
   "mimetype": "text/x-python",
   "name": "python",
   "nbconvert_exporter": "python",
   "pygments_lexer": "ipython3",
   "version": "3.10.4"
  }
 },
 "nbformat": 4,
 "nbformat_minor": 5
}
