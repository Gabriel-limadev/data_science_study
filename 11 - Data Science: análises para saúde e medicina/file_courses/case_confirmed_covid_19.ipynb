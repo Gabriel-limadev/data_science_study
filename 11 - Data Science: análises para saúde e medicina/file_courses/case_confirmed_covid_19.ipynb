{
 "cells": [
  {
   "cell_type": "markdown",
   "id": "043653ae",
   "metadata": {},
   "source": [
    "<h1 style='color: green; font-size: 36px; font-weight: bold;'>Analysis for health and medicine</h1>"
   ]
  },
  {
   "cell_type": "markdown",
   "id": "6d36407d",
   "metadata": {},
   "source": [
    "# <font color='red' style='font-size: 30px;'>1.2 Known the Dataset</font>\n",
    "<hr style='border: 2px solid red;'>"
   ]
  },
  {
   "cell_type": "markdown",
   "id": "1e007488",
   "metadata": {},
   "source": [
    "## Importing pandas"
   ]
  },
  {
   "cell_type": "code",
   "execution_count": 340,
   "id": "7984e1a9",
   "metadata": {},
   "outputs": [],
   "source": [
    "import pandas as pd"
   ]
  },
  {
   "cell_type": "markdown",
   "id": "4867889c",
   "metadata": {},
   "source": [
    "## About dataset\n",
    "<hr>\n",
    "\n",
    "### Description:\n",
    "<p style='font-size: 18px; line-height: 2; margin: 10px 50px; text-align: justify; text-indent: 35px;'>Our world was surprised for by a deadly disease. Since 2020 all people are taking care of themselves and fighting the disease.</p>\n",
    "\n",
    "<p style='font-size: 18px; line-height: 2; margin: 10px 50px; text-align: justify; text-indent: 35px;'>Our dataset is about the covid 19 cases in the world.</p>\n",
    "\n",
    "### Data:\n",
    "<ul style='font-size: 18px; line-height: 2; text-align: justify;'>\n",
    "    <li><b>Province/State</b> - Province in the country - filled in the China</li>\n",
    "    <li><b>Country/Region</b> - Country about the cases</li>\n",
    "    <li><b>`Days`</b> - All days of the pandemic are registered - 1/22/20 at yesterday</li>\n",
    "</ul>"
   ]
  },
  {
   "cell_type": "markdown",
   "id": "97bc781b",
   "metadata": {},
   "source": [
    "### Reading data"
   ]
  },
  {
   "cell_type": "code",
   "execution_count": 341,
   "id": "1c2ae767",
   "metadata": {},
   "outputs": [],
   "source": [
    "confirmed = pd.read_csv('https://raw.githubusercontent.com/CSSEGISandData/COVID-19/master/csse_covid_19_data/csse_covid_19_time_series/time_series_covid19_confirmed_global.csv')"
   ]
  },
  {
   "cell_type": "code",
   "execution_count": 342,
   "id": "97483aa5",
   "metadata": {},
   "outputs": [
    {
     "data": {
      "text/html": [
       "<div>\n",
       "<style scoped>\n",
       "    .dataframe tbody tr th:only-of-type {\n",
       "        vertical-align: middle;\n",
       "    }\n",
       "\n",
       "    .dataframe tbody tr th {\n",
       "        vertical-align: top;\n",
       "    }\n",
       "\n",
       "    .dataframe thead th {\n",
       "        text-align: right;\n",
       "    }\n",
       "</style>\n",
       "<table border=\"1\" class=\"dataframe\">\n",
       "  <thead>\n",
       "    <tr style=\"text-align: right;\">\n",
       "      <th></th>\n",
       "      <th>Province/State</th>\n",
       "      <th>Country/Region</th>\n",
       "      <th>Lat</th>\n",
       "      <th>Long</th>\n",
       "      <th>1/22/20</th>\n",
       "      <th>1/23/20</th>\n",
       "      <th>1/24/20</th>\n",
       "      <th>1/25/20</th>\n",
       "      <th>1/26/20</th>\n",
       "      <th>1/27/20</th>\n",
       "      <th>...</th>\n",
       "      <th>8/16/22</th>\n",
       "      <th>8/17/22</th>\n",
       "      <th>8/18/22</th>\n",
       "      <th>8/19/22</th>\n",
       "      <th>8/20/22</th>\n",
       "      <th>8/21/22</th>\n",
       "      <th>8/22/22</th>\n",
       "      <th>8/23/22</th>\n",
       "      <th>8/24/22</th>\n",
       "      <th>8/25/22</th>\n",
       "    </tr>\n",
       "  </thead>\n",
       "  <tbody>\n",
       "    <tr>\n",
       "      <th>0</th>\n",
       "      <td>NaN</td>\n",
       "      <td>Afghanistan</td>\n",
       "      <td>33.93911</td>\n",
       "      <td>67.709953</td>\n",
       "      <td>0</td>\n",
       "      <td>0</td>\n",
       "      <td>0</td>\n",
       "      <td>0</td>\n",
       "      <td>0</td>\n",
       "      <td>0</td>\n",
       "      <td>...</td>\n",
       "      <td>189477</td>\n",
       "      <td>189710</td>\n",
       "      <td>190010</td>\n",
       "      <td>190254</td>\n",
       "      <td>190435</td>\n",
       "      <td>190643</td>\n",
       "      <td>191040</td>\n",
       "      <td>191247</td>\n",
       "      <td>191585</td>\n",
       "      <td>191967</td>\n",
       "    </tr>\n",
       "    <tr>\n",
       "      <th>1</th>\n",
       "      <td>NaN</td>\n",
       "      <td>Albania</td>\n",
       "      <td>41.15330</td>\n",
       "      <td>20.168300</td>\n",
       "      <td>0</td>\n",
       "      <td>0</td>\n",
       "      <td>0</td>\n",
       "      <td>0</td>\n",
       "      <td>0</td>\n",
       "      <td>0</td>\n",
       "      <td>...</td>\n",
       "      <td>322837</td>\n",
       "      <td>323282</td>\n",
       "      <td>323829</td>\n",
       "      <td>325241</td>\n",
       "      <td>325736</td>\n",
       "      <td>326077</td>\n",
       "      <td>326181</td>\n",
       "      <td>326787</td>\n",
       "      <td>327232</td>\n",
       "      <td>327607</td>\n",
       "    </tr>\n",
       "    <tr>\n",
       "      <th>2</th>\n",
       "      <td>NaN</td>\n",
       "      <td>Algeria</td>\n",
       "      <td>28.03390</td>\n",
       "      <td>1.659600</td>\n",
       "      <td>0</td>\n",
       "      <td>0</td>\n",
       "      <td>0</td>\n",
       "      <td>0</td>\n",
       "      <td>0</td>\n",
       "      <td>0</td>\n",
       "      <td>...</td>\n",
       "      <td>269381</td>\n",
       "      <td>269473</td>\n",
       "      <td>269556</td>\n",
       "      <td>269650</td>\n",
       "      <td>269731</td>\n",
       "      <td>269805</td>\n",
       "      <td>269894</td>\n",
       "      <td>269971</td>\n",
       "      <td>270043</td>\n",
       "      <td>270097</td>\n",
       "    </tr>\n",
       "    <tr>\n",
       "      <th>3</th>\n",
       "      <td>NaN</td>\n",
       "      <td>Andorra</td>\n",
       "      <td>42.50630</td>\n",
       "      <td>1.521800</td>\n",
       "      <td>0</td>\n",
       "      <td>0</td>\n",
       "      <td>0</td>\n",
       "      <td>0</td>\n",
       "      <td>0</td>\n",
       "      <td>0</td>\n",
       "      <td>...</td>\n",
       "      <td>45899</td>\n",
       "      <td>45975</td>\n",
       "      <td>45975</td>\n",
       "      <td>45975</td>\n",
       "      <td>45975</td>\n",
       "      <td>45975</td>\n",
       "      <td>45975</td>\n",
       "      <td>45975</td>\n",
       "      <td>46027</td>\n",
       "      <td>46027</td>\n",
       "    </tr>\n",
       "    <tr>\n",
       "      <th>4</th>\n",
       "      <td>NaN</td>\n",
       "      <td>Angola</td>\n",
       "      <td>-11.20270</td>\n",
       "      <td>17.873900</td>\n",
       "      <td>0</td>\n",
       "      <td>0</td>\n",
       "      <td>0</td>\n",
       "      <td>0</td>\n",
       "      <td>0</td>\n",
       "      <td>0</td>\n",
       "      <td>...</td>\n",
       "      <td>102636</td>\n",
       "      <td>102636</td>\n",
       "      <td>102636</td>\n",
       "      <td>102636</td>\n",
       "      <td>102636</td>\n",
       "      <td>102636</td>\n",
       "      <td>102636</td>\n",
       "      <td>102636</td>\n",
       "      <td>102636</td>\n",
       "      <td>102636</td>\n",
       "    </tr>\n",
       "  </tbody>\n",
       "</table>\n",
       "<p>5 rows × 951 columns</p>\n",
       "</div>"
      ],
      "text/plain": [
       "  Province/State Country/Region       Lat       Long  1/22/20  1/23/20  \\\n",
       "0            NaN    Afghanistan  33.93911  67.709953        0        0   \n",
       "1            NaN        Albania  41.15330  20.168300        0        0   \n",
       "2            NaN        Algeria  28.03390   1.659600        0        0   \n",
       "3            NaN        Andorra  42.50630   1.521800        0        0   \n",
       "4            NaN         Angola -11.20270  17.873900        0        0   \n",
       "\n",
       "   1/24/20  1/25/20  1/26/20  1/27/20  ...  8/16/22  8/17/22  8/18/22  \\\n",
       "0        0        0        0        0  ...   189477   189710   190010   \n",
       "1        0        0        0        0  ...   322837   323282   323829   \n",
       "2        0        0        0        0  ...   269381   269473   269556   \n",
       "3        0        0        0        0  ...    45899    45975    45975   \n",
       "4        0        0        0        0  ...   102636   102636   102636   \n",
       "\n",
       "   8/19/22  8/20/22  8/21/22  8/22/22  8/23/22  8/24/22  8/25/22  \n",
       "0   190254   190435   190643   191040   191247   191585   191967  \n",
       "1   325241   325736   326077   326181   326787   327232   327607  \n",
       "2   269650   269731   269805   269894   269971   270043   270097  \n",
       "3    45975    45975    45975    45975    45975    46027    46027  \n",
       "4   102636   102636   102636   102636   102636   102636   102636  \n",
       "\n",
       "[5 rows x 951 columns]"
      ]
     },
     "execution_count": 342,
     "metadata": {},
     "output_type": "execute_result"
    }
   ],
   "source": [
    "confirmed.head()"
   ]
  },
  {
   "cell_type": "code",
   "execution_count": 343,
   "id": "a8ceff49",
   "metadata": {},
   "outputs": [],
   "source": [
    "confirmed_by_country_cumulative = confirmed.groupby(\"Country/Region\").sum()"
   ]
  },
  {
   "cell_type": "code",
   "execution_count": 344,
   "id": "bb247457",
   "metadata": {},
   "outputs": [
    {
     "data": {
      "image/png": "[encoded data removed]",
      "text/plain": [
       "<Figure size 864x432 with 1 Axes>"
      ]
     },
     "metadata": {
      "needs_background": "light"
     },
     "output_type": "display_data"
    }
   ],
   "source": [
    "import matplotlib.pyplot as plt\n",
    "\n",
    "fig, ax = plt.subplots(nrows = 1, ncols = 1, figsize = (12, 6))\n",
    "\n",
    "ax.plot(confirmed_by_country_cumulative.loc['China'][2:]);\n",
    "\n",
    "ax.set_title('Cases confirmed - China')\n",
    "\n",
    "ax.set_xticks(['1/22/20', '8/22/20', '1/22/21','8/22/21','1/22/22', '8/22/22']);"
   ]
  },
  {
   "cell_type": "markdown",
   "id": "0c71e792",
   "metadata": {},
   "source": [
    "# <font color='red' style='font-size: 30px;'>1.3 Cases in China</font>\n",
    "<hr style='border: 2px solid red;'>"
   ]
  },
  {
   "cell_type": "code",
   "execution_count": 345,
   "id": "eeae3e17",
   "metadata": {},
   "outputs": [
    {
     "data": {
      "text/plain": [
       "1/23/20       95.0\n",
       "1/24/20      277.0\n",
       "1/25/20      486.0\n",
       "1/26/20      669.0\n",
       "1/27/20      802.0\n",
       "            ...   \n",
       "8/21/22     6885.0\n",
       "8/22/22    10064.0\n",
       "8/23/22     8505.0\n",
       "8/24/22     9418.0\n",
       "8/25/22    10040.0\n",
       "Name: China, Length: 946, dtype: float64"
      ]
     },
     "execution_count": 345,
     "metadata": {},
     "output_type": "execute_result"
    }
   ],
   "source": [
    "confirmed_in_china = confirmed_by_country_cumulative.loc['China'][2:].diff().dropna()\n",
    "confirmed_in_china"
   ]
  },
  {
   "cell_type": "markdown",
   "id": "f536fbf0",
   "metadata": {},
   "source": [
    "## Changing dataframe"
   ]
  },
  {
   "cell_type": "code",
   "execution_count": 346,
   "id": "8de8e1ae",
   "metadata": {},
   "outputs": [],
   "source": [
    "confirmed_in_china = pd.DataFrame(\n",
    "    confirmed_in_china, \n",
    ")\n",
    "confirmed_in_china.reset_index(inplace= True)\n",
    "confirmed_in_china.columns =  ['Date', 'Cases']"
   ]
  },
  {
   "cell_type": "code",
   "execution_count": 347,
   "id": "1f03b269",
   "metadata": {},
   "outputs": [],
   "source": [
    "confirmed_in_china['Date'] = pd.to_datetime(confirmed_in_china['Date'])"
   ]
  },
  {
   "cell_type": "markdown",
   "id": "ce0137fc",
   "metadata": {},
   "source": [
    "## Grapfhic - Cases confirmed in China"
   ]
  },
  {
   "cell_type": "code",
   "execution_count": 348,
   "id": "ae82ad8f",
   "metadata": {},
   "outputs": [
    {
     "data": {
      "image/png": "[encoded data removed]",
      "text/plain": [
       "<Figure size 1152x576 with 1 Axes>"
      ]
     },
     "metadata": {
      "needs_background": "light"
     },
     "output_type": "display_data"
    }
   ],
   "source": [
    "fig, ax = plt.subplots(ncols = 1, nrows = 1, figsize = (16, 8))\n",
    "\n",
    "ax.plot(confirmed_in_china['Date'], confirmed_in_china['Cases'])\n",
    "\n",
    "ax.tick_params(labelsize = 12)\n",
    "ax.grid(True)"
   ]
  },
  {
   "cell_type": "code",
   "execution_count": 349,
   "id": "f78b98cb",
   "metadata": {},
   "outputs": [],
   "source": [
    "from datetime import datetime, date, timedelta"
   ]
  },
  {
   "cell_type": "code",
   "execution_count": 350,
   "id": "8069c3b3",
   "metadata": {},
   "outputs": [
    {
     "data": {
      "image/png": "[encoded data removed]",
      "text/plain": [
       "<Figure size 1152x576 with 2 Axes>"
      ]
     },
     "metadata": {
      "needs_background": "light"
     },
     "output_type": "display_data"
    }
   ],
   "source": [
    "fig, ax = plt.subplots(ncols = 1, nrows = 1, figsize = (16, 8))\n",
    "ax2 = fig.add_axes([0.6, 0.5, 0.3, 0.3])\n",
    "\n",
    "\n",
    "ax.set_xlim(datetime(2022, 1, 1), datetime.now())\n",
    "ax.plot(confirmed_in_china['Date'], confirmed_in_china['Cases'], color = 'skyblue')\n",
    "ax.set_title('Cases confirmed China - 2020 - 2022', fontsize = 20)\n",
    "ax.set_xlabel('Date', fontsize = 16)\n",
    "ax.set_ylabel('Cases', fontsize = 16)\n",
    "ax.tick_params(labelsize = 12)\n",
    "ax.grid(True)\n",
    "\n",
    "\n",
    "gray_right = confirmed_in_china['Date'] < datetime(2022, 1, 1)\n",
    "ax2.plot(confirmed_in_china['Date'], confirmed_in_china['Cases'], color = 'skyblue')\n",
    "ax2.plot(confirmed_in_china[gray_right]['Date'], confirmed_in_china[gray_right]['Cases'], color = 'gray')\n",
    "ax2.set_title('Cases confirmed China - 2022', fontsize = 12)\n",
    "ax2.set_xlabel('Date', fontsize = 10)\n",
    "ax2.set_ylabel('Cases', fontsize = 10)\n",
    "ax2.grid(True)\n",
    "ax2.set_xticks(\n",
    "    [date(2020, 1, 1) + timedelta(i * 366) for i in range(3)] \n",
    ");"
   ]
  },
  {
   "cell_type": "markdown",
   "id": "fff85e0e",
   "metadata": {},
   "source": [
    "# <font color='red' style='font-size: 30px;'>1.4 Cases in South America - Yesterday</font>\n",
    "<hr style='border: 2px solid red;'>"
   ]
  },
  {
   "cell_type": "code",
   "execution_count": 351,
   "id": "f2540588",
   "metadata": {},
   "outputs": [
    {
     "data": {
      "text/html": [
       "<div>\n",
       "<style scoped>\n",
       "    .dataframe tbody tr th:only-of-type {\n",
       "        vertical-align: middle;\n",
       "    }\n",
       "\n",
       "    .dataframe tbody tr th {\n",
       "        vertical-align: top;\n",
       "    }\n",
       "\n",
       "    .dataframe thead th {\n",
       "        text-align: right;\n",
       "    }\n",
       "</style>\n",
       "<table border=\"1\" class=\"dataframe\">\n",
       "  <thead>\n",
       "    <tr style=\"text-align: right;\">\n",
       "      <th></th>\n",
       "      <th>Country</th>\n",
       "      <th>Cases_yesterday</th>\n",
       "    </tr>\n",
       "  </thead>\n",
       "  <tbody>\n",
       "    <tr>\n",
       "      <th>0</th>\n",
       "      <td>Argentina</td>\n",
       "      <td>0</td>\n",
       "    </tr>\n",
       "    <tr>\n",
       "      <th>1</th>\n",
       "      <td>Bolivia</td>\n",
       "      <td>1221</td>\n",
       "    </tr>\n",
       "    <tr>\n",
       "      <th>2</th>\n",
       "      <td>Brazil</td>\n",
       "      <td>21039</td>\n",
       "    </tr>\n",
       "    <tr>\n",
       "      <th>3</th>\n",
       "      <td>Chile</td>\n",
       "      <td>9249</td>\n",
       "    </tr>\n",
       "    <tr>\n",
       "      <th>4</th>\n",
       "      <td>Colombia</td>\n",
       "      <td>6465</td>\n",
       "    </tr>\n",
       "    <tr>\n",
       "      <th>5</th>\n",
       "      <td>Ecuador</td>\n",
       "      <td>0</td>\n",
       "    </tr>\n",
       "    <tr>\n",
       "      <th>6</th>\n",
       "      <td>Guyana</td>\n",
       "      <td>85</td>\n",
       "    </tr>\n",
       "    <tr>\n",
       "      <th>7</th>\n",
       "      <td>Paraguay</td>\n",
       "      <td>0</td>\n",
       "    </tr>\n",
       "    <tr>\n",
       "      <th>8</th>\n",
       "      <td>Peru</td>\n",
       "      <td>4739</td>\n",
       "    </tr>\n",
       "    <tr>\n",
       "      <th>9</th>\n",
       "      <td>Suriname</td>\n",
       "      <td>0</td>\n",
       "    </tr>\n",
       "    <tr>\n",
       "      <th>10</th>\n",
       "      <td>Uruguay</td>\n",
       "      <td>0</td>\n",
       "    </tr>\n",
       "    <tr>\n",
       "      <th>11</th>\n",
       "      <td>Venezuela</td>\n",
       "      <td>99</td>\n",
       "    </tr>\n",
       "  </tbody>\n",
       "</table>\n",
       "</div>"
      ],
      "text/plain": [
       "      Country  Cases_yesterday\n",
       "0   Argentina                0\n",
       "1     Bolivia             1221\n",
       "2      Brazil            21039\n",
       "3       Chile             9249\n",
       "4    Colombia             6465\n",
       "5     Ecuador                0\n",
       "6      Guyana               85\n",
       "7    Paraguay                0\n",
       "8        Peru             4739\n",
       "9    Suriname                0\n",
       "10    Uruguay                0\n",
       "11  Venezuela               99"
      ]
     },
     "execution_count": 351,
     "metadata": {},
     "output_type": "execute_result"
    }
   ],
   "source": [
    "south_america = [\n",
    "    'Argentina', 'Bolivia', 'Brazil', 'Chile', 'Colombia', 'Ecuador', \n",
    "    'Guyana', 'Paraguay', 'Peru', 'Suriname', 'Uruguay', 'Venezuela'\n",
    "]\n",
    "\n",
    "confirmed_in_south_america_yesterday = confirmed_by_country_cumulative.loc[south_america]\n",
    "confirmed_in_south_america_yesterday = confirmed_in_south_america_yesterday.iloc[:, 2:].diff(axis = 1).dropna(axis = 1)\n",
    "confirmed_in_south_america_yesterday = confirmed_in_south_america_yesterday.iloc[:, -1]\n",
    "\n",
    "\n",
    "confirmed_in_south_america_yesterday = pd.DataFrame(confirmed_in_south_america_yesterday)\n",
    "confirmed_in_south_america_yesterday.reset_index(inplace = True)\n",
    "confirmed_in_south_america_yesterday.columns = ['Country', 'Cases_yesterday']\n",
    "confirmed_in_south_america_yesterday\n"
   ]
  },
  {
   "cell_type": "code",
   "execution_count": 352,
   "id": "8bb24270",
   "metadata": {},
   "outputs": [
    {
     "data": {
      "image/png": "[encoded data removed]",
      "text/plain": [
       "<Figure size 1152x576 with 1 Axes>"
      ]
     },
     "metadata": {
      "needs_background": "light"
     },
     "output_type": "display_data"
    }
   ],
   "source": [
    "fig, ax = plt.subplots(nrows = 1, ncols = 1, figsize = (16, 8))\n",
    "\n",
    "ax.plot(confirmed_in_south_america_yesterday['Country'], confirmed_in_south_america_yesterday['Cases_yesterday'])\n",
    "ax.set_title(f'South America - Confirmed Yesterday', fontsize = 20, y = 1.05)\n",
    "ax.set_xlabel('Country', fontsize = 16)\n",
    "ax.set_ylabel('Cases', fontsize = 16)\n",
    "\n",
    "ax.tick_params(labelsize = 12)\n",
    "ax.grid(True)"
   ]
  },
  {
   "cell_type": "markdown",
   "id": "08728c68",
   "metadata": {},
   "source": [
    "## Comparing categories"
   ]
  },
  {
   "cell_type": "code",
   "execution_count": 353,
   "id": "88738282",
   "metadata": {},
   "outputs": [
    {
     "data": {
      "text/plain": [
       "Text(Argentina, 3604.75, 'Average')"
      ]
     },
     "execution_count": 353,
     "metadata": {},
     "output_type": "execute_result"
    },
    {
     "data": {
      "image/png": "[encoded data removed]",
      "text/plain": [
       "<Figure size 1152x576 with 1 Axes>"
      ]
     },
     "metadata": {
      "needs_background": "light"
     },
     "output_type": "display_data"
    }
   ],
   "source": [
    "fig, ax = plt.subplots(nrows = 1, ncols = 1, figsize = (16, 8))\n",
    "\n",
    "\n",
    "ax.bar(\n",
    "    data = confirmed_in_south_america_yesterday.sort_values(by = 'Cases_yesterday', ascending = True), \n",
    "    x = 'Country',\n",
    "    height = 'Cases_yesterday'\n",
    ")\n",
    "ax.set_title(f'South America - Confirmed Yesterday', fontsize = 20)\n",
    "ax.set_xlabel('Country', fontsize = 16)\n",
    "ax.set_ylabel('Cases', fontsize = 16)\n",
    "\n",
    "ax.grid(True)\n",
    "ax.tick_params(labelsize = 12)\n",
    "average = confirmed_in_south_america_yesterday['Cases_yesterday'].mean()\n",
    "ax.hlines(\n",
    "    y = average,\n",
    "    xmin = 'Argentina', \n",
    "    xmax = 'Chile',\n",
    "    color = 'r'\n",
    ")\n",
    "ax.annotate('Average', xy = ('Argentina', average + 30), fontsize = 16, color = 'r')"
   ]
  },
  {
   "cell_type": "markdown",
   "id": "9de81e33",
   "metadata": {},
   "source": [
    "# <font color='red' style='font-size: 30px;'>1.5 Working with recovered and deaths</font>\n",
    "<hr style='border: 2px solid red;'>"
   ]
  },
  {
   "cell_type": "code",
   "execution_count": 395,
   "id": "0bf55d37",
   "metadata": {},
   "outputs": [],
   "source": [
    "deaths = pd.read_csv('https://raw.githubusercontent.com/CSSEGISandData/COVID-19/master/csse_covid_19_data/csse_covid_19_time_series/time_series_covid19_deaths_global.csv')\n",
    "recovered = pd.read_csv('https://raw.githubusercontent.com/CSSEGISandData/COVID-19/master/csse_covid_19_data/csse_covid_19_time_series/time_series_covid19_recovered_global.csv')    "
   ]
  },
  {
   "cell_type": "code",
   "execution_count": 355,
   "id": "d1b9b8ad",
   "metadata": {},
   "outputs": [],
   "source": [
    "def latest_day_by_country(data):\n",
    "    # Taking cases from the day before yesterday\n",
    "    # United Kingdom - There is a problem in last_day\n",
    "    return data.groupby('Country/Region').sum().iloc[:, 2:].diff(axis = 1).iloc[:, -2].dropna()"
   ]
  },
  {
   "cell_type": "code",
   "execution_count": 356,
   "id": "e6b77ecf",
   "metadata": {},
   "outputs": [
    {
     "data": {
      "text/html": [
       "<div>\n",
       "<style scoped>\n",
       "    .dataframe tbody tr th:only-of-type {\n",
       "        vertical-align: middle;\n",
       "    }\n",
       "\n",
       "    .dataframe tbody tr th {\n",
       "        vertical-align: top;\n",
       "    }\n",
       "\n",
       "    .dataframe thead th {\n",
       "        text-align: right;\n",
       "    }\n",
       "</style>\n",
       "<table border=\"1\" class=\"dataframe\">\n",
       "  <thead>\n",
       "    <tr style=\"text-align: right;\">\n",
       "      <th></th>\n",
       "      <th>Confirmed</th>\n",
       "      <th>Recovered</th>\n",
       "      <th>Deaths</th>\n",
       "    </tr>\n",
       "    <tr>\n",
       "      <th>Country/Region</th>\n",
       "      <th></th>\n",
       "      <th></th>\n",
       "      <th></th>\n",
       "    </tr>\n",
       "  </thead>\n",
       "  <tbody>\n",
       "    <tr>\n",
       "      <th>Afghanistan</th>\n",
       "      <td>338</td>\n",
       "      <td>0</td>\n",
       "      <td>1</td>\n",
       "    </tr>\n",
       "    <tr>\n",
       "      <th>Albania</th>\n",
       "      <td>445</td>\n",
       "      <td>0</td>\n",
       "      <td>1</td>\n",
       "    </tr>\n",
       "    <tr>\n",
       "      <th>Algeria</th>\n",
       "      <td>72</td>\n",
       "      <td>0</td>\n",
       "      <td>0</td>\n",
       "    </tr>\n",
       "    <tr>\n",
       "      <th>Andorra</th>\n",
       "      <td>52</td>\n",
       "      <td>0</td>\n",
       "      <td>0</td>\n",
       "    </tr>\n",
       "    <tr>\n",
       "      <th>Angola</th>\n",
       "      <td>0</td>\n",
       "      <td>0</td>\n",
       "      <td>0</td>\n",
       "    </tr>\n",
       "  </tbody>\n",
       "</table>\n",
       "</div>"
      ],
      "text/plain": [
       "                Confirmed  Recovered  Deaths\n",
       "Country/Region                              \n",
       "Afghanistan           338          0       1\n",
       "Albania               445          0       1\n",
       "Algeria                72          0       0\n",
       "Andorra                52          0       0\n",
       "Angola                  0          0       0"
      ]
     },
     "execution_count": 356,
     "metadata": {},
     "output_type": "execute_result"
    }
   ],
   "source": [
    "informations_covid_by_country = [\n",
    "    latest_day_by_country(confirmed),\n",
    "    latest_day_by_country(recovered),\n",
    "    latest_day_by_country(deaths)\n",
    "]\n",
    "combined = pd.concat(informations_covid_by_country, axis = 1)\n",
    "\n",
    "combined.columns = ['Confirmed', 'Recovered', 'Deaths']\n",
    "combined.head()"
   ]
  },
  {
   "cell_type": "markdown",
   "id": "90086e45",
   "metadata": {},
   "source": [
    "## <font color='blue' style='font-size: 30px;'>Arranging dataframe</font>"
   ]
  },
  {
   "cell_type": "code",
   "execution_count": 357,
   "id": "9a9d8a3e",
   "metadata": {},
   "outputs": [],
   "source": [
    "# Analising on the day 24/08/2022, the dataset had some errors that I needed to fix\n",
    "\n",
    "combined.replace(combined.loc['Micronesia']['Confirmed'], 0, inplace = True)\n",
    "combined.replace(combined.loc['Micronesia']['Deaths'], 0, inplace = True)\n",
    "combined.replace(combined.loc['Switzerland']['Deaths'], 0, inplace = True)\n",
    "combined.replace(combined.loc['Eswatini']['Deaths'], 0, inplace = True)"
   ]
  },
  {
   "cell_type": "markdown",
   "id": "961b60c4",
   "metadata": {},
   "source": [
    "## <font color='blue' style='font-size: 30px;'>Letality Rate</font>"
   ]
  },
  {
   "cell_type": "code",
   "execution_count": 358,
   "id": "a6f45bc3",
   "metadata": {},
   "outputs": [
    {
     "data": {
      "text/plain": [
       "Confirmed    829240\n",
       "Recovered         0\n",
       "Deaths         2912\n",
       "dtype: int64"
      ]
     },
     "execution_count": 358,
     "metadata": {},
     "output_type": "execute_result"
    }
   ],
   "source": [
    "sum_up = combined.sum()\n",
    "sum_up"
   ]
  },
  {
   "cell_type": "code",
   "execution_count": 359,
   "id": "19fe56f8",
   "metadata": {},
   "outputs": [
    {
     "name": "stdout",
     "output_type": "stream",
     "text": [
      "0.35 %\n"
     ]
    }
   ],
   "source": [
    "print((sum_up['Deaths'] / sum_up['Confirmed']* 100).round(2), \"%\")"
   ]
  },
  {
   "cell_type": "markdown",
   "id": "2852d6b1",
   "metadata": {},
   "source": [
    "## Letality Rate by country"
   ]
  },
  {
   "cell_type": "code",
   "execution_count": 360,
   "id": "89c4dc5a",
   "metadata": {},
   "outputs": [
    {
     "data": {
      "text/html": [
       "<div>\n",
       "<style scoped>\n",
       "    .dataframe tbody tr th:only-of-type {\n",
       "        vertical-align: middle;\n",
       "    }\n",
       "\n",
       "    .dataframe tbody tr th {\n",
       "        vertical-align: top;\n",
       "    }\n",
       "\n",
       "    .dataframe thead th {\n",
       "        text-align: right;\n",
       "    }\n",
       "</style>\n",
       "<table border=\"1\" class=\"dataframe\">\n",
       "  <thead>\n",
       "    <tr style=\"text-align: right;\">\n",
       "      <th></th>\n",
       "      <th>Confirmed</th>\n",
       "      <th>Recovered</th>\n",
       "      <th>Deaths</th>\n",
       "      <th>Letality_Rate_1</th>\n",
       "    </tr>\n",
       "    <tr>\n",
       "      <th>Country/Region</th>\n",
       "      <th></th>\n",
       "      <th></th>\n",
       "      <th></th>\n",
       "      <th></th>\n",
       "    </tr>\n",
       "  </thead>\n",
       "  <tbody>\n",
       "    <tr>\n",
       "      <th>Afghanistan</th>\n",
       "      <td>338</td>\n",
       "      <td>0</td>\n",
       "      <td>0</td>\n",
       "      <td>0.0</td>\n",
       "    </tr>\n",
       "    <tr>\n",
       "      <th>Albania</th>\n",
       "      <td>445</td>\n",
       "      <td>0</td>\n",
       "      <td>0</td>\n",
       "      <td>0.0</td>\n",
       "    </tr>\n",
       "    <tr>\n",
       "      <th>Algeria</th>\n",
       "      <td>72</td>\n",
       "      <td>0</td>\n",
       "      <td>0</td>\n",
       "      <td>0.0</td>\n",
       "    </tr>\n",
       "    <tr>\n",
       "      <th>Andorra</th>\n",
       "      <td>52</td>\n",
       "      <td>0</td>\n",
       "      <td>0</td>\n",
       "      <td>0.0</td>\n",
       "    </tr>\n",
       "    <tr>\n",
       "      <th>Angola</th>\n",
       "      <td>0</td>\n",
       "      <td>0</td>\n",
       "      <td>0</td>\n",
       "      <td>0.0</td>\n",
       "    </tr>\n",
       "  </tbody>\n",
       "</table>\n",
       "</div>"
      ],
      "text/plain": [
       "                Confirmed  Recovered  Deaths  Letality_Rate_1\n",
       "Country/Region                                               \n",
       "Afghanistan           338          0       0              0.0\n",
       "Albania               445          0       0              0.0\n",
       "Algeria                72          0       0              0.0\n",
       "Andorra                52          0       0              0.0\n",
       "Angola                  0          0       0              0.0"
      ]
     },
     "execution_count": 360,
     "metadata": {},
     "output_type": "execute_result"
    }
   ],
   "source": [
    "letality_rate_1 = (combined['Deaths'] / combined['Confirmed'] * 100).round(2)\n",
    "combined['Letality_Rate_1'] = letality_rate_1.fillna(0)\n",
    "combined.head()"
   ]
  },
  {
   "cell_type": "code",
   "execution_count": 361,
   "id": "01fd9707",
   "metadata": {},
   "outputs": [
    {
     "data": {
      "text/html": [
       "<div>\n",
       "<style scoped>\n",
       "    .dataframe tbody tr th:only-of-type {\n",
       "        vertical-align: middle;\n",
       "    }\n",
       "\n",
       "    .dataframe tbody tr th {\n",
       "        vertical-align: top;\n",
       "    }\n",
       "\n",
       "    .dataframe thead th {\n",
       "        text-align: right;\n",
       "    }\n",
       "</style>\n",
       "<table border=\"1\" class=\"dataframe\">\n",
       "  <thead>\n",
       "    <tr style=\"text-align: right;\">\n",
       "      <th></th>\n",
       "      <th>Confirmed</th>\n",
       "      <th>Recovered</th>\n",
       "      <th>Deaths</th>\n",
       "      <th>Letality_Rate_1</th>\n",
       "      <th>Letality_Rate_2</th>\n",
       "    </tr>\n",
       "    <tr>\n",
       "      <th>Country/Region</th>\n",
       "      <th></th>\n",
       "      <th></th>\n",
       "      <th></th>\n",
       "      <th></th>\n",
       "      <th></th>\n",
       "    </tr>\n",
       "  </thead>\n",
       "  <tbody>\n",
       "    <tr>\n",
       "      <th>Afghanistan</th>\n",
       "      <td>338</td>\n",
       "      <td>0</td>\n",
       "      <td>0</td>\n",
       "      <td>0.0</td>\n",
       "      <td>0.0</td>\n",
       "    </tr>\n",
       "    <tr>\n",
       "      <th>Albania</th>\n",
       "      <td>445</td>\n",
       "      <td>0</td>\n",
       "      <td>0</td>\n",
       "      <td>0.0</td>\n",
       "      <td>0.0</td>\n",
       "    </tr>\n",
       "    <tr>\n",
       "      <th>Algeria</th>\n",
       "      <td>72</td>\n",
       "      <td>0</td>\n",
       "      <td>0</td>\n",
       "      <td>0.0</td>\n",
       "      <td>0.0</td>\n",
       "    </tr>\n",
       "    <tr>\n",
       "      <th>Andorra</th>\n",
       "      <td>52</td>\n",
       "      <td>0</td>\n",
       "      <td>0</td>\n",
       "      <td>0.0</td>\n",
       "      <td>0.0</td>\n",
       "    </tr>\n",
       "    <tr>\n",
       "      <th>Angola</th>\n",
       "      <td>0</td>\n",
       "      <td>0</td>\n",
       "      <td>0</td>\n",
       "      <td>0.0</td>\n",
       "      <td>0.0</td>\n",
       "    </tr>\n",
       "  </tbody>\n",
       "</table>\n",
       "</div>"
      ],
      "text/plain": [
       "                Confirmed  Recovered  Deaths  Letality_Rate_1  Letality_Rate_2\n",
       "Country/Region                                                                \n",
       "Afghanistan           338          0       0              0.0              0.0\n",
       "Albania               445          0       0              0.0              0.0\n",
       "Algeria                72          0       0              0.0              0.0\n",
       "Andorra                52          0       0              0.0              0.0\n",
       "Angola                  0          0       0              0.0              0.0"
      ]
     },
     "execution_count": 361,
     "metadata": {},
     "output_type": "execute_result"
    }
   ],
   "source": [
    "letality_rate_2 = (combined['Deaths'] / (combined['Recovered'] + combined['Deaths']) * 100).round(2)\n",
    "combined['Letality_Rate_2'] = letality_rate_2.fillna(0)\n",
    "combined.head()"
   ]
  },
  {
   "cell_type": "code",
   "execution_count": 362,
   "id": "5512a1a3",
   "metadata": {},
   "outputs": [
    {
     "data": {
      "text/html": [
       "<div>\n",
       "<style scoped>\n",
       "    .dataframe tbody tr th:only-of-type {\n",
       "        vertical-align: middle;\n",
       "    }\n",
       "\n",
       "    .dataframe tbody tr th {\n",
       "        vertical-align: top;\n",
       "    }\n",
       "\n",
       "    .dataframe thead th {\n",
       "        text-align: right;\n",
       "    }\n",
       "</style>\n",
       "<table border=\"1\" class=\"dataframe\">\n",
       "  <thead>\n",
       "    <tr style=\"text-align: right;\">\n",
       "      <th></th>\n",
       "      <th>Confirmed</th>\n",
       "      <th>Recovered</th>\n",
       "      <th>Deaths</th>\n",
       "      <th>Letality_Rate_1</th>\n",
       "      <th>Letality_Rate_2</th>\n",
       "    </tr>\n",
       "    <tr>\n",
       "      <th>Country/Region</th>\n",
       "      <th></th>\n",
       "      <th></th>\n",
       "      <th></th>\n",
       "      <th></th>\n",
       "      <th></th>\n",
       "    </tr>\n",
       "  </thead>\n",
       "  <tbody>\n",
       "    <tr>\n",
       "      <th>South Africa</th>\n",
       "      <td>246</td>\n",
       "      <td>0</td>\n",
       "      <td>18</td>\n",
       "      <td>7.32</td>\n",
       "      <td>6.82</td>\n",
       "    </tr>\n",
       "    <tr>\n",
       "      <th>Sri Lanka</th>\n",
       "      <td>105</td>\n",
       "      <td>0</td>\n",
       "      <td>5</td>\n",
       "      <td>4.76</td>\n",
       "      <td>4.55</td>\n",
       "    </tr>\n",
       "    <tr>\n",
       "      <th>Trinidad and Tobago</th>\n",
       "      <td>175</td>\n",
       "      <td>0</td>\n",
       "      <td>5</td>\n",
       "      <td>2.86</td>\n",
       "      <td>2.78</td>\n",
       "    </tr>\n",
       "    <tr>\n",
       "      <th>Barbados</th>\n",
       "      <td>221</td>\n",
       "      <td>0</td>\n",
       "      <td>5</td>\n",
       "      <td>2.26</td>\n",
       "      <td>2.21</td>\n",
       "    </tr>\n",
       "    <tr>\n",
       "      <th>Canada</th>\n",
       "      <td>3777</td>\n",
       "      <td>0</td>\n",
       "      <td>82</td>\n",
       "      <td>2.17</td>\n",
       "      <td>2.12</td>\n",
       "    </tr>\n",
       "    <tr>\n",
       "      <th>...</th>\n",
       "      <td>...</td>\n",
       "      <td>...</td>\n",
       "      <td>...</td>\n",
       "      <td>...</td>\n",
       "      <td>...</td>\n",
       "    </tr>\n",
       "    <tr>\n",
       "      <th>Guinea-Bissau</th>\n",
       "      <td>0</td>\n",
       "      <td>0</td>\n",
       "      <td>0</td>\n",
       "      <td>0.00</td>\n",
       "      <td>0.00</td>\n",
       "    </tr>\n",
       "    <tr>\n",
       "      <th>Guyana</th>\n",
       "      <td>0</td>\n",
       "      <td>0</td>\n",
       "      <td>0</td>\n",
       "      <td>0.00</td>\n",
       "      <td>0.00</td>\n",
       "    </tr>\n",
       "    <tr>\n",
       "      <th>Haiti</th>\n",
       "      <td>0</td>\n",
       "      <td>0</td>\n",
       "      <td>0</td>\n",
       "      <td>0.00</td>\n",
       "      <td>0.00</td>\n",
       "    </tr>\n",
       "    <tr>\n",
       "      <th>Holy See</th>\n",
       "      <td>0</td>\n",
       "      <td>0</td>\n",
       "      <td>0</td>\n",
       "      <td>0.00</td>\n",
       "      <td>0.00</td>\n",
       "    </tr>\n",
       "    <tr>\n",
       "      <th>Zimbabwe</th>\n",
       "      <td>0</td>\n",
       "      <td>0</td>\n",
       "      <td>0</td>\n",
       "      <td>0.00</td>\n",
       "      <td>0.00</td>\n",
       "    </tr>\n",
       "  </tbody>\n",
       "</table>\n",
       "<p>199 rows × 5 columns</p>\n",
       "</div>"
      ],
      "text/plain": [
       "                     Confirmed  Recovered  Deaths  Letality_Rate_1  \\\n",
       "Country/Region                                                       \n",
       "South Africa               246          0      18             7.32   \n",
       "Sri Lanka                  105          0       5             4.76   \n",
       "Trinidad and Tobago        175          0       5             2.86   \n",
       "Barbados                   221          0       5             2.26   \n",
       "Canada                    3777          0      82             2.17   \n",
       "...                        ...        ...     ...              ...   \n",
       "Guinea-Bissau                0          0       0             0.00   \n",
       "Guyana                       0          0       0             0.00   \n",
       "Haiti                        0          0       0             0.00   \n",
       "Holy See                     0          0       0             0.00   \n",
       "Zimbabwe                     0          0       0             0.00   \n",
       "\n",
       "                     Letality_Rate_2  \n",
       "Country/Region                        \n",
       "South Africa                    6.82  \n",
       "Sri Lanka                       4.55  \n",
       "Trinidad and Tobago             2.78  \n",
       "Barbados                        2.21  \n",
       "Canada                          2.12  \n",
       "...                              ...  \n",
       "Guinea-Bissau                   0.00  \n",
       "Guyana                          0.00  \n",
       "Haiti                           0.00  \n",
       "Holy See                        0.00  \n",
       "Zimbabwe                        0.00  \n",
       "\n",
       "[199 rows x 5 columns]"
      ]
     },
     "execution_count": 362,
     "metadata": {},
     "output_type": "execute_result"
    }
   ],
   "source": [
    "combined.sort_values('Letality_Rate_1', ascending = False)"
   ]
  },
  {
   "cell_type": "markdown",
   "id": "70545f3f",
   "metadata": {},
   "source": [
    "## Scatter "
   ]
  },
  {
   "cell_type": "code",
   "execution_count": 363,
   "id": "da0e0ef0",
   "metadata": {},
   "outputs": [
    {
     "data": {
      "text/plain": [
       "<AxesSubplot:xlabel='Confirmed', ylabel='Letality_Rate_1'>"
      ]
     },
     "execution_count": 363,
     "metadata": {},
     "output_type": "execute_result"
    },
    {
     "data": {
      "image/png": "[encoded data removed]",
      "text/plain": [
       "<Figure size 432x288 with 1 Axes>"
      ]
     },
     "metadata": {
      "needs_background": "light"
     },
     "output_type": "display_data"
    }
   ],
   "source": [
    "import seaborn as sns\n",
    "\n",
    "sns.scatterplot(data = combined.query('Confirmed < 50000'), x = 'Confirmed', y = 'Letality_Rate_1')"
   ]
  },
  {
   "cell_type": "code",
   "execution_count": 364,
   "id": "7b5e0068",
   "metadata": {},
   "outputs": [
    {
     "data": {
      "text/plain": [
       "<AxesSubplot:xlabel='Confirmed', ylabel='Letality_Rate_2'>"
      ]
     },
     "execution_count": 364,
     "metadata": {},
     "output_type": "execute_result"
    },
    {
     "data": {
      "image/png": "[encoded data removed]",
      "text/plain": [
       "<Figure size 432x288 with 1 Axes>"
      ]
     },
     "metadata": {
      "needs_background": "light"
     },
     "output_type": "display_data"
    }
   ],
   "source": [
    "sns.scatterplot(data = combined.query('Confirmed < 50000'), x = 'Confirmed', y = 'Letality_Rate_2')"
   ]
  },
  {
   "cell_type": "code",
   "execution_count": 365,
   "id": "5972a139",
   "metadata": {},
   "outputs": [
    {
     "data": {
      "text/plain": [
       "<AxesSubplot:xlabel='Letality_Rate_1', ylabel='Count'>"
      ]
     },
     "execution_count": 365,
     "metadata": {},
     "output_type": "execute_result"
    },
    {
     "data": {
      "image/png": "[encoded data removed]",
      "text/plain": [
       "<Figure size 432x288 with 1 Axes>"
      ]
     },
     "metadata": {
      "needs_background": "light"
     },
     "output_type": "display_data"
    }
   ],
   "source": [
    "sns.histplot(combined.query('Confirmed < 50000'), x = 'Letality_Rate_1')"
   ]
  },
  {
   "cell_type": "markdown",
   "id": "c62272d9",
   "metadata": {},
   "source": [
    "# <font color='red' style='font-size: 30px;'>1.6 Comparation and Analysis</font>\n",
    "<hr style='border: 2px solid red;'>"
   ]
  },
  {
   "cell_type": "code",
   "execution_count": 367,
   "id": "b91169f7",
   "metadata": {},
   "outputs": [],
   "source": [
    "def latest_day_by_country_at(data, date):\n",
    "    # Taking cases from the day before yesterday\n",
    "    # United Kingdom - There is a problem in last_day\n",
    "    return data.groupby('Country/Region').sum()[date]"
   ]
  },
  {
   "cell_type": "code",
   "execution_count": 418,
   "id": "cfc9d4b9",
   "metadata": {},
   "outputs": [
    {
     "name": "stdout",
     "output_type": "stream",
     "text": [
      "3.67 %\n",
      "5.34 %\n"
     ]
    }
   ],
   "source": [
    "informations_covid_by_country = [\n",
    "    latest_day_by_country_at(confirmed, '8/25/20'),\n",
    "    latest_day_by_country_at(recovered, '8/25/20'),\n",
    "    latest_day_by_country_at(deaths, '8/25/20')\n",
    "]\n",
    "combined_8_25_20 = pd.concat(informations_covid_by_country, axis = 1)\n",
    "combined_8_25_20.columns = ['Confirmed', 'Recovered', 'Deaths']\n",
    "\n",
    "sum_up = combined_8_25_20.sum()\n",
    "\n",
    "letality_rate_1 = (sum_up['Deaths'] / sum_up['Confirmed'] * 100).round(2)\n",
    "letality_rate_2 = (sum_up['Deaths'] / (sum_up['Recovered'] + sum_up['Deaths']) * 100).round(2)\n",
    "\n",
    "\n",
    "print(letality_rate_1,  '%')\n",
    "print(letality_rate_2,  '%')"
   ]
  },
  {
   "cell_type": "markdown",
   "id": "b86b1e80",
   "metadata": {},
   "source": [
    "## Comparing deaths with 12 days ago"
   ]
  },
  {
   "cell_type": "code",
   "execution_count": 420,
   "id": "ea154129",
   "metadata": {},
   "outputs": [
    {
     "name": "stdout",
     "output_type": "stream",
     "text": [
      "4.06 %\n"
     ]
    }
   ],
   "source": [
    "informations_covid_by_country = [\n",
    "    latest_day_by_country_at(confirmed, '8/13/20'),\n",
    "    latest_day_by_country_at(recovered, '8/25/20'),\n",
    "    latest_day_by_country_at(deaths, '8/20/20')\n",
    "]\n",
    "combined_12 = pd.concat(informations_covid_by_country, axis = 1)\n",
    "combined_12.columns = ['Confirmed', 'Recovered', 'Deaths']\n",
    "\n",
    "sum_up = combined_12.sum()\n",
    "\n",
    "letality_rate_1 = (sum_up['Deaths'] / sum_up['Confirmed'] * 100).round(2)\n",
    "\n",
    "print(letality_rate_1,  '%')"
   ]
  },
  {
   "cell_type": "code",
   "execution_count": null,
   "id": "d4a21c22",
   "metadata": {},
   "outputs": [],
   "source": []
  }
 ],
 "metadata": {
  "kernelspec": {
   "display_name": "Python 3 (ipykernel)",
   "language": "python",
   "name": "python3"
  },
  "language_info": {
   "codemirror_mode": {
    "name": "ipython",
    "version": 3
   },
   "file_extension": ".py",
   "mimetype": "text/x-python",
   "name": "python",
   "nbconvert_exporter": "python",
   "pygments_lexer": "ipython3",
   "version": "3.10.4"
  }
 },
 "nbformat": 4,
 "nbformat_minor": 5
}
