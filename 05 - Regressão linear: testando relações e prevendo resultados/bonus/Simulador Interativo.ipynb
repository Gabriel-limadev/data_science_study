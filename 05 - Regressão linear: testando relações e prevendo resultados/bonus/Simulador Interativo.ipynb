{
 "cells": [
  {
   "cell_type": "markdown",
   "metadata": {},
   "source": [
    "<h1 style='color: green; font-size: 36px; font-weight: bold;'>Data Science - Regressão Linear</h1>"
   ]
  },
  {
   "cell_type": "markdown",
   "metadata": {},
   "source": [
    "# <font color='red' style='font-size: 30px;'>Bônus</font>\n",
    "<hr style='border: 2px solid red;'>"
   ]
  },
  {
   "cell_type": "markdown",
   "metadata": {},
   "source": [
    "## Importando nosso modelo"
   ]
  },
  {
   "cell_type": "code",
   "execution_count": 2,
   "metadata": {},
   "outputs": [
    {
     "name": "stdout",
     "output_type": "stream",
     "text": [
      "$ 46144.17 dolars\n"
     ]
    },
    {
     "name": "stderr",
     "output_type": "stream",
     "text": [
      "/home/gabriel-liamdev/anaconda3/envs/learn_pandas/lib/python3.10/site-packages/sklearn/base.py:450: UserWarning: X does not have valid feature names, but LinearRegression was fitted with feature names\n",
      "  warnings.warn(\n"
     ]
    }
   ],
   "source": [
    "import pickle\n",
    "\n",
    "with open('../final course project/price_model','rb') as model:\n",
    "    lm_new = pickle.load(model)\n",
    "\n",
    "area = 28\n",
    "garage = 2\n",
    "bathrooms = 4\n",
    "fireplace = 4\n",
    "marble = 0\n",
    "floors = 1\n",
    "entry = [[area, garage, bathrooms, fireplace, marble, floors]]\n",
    "\n",
    "print(f'$ {lm_new.predict(entry)[0]:.2f} dolars')"
   ]
  },
  {
   "cell_type": "markdown",
   "metadata": {},
   "source": [
    "## Exemplo de um simulador interativo para Jupyter\n",
    "\n",
    "https://ipywidgets.readthedocs.io/en/stable/index.html\n",
    "\n",
    "https://github.com/jupyter-widgets/ipywidgets"
   ]
  },
  {
   "cell_type": "code",
   "execution_count": 13,
   "metadata": {},
   "outputs": [],
   "source": [
    "# Importing librays\n",
    "from ipywidgets import widgets, HBox, VBox\n",
    "from IPython.display import display\n",
    "\n",
    "# Creating forms controls\n",
    "area = widgets.Text(description=\"Area\")\n",
    "garage = widgets.Text(description=\"Garage\")\n",
    "bathrooms = widgets.Text(description=\"Bathrooms\")\n",
    "fireplace = widgets.Text(description=\"Fireplace\")\n",
    "marble = widgets.Text(description=\"Marble\")\n",
    "floors = widgets.Text(description=\"Floors\")\n",
    "\n",
    "button = widgets.Button(description=\"Simulate\")\n",
    "\n",
    "# Positioning controls\n",
    "left = VBox([area, bathrooms, marble])\n",
    "right = VBox([garage, fireplace, floors])\n",
    "inputs = HBox([left, right])\n",
    "\n",
    "# Function of simulation\n",
    "def simulator(sender):\n",
    "    entry=[[\n",
    "                float(area.value if area.value else 0), \n",
    "                float(garage.value if garage.value else 0), \n",
    "                float(bathrooms.value if bathrooms.value else 0), \n",
    "                float(fireplace.value if fireplace.value else 0), \n",
    "                float(marble.value if marble.value else 0), \n",
    "                float(floors.value if floors.value else 0)\n",
    "             ]]\n",
    "    print(f'$ {lm_new.predict(entry)[0]:.2f}')\n",
    "\n",
    "# Assigning the \"simulator\" function to the button's click event\n",
    "button.on_click(simulator)    "
   ]
  },
  {
   "cell_type": "code",
   "execution_count": 14,
   "metadata": {},
   "outputs": [
    {
     "data": {
      "application/vnd.jupyter.widget-view+json": {
       "model_id": "6bd709609b5d4a6e95f7840184f91e65",
       "version_major": 2,
       "version_minor": 0
      },
      "text/plain": [
       "HBox(children=(VBox(children=(Text(value='', description='Area'), Text(value='', description='Bathrooms'), Tex…"
      ]
     },
     "metadata": {},
     "output_type": "display_data"
    },
    {
     "data": {
      "application/vnd.jupyter.widget-view+json": {
       "model_id": "b99a7d2a79be4fb5830771b61067b5dd",
       "version_major": 2,
       "version_minor": 0
      },
      "text/plain": [
       "Button(description='Simulate', style=ButtonStyle())"
      ]
     },
     "metadata": {},
     "output_type": "display_data"
    },
    {
     "name": "stdout",
     "output_type": "stream",
     "text": [
      "$ 50961.83\n"
     ]
    },
    {
     "name": "stderr",
     "output_type": "stream",
     "text": [
      "/home/gabriel-liamdev/anaconda3/envs/learn_pandas/lib/python3.10/site-packages/sklearn/base.py:450: UserWarning: X does not have valid feature names, but LinearRegression was fitted with feature names\n",
      "  warnings.warn(\n"
     ]
    }
   ],
   "source": [
    "display(inputs, button)"
   ]
  },
  {
   "cell_type": "code",
   "execution_count": null,
   "metadata": {},
   "outputs": [],
   "source": []
  }
 ],
 "metadata": {
  "kernelspec": {
   "display_name": "Python 3 (ipykernel)",
   "language": "python",
   "name": "python3"
  },
  "language_info": {
   "codemirror_mode": {
    "name": "ipython",
    "version": 3
   },
   "file_extension": ".py",
   "mimetype": "text/x-python",
   "name": "python",
   "nbconvert_exporter": "python",
   "pygments_lexer": "ipython3",
   "version": "3.10.4"
  }
 },
 "nbformat": 4,
 "nbformat_minor": 2
}
